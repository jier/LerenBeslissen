{
 "cells": [
  {
   "cell_type": "code",
   "execution_count": 1,
   "metadata": {
    "collapsed": false,
    "scrolled": true
   },
   "outputs": [
    {
     "name": "stdout",
     "output_type": "stream",
     "text": [
      "Done\n"
     ]
    }
   ],
   "source": [
    "import numpy as np\n",
    "import csv\n",
    "import pandas as pd\n",
    "from sklearn.preprocessing import StandardScaler\n",
    "from sklearn.neighbors import KNeighborsClassifier, KNeighborsRegressor\n",
    "from sklearn.preprocessing import LabelEncoder\n",
    "\n",
    "\n",
    "#reads in the data\n",
    "data = pd.read_csv('movie_metadata.csv')\n",
    "\n",
    "#removes the values that aren't numeric\n",
    "to_drop = ['director_name', 'num_critic_for_reviews', 'actor_2_name','actor_1_name', 'movie_title', 'num_voted_users'\n",
    "           , 'actor_3_name', 'plot_keywords', 'movie_imdb_link', 'num_user_for_reviews', 'content_rating']\n",
    "\n",
    "#makes the new data set without the to_drop colums\n",
    "features_list = data.columns.difference(to_drop)\n",
    "movie_data = data[features_list]\n",
    "#print(np.sum(movie_num.isnull()))\n",
    "#print(movie_data.content_rating.unique())\n",
    "pd.options.mode.chained_assignment = None \n",
    "   \n",
    "print('Done')"
   ]
  },
  {
   "cell_type": "markdown",
   "metadata": {},
   "source": [
    "# Changing Genres into individual Columns"
   ]
  },
  {
   "cell_type": "code",
   "execution_count": 2,
   "metadata": {
    "collapsed": false,
    "scrolled": true
   },
   "outputs": [
    {
     "name": "stdout",
     "output_type": "stream",
     "text": [
      "set(['Sci-Fi', 'Crime', 'Romance', 'Animation', 'Music', 'Comedy', 'War', 'Horror', 'Film-Noir', 'Adventure', 'News', 'Reality-TV', 'Thriller', 'Western', 'Mystery', 'Short', 'Drama', 'Action', 'Documentary', 'Musical', 'History', 'Family', 'Fantasy', 'Game-Show', 'Sport', 'Biography'])\n"
     ]
    }
   ],
   "source": [
    "genres = []\n",
    "\n",
    "for string in movie_data['genres']:\n",
    "    genre = string.split('|')\n",
    "    genres = genres+genre\n",
    "    \n",
    "genres_set = set(genres)\n",
    "print(genres_set)"
   ]
  },
  {
   "cell_type": "code",
   "execution_count": 3,
   "metadata": {
    "collapsed": false,
    "scrolled": true
   },
   "outputs": [
    {
     "name": "stdout",
     "output_type": "stream",
     "text": [
      "Done\n"
     ]
    }
   ],
   "source": [
    "genres_dict = dict()\n",
    "for genre in genres_set:\n",
    "    genres_dict[genre] = []\n",
    "    \n",
    "for string in movie_data.genres:\n",
    "    genres = string.split('|')\n",
    "    for genre in genres_set:\n",
    "        if genre in genres:\n",
    "            genres_dict[genre] = genres_dict[genre]+[1]\n",
    "        else:\n",
    "            genres_dict[genre] = genres_dict[genre]+[0]\n",
    "\n",
    "del movie_data['genres']\n",
    "#print(genres_dict['Short'])\n",
    "\n",
    "for genre in genres_set:\n",
    "    series = pd.Series(genres_dict[genre])\n",
    "    movie_data[genre] = series\n",
    "\n",
    "#print(movie_data['Short'].values)    \n",
    "print('Done')"
   ]
  },
  {
   "cell_type": "markdown",
   "metadata": {},
   "source": [
    "# Deleting NaN's"
   ]
  },
  {
   "cell_type": "code",
   "execution_count": 4,
   "metadata": {
    "collapsed": false,
    "scrolled": true
   },
   "outputs": [
    {
     "name": "stdout",
     "output_type": "stream",
     "text": [
      "Length before deletion: 5043\n",
      "Length after deletion: 4927\n"
     ]
    }
   ],
   "source": [
    "NA_THRESH = 4\n",
    "\n",
    "#deletes the row when there are more or equal to the threshod number of NaN's\n",
    "def remove_too_many_NaN(data, threshold):\n",
    "    print(\"Length before deletion: {}\".format(len(data)))\n",
    "\n",
    "    remove_indices = []\n",
    "    for index, nNaN in data.isnull().sum(axis=1).iteritems():\n",
    "        if nNaN >= threshold:\n",
    "            remove_indices.append(index)\n",
    "    \n",
    "    # drop movies with too many NaNs\n",
    "    data = data.drop(data.index[remove_indices])\n",
    "    print(\"Length after deletion: {}\".format(len(data)))\n",
    "    \n",
    "    return data\n",
    "\n",
    "#returns length\n",
    "movie_data = remove_too_many_NaN(movie_data, NA_THRESH)"
   ]
  },
  {
   "cell_type": "code",
   "execution_count": 5,
   "metadata": {
    "collapsed": false
   },
   "outputs": [
    {
     "name": "stdout",
     "output_type": "stream",
     "text": [
      "6615.96954933\n",
      "1676.81555962\n",
      "651.352522376\n",
      "2.13102265372\n",
      "39838985.8163\n",
      "9802\n",
      "689.276128508\n",
      "48503328.2327\n",
      "2002.44376652\n",
      "108.152580252\n",
      "1.36561546287\n"
     ]
    }
   ],
   "source": [
    "def replace_NaNs(col):\n",
    "    # compute average\n",
    "    avg = np.sum(col) / (len(col) - np.sum(col.isnull()))\n",
    "    print(avg)\n",
    "    \n",
    "    # replace NaNs with average\n",
    "    col = col.fillna(value=avg)\n",
    "    return col\n",
    "\n",
    "pd.options.mode.chained_assignment= None\n",
    "\n",
    "to_replace_NaNs = ['actor_1_facebook_likes', 'actor_2_facebook_likes', 'actor_3_facebook_likes', \n",
    "               'aspect_ratio', 'budget', 'cast_total_facebook_likes', 'director_facebook_likes', 'gross', 'title_year'\n",
    "                   , 'duration', 'facenumber_in_poster']\n",
    "for column in to_replace_NaNs:\n",
    "    movie_data[column] = replace_NaNs(movie_data[column])\n"
   ]
  },
  {
   "cell_type": "markdown",
   "metadata": {},
   "source": [
    "# Changing Color to Numeric"
   ]
  },
  {
   "cell_type": "code",
   "execution_count": 6,
   "metadata": {
    "collapsed": false,
    "scrolled": true
   },
   "outputs": [
    {
     "name": "stdout",
     "output_type": "stream",
     "text": [
      "Done\n"
     ]
    }
   ],
   "source": [
    "#replaces the color value to 1\n",
    "movie_data.color = movie_data.color.replace(to_replace = 'Color', value = 1)\n",
    "movie_data.color = movie_data.color.replace(to_replace = 'NaN', value = 1)\n",
    "\n",
    "#replaces the NaN or black and white values to 0\n",
    "for item in movie_data.color:\n",
    "    if item != 1:\n",
    "        movie_data.color = movie_data.color.replace(to_replace = item, value = 0)\n",
    "        \n",
    "#movie_data.color = new_color_column \n",
    "#print(movie_data['color'])\n",
    "\n",
    "#makes sure that there is nog error where it shouldn't be\n",
    "pd.options.mode.chained_assignment= None\n",
    "print('Done')"
   ]
  },
  {
   "cell_type": "markdown",
   "metadata": {},
   "source": [
    "# Changing Country to Numeric"
   ]
  },
  {
   "cell_type": "code",
   "execution_count": 7,
   "metadata": {
    "collapsed": false,
    "scrolled": true
   },
   "outputs": [
    {
     "name": "stdout",
     "output_type": "stream",
     "text": [
      "Done\n"
     ]
    }
   ],
   "source": [
    "#replaces the USA values to 1\n",
    "movie_data.country = movie_data.country.replace(to_replace ='USA', value = 1)\n",
    "movie_data.country = movie_data.country.replace(to_replace ='NaN', value = 1)\n",
    "#replaces the NaN or non USA values to 0\n",
    "for item in movie_data.country:\n",
    "    if item != 1:\n",
    "        movie_data.country = movie_data.country.replace(to_replace = item, value = 0)\n",
    "       \n",
    "#print(movie_data['country'])\n",
    "\n",
    "#makes sure that there is nog error where it shouldn't be\n",
    "pd.options.mode.chained_assignment= None\n",
    "\n",
    "print('Done')"
   ]
  },
  {
   "cell_type": "markdown",
   "metadata": {},
   "source": [
    "# Changing Languange to Numeric"
   ]
  },
  {
   "cell_type": "code",
   "execution_count": 8,
   "metadata": {
    "collapsed": false,
    "scrolled": true
   },
   "outputs": [
    {
     "name": "stdout",
     "output_type": "stream",
     "text": [
      "Done\n"
     ]
    }
   ],
   "source": [
    "#replaces the English values to 1\n",
    "movie_data.language = movie_data.language.replace(to_replace = 'English', value = 1)\n",
    "movie_data.language = movie_data.language.replace(to_replace = 'NaN', value = 1)\n",
    "\n",
    "#replaces the other values to 0\n",
    "for item in movie_data.language:\n",
    "    if item != 1:\n",
    "        movie_data.language = movie_data.language.replace(to_replace = item, value = 0)\n",
    "        \n",
    "#print(movie_data['language'])\n",
    "\n",
    "#makes sure that there is nog error where it shouldn't be\n",
    "pd.options.mode.chained_assignment= None\n",
    "print('Done')"
   ]
  },
  {
   "cell_type": "markdown",
   "metadata": {},
   "source": [
    "# Chaning Content_Rating to Numeric"
   ]
  },
  {
   "cell_type": "code",
   "execution_count": 9,
   "metadata": {
    "collapsed": false,
    "scrolled": true
   },
   "outputs": [
    {
     "name": "stdout",
     "output_type": "stream",
     "text": [
      "      actor_1_facebook_likes  actor_2_facebook_likes  actor_3_facebook_likes  \\\n",
      "0                     1000.0                   936.0                   855.0   \n",
      "1                    40000.0                  5000.0                  1000.0   \n",
      "2                    11000.0                   393.0                   161.0   \n",
      "3                    27000.0                 23000.0                 23000.0   \n",
      "5                      640.0                   632.0                   530.0   \n",
      "6                    24000.0                 11000.0                  4000.0   \n",
      "7                      799.0                   553.0                   284.0   \n",
      "8                    26000.0                 21000.0                 19000.0   \n",
      "9                    25000.0                 11000.0                 10000.0   \n",
      "10                   15000.0                  4000.0                  2000.0   \n",
      "11                   18000.0                 10000.0                   903.0   \n",
      "12                     451.0                   412.0                   393.0   \n",
      "13                   40000.0                  5000.0                  1000.0   \n",
      "14                   40000.0                  2000.0                  1000.0   \n",
      "15                   15000.0                  3000.0                   748.0   \n",
      "16                   22000.0                   216.0                   201.0   \n",
      "17                   26000.0                 21000.0                 19000.0   \n",
      "18                   40000.0                 11000.0                  1000.0   \n",
      "19                   10000.0                   816.0                   718.0   \n",
      "20                    5000.0                   972.0                   773.0   \n",
      "21                   15000.0                 10000.0                   963.0   \n",
      "22                     891.0                   882.0                   738.0   \n",
      "23                    5000.0                   972.0                   773.0   \n",
      "24                   16000.0                  6000.0                  1000.0   \n",
      "25                    6000.0                   919.0                    84.0   \n",
      "26                   29000.0                 14000.0                   794.0   \n",
      "27                   21000.0                 19000.0                 11000.0   \n",
      "28                   14000.0                 10000.0                   627.0   \n",
      "29                    3000.0                  2000.0                  1000.0   \n",
      "30                     883.0                   563.0                   393.0   \n",
      "...                      ...                     ...                     ...   \n",
      "5012                  1000.0                   206.0                   120.0   \n",
      "5013                    93.0                    46.0                    42.0   \n",
      "5014                   986.0                   918.0                   492.0   \n",
      "5015                     5.0                     0.0                     0.0   \n",
      "5016                   313.0                    25.0                     9.0   \n",
      "5017                   370.0                   184.0                   138.0   \n",
      "5018                    51.0                    49.0                     4.0   \n",
      "5019                   630.0                   512.0                   265.0   \n",
      "5020                   720.0                    19.0                     8.0   \n",
      "5021                   830.0                   224.0                    10.0   \n",
      "5022                   147.0                    19.0                     4.0   \n",
      "5023                   331.0                   212.0                   211.0   \n",
      "5024                   407.0                    91.0                    86.0   \n",
      "5025                   462.0                   143.0                   105.0   \n",
      "5026                   576.0                   133.0                    45.0   \n",
      "5027                     5.0                     0.0                     0.0   \n",
      "5028                    10.0                     5.0                     0.0   \n",
      "5029                    89.0                    13.0                     6.0   \n",
      "5030                    21.0                    20.0                    12.0   \n",
      "5031                   785.0                    98.0                    84.0   \n",
      "5032                   789.0                   194.0                   152.0   \n",
      "5033                   291.0                    45.0                     8.0   \n",
      "5034                     0.0                     0.0                     0.0   \n",
      "5035                   121.0                    20.0                     6.0   \n",
      "5036                    45.0                    44.0                     2.0   \n",
      "5037                   296.0                   205.0                   133.0   \n",
      "5038                   637.0                   470.0                   318.0   \n",
      "5040                     0.0                     0.0                     0.0   \n",
      "5041                   946.0                   719.0                   489.0   \n",
      "5042                    86.0                    23.0                    16.0   \n",
      "\n",
      "      aspect_ratio        budget  cast_total_facebook_likes  color  country  \\\n",
      "0         1.780000  2.370000e+08                       4834    1.0        1   \n",
      "1         2.350000  3.000000e+08                      48350    1.0        1   \n",
      "2         2.350000  2.450000e+08                      11700    1.0        0   \n",
      "3         2.350000  2.500000e+08                     106759    1.0        1   \n",
      "5         2.350000  2.637000e+08                       1873    1.0        1   \n",
      "6         2.350000  2.580000e+08                      46055    1.0        1   \n",
      "7         1.850000  2.600000e+08                       2036    1.0        1   \n",
      "8         2.350000  2.500000e+08                      92000    1.0        1   \n",
      "9         2.350000  2.500000e+08                      58753    1.0        0   \n",
      "10        2.350000  2.500000e+08                      24450    1.0        1   \n",
      "11        2.350000  2.090000e+08                      29991    1.0        1   \n",
      "12        2.350000  2.000000e+08                       2023    1.0        0   \n",
      "13        2.350000  2.250000e+08                      48486    1.0        1   \n",
      "14        2.350000  2.150000e+08                      45757    1.0        1   \n",
      "15        2.350000  2.250000e+08                      20495    1.0        1   \n",
      "16        2.350000  2.250000e+08                      22697    1.0        1   \n",
      "17        1.850000  2.200000e+08                      87697    1.0        1   \n",
      "18        2.350000  2.500000e+08                      54083    1.0        1   \n",
      "19        1.850000  2.250000e+08                      12572    1.0        1   \n",
      "20        2.350000  2.500000e+08                       9152    1.0        0   \n",
      "21        2.350000  2.300000e+08                      28489    1.0        1   \n",
      "22        2.350000  2.000000e+08                       3244    1.0        1   \n",
      "23        2.350000  2.250000e+08                       9152    1.0        1   \n",
      "24        2.350000  1.800000e+08                      24106    1.0        1   \n",
      "25        2.350000  2.070000e+08                       7123    1.0        0   \n",
      "26        2.350000  2.000000e+08                      45223    1.0        1   \n",
      "27        2.350000  2.500000e+08                      64798    1.0        1   \n",
      "28        2.350000  2.090000e+08                      26679    1.0        1   \n",
      "29        2.000000  1.500000e+08                       8458    1.0        1   \n",
      "30        2.350000  2.000000e+08                       2039    1.0        0   \n",
      "...            ...           ...                        ...    ...      ...   \n",
      "5012      1.850000  3.500000e+07                       1458    1.0        1   \n",
      "5013      1.780000  2.400000e+04                        243    1.0        1   \n",
      "5014      2.350000  3.983899e+07                       3197    1.0        0   \n",
      "5015      1.370000  2.300000e+04                          5    0.0        1   \n",
      "5016      2.131023  2.500000e+04                        366    1.0        1   \n",
      "5017      1.780000  2.200000e+04                        841    1.0        1   \n",
      "5018      1.850000  2.000000e+04                        108    1.0        1   \n",
      "5019      1.850000  3.983899e+07                       2679    1.0        1   \n",
      "5020      2.131023  1.735000e+04                        770    0.0        1   \n",
      "5021      2.131023  1.500000e+04                       1064    1.0        1   \n",
      "5022      2.131023  1.500000e+04                        170    0.0        0   \n",
      "5023      2.350000  1.500000e+04                       1546    1.0        1   \n",
      "5024      2.350000  2.000000e+04                        674    1.0        1   \n",
      "5025      1.370000  1.000000e+04                        760    1.0        1   \n",
      "5026      2.350000  4.500000e+03                        776    1.0        0   \n",
      "5027      1.850000  1.000000e+04                          5    1.0        0   \n",
      "5028      1.330000  1.000000e+04                         15    0.0        0   \n",
      "5029      1.850000  1.000000e+06                        115    1.0        0   \n",
      "5030      2.131023  3.983899e+07                         62    1.0        1   \n",
      "5031     16.000000  2.000000e+05                       1111    1.0        1   \n",
      "5032      2.131023  3.983899e+07                       1186    1.0        1   \n",
      "5033      1.850000  7.000000e+03                        368    1.0        1   \n",
      "5034      2.131023  7.000000e+03                          0    1.0        0   \n",
      "5035      1.370000  7.000000e+03                        147    1.0        1   \n",
      "5036      2.131023  3.250000e+03                         93    1.0        1   \n",
      "5037      2.131023  9.000000e+03                        690    1.0        1   \n",
      "5038      2.131023  3.983899e+07                       2283    1.0        0   \n",
      "5040      2.131023  1.400000e+03                          0    1.0        1   \n",
      "5041      2.350000  3.983899e+07                       2386    1.0        1   \n",
      "5042      1.850000  1.100000e+03                        163    1.0        1   \n",
      "\n",
      "      director_facebook_likes  duration    ...      Drama  Action  \\\n",
      "0                         0.0     178.0    ...          0       1   \n",
      "1                       563.0     169.0    ...          0       1   \n",
      "2                         0.0     148.0    ...          0       1   \n",
      "3                     22000.0     164.0    ...          0       1   \n",
      "5                       475.0     132.0    ...          0       1   \n",
      "6                         0.0     156.0    ...          0       1   \n",
      "7                        15.0     100.0    ...          0       0   \n",
      "8                         0.0     141.0    ...          0       1   \n",
      "9                       282.0     153.0    ...          0       0   \n",
      "10                        0.0     183.0    ...          0       1   \n",
      "11                        0.0     169.0    ...          0       1   \n",
      "12                      395.0     106.0    ...          0       1   \n",
      "13                      563.0     151.0    ...          0       1   \n",
      "14                      563.0     150.0    ...          0       1   \n",
      "15                        0.0     143.0    ...          0       1   \n",
      "16                       80.0     150.0    ...          0       1   \n",
      "17                        0.0     173.0    ...          0       1   \n",
      "18                      252.0     136.0    ...          0       1   \n",
      "19                      188.0     106.0    ...          0       1   \n",
      "20                        0.0     164.0    ...          0       0   \n",
      "21                      464.0     153.0    ...          0       1   \n",
      "22                        0.0     156.0    ...          1       1   \n",
      "23                        0.0     186.0    ...          0       0   \n",
      "24                      129.0     113.0    ...          0       0   \n",
      "25                        0.0     201.0    ...          1       1   \n",
      "26                        0.0     194.0    ...          1       0   \n",
      "27                       94.0     147.0    ...          0       1   \n",
      "28                      532.0     131.0    ...          0       1   \n",
      "29                      365.0     124.0    ...          0       1   \n",
      "30                        0.0     143.0    ...          0       1   \n",
      "...                       ...       ...    ...        ...     ...   \n",
      "5012                    453.0     109.0    ...          1       1   \n",
      "5013                      3.0      79.0    ...          1       0   \n",
      "5014                    892.0      80.0    ...          0       1   \n",
      "5015                      0.0     100.0    ...          1       0   \n",
      "5016                      0.0      90.0    ...          1       0   \n",
      "5017                    138.0      90.0    ...          0       0   \n",
      "5018                    589.0     120.0    ...          1       0   \n",
      "5019                    158.0      91.0    ...          0       0   \n",
      "5020                      8.0     143.0    ...          1       0   \n",
      "5021                    157.0      85.0    ...          1       0   \n",
      "5022                      0.0      60.0    ...          1       0   \n",
      "5023                     38.0      88.0    ...          0       0   \n",
      "5024                     91.0      78.0    ...          0       0   \n",
      "5025                      0.0     108.0    ...          0       0   \n",
      "5026                    107.0     110.0    ...          1       0   \n",
      "5027                    397.0      90.0    ...          1       0   \n",
      "5028                     18.0      83.0    ...          0       0   \n",
      "5029                     62.0     111.0    ...          0       0   \n",
      "5030                      5.0      84.0    ...          1       0   \n",
      "5031                    120.0      82.0    ...          0       0   \n",
      "5032                      3.0      98.0    ...          1       0   \n",
      "5033                    291.0      77.0    ...          1       0   \n",
      "5034                      0.0      80.0    ...          0       0   \n",
      "5035                      0.0      81.0    ...          1       1   \n",
      "5036                      2.0      84.0    ...          1       0   \n",
      "5037                      0.0      95.0    ...          1       0   \n",
      "5038                      2.0      87.0    ...          1       0   \n",
      "5040                      0.0      76.0    ...          1       0   \n",
      "5041                      0.0     100.0    ...          1       0   \n",
      "5042                     16.0      90.0    ...          0       0   \n",
      "\n",
      "      Documentary  Musical  History  Family  Fantasy  Game-Show  Sport  \\\n",
      "0               0        0        0       0        1          0      0   \n",
      "1               0        0        0       0        1          0      0   \n",
      "2               0        0        0       0        0          0      0   \n",
      "3               0        0        0       0        0          0      0   \n",
      "5               0        0        0       0        0          0      0   \n",
      "6               0        0        0       0        0          0      0   \n",
      "7               0        1        0       1        1          0      0   \n",
      "8               0        0        0       0        0          0      0   \n",
      "9               0        0        0       1        1          0      0   \n",
      "10              0        0        0       0        0          0      0   \n",
      "11              0        0        0       0        0          0      0   \n",
      "12              0        0        0       0        0          0      0   \n",
      "13              0        0        0       0        1          0      0   \n",
      "14              0        0        0       0        0          0      0   \n",
      "15              0        0        0       0        1          0      0   \n",
      "16              0        0        0       1        1          0      0   \n",
      "17              0        0        0       0        0          0      0   \n",
      "18              0        0        0       0        1          0      0   \n",
      "19              0        0        0       1        1          0      0   \n",
      "20              0        0        0       0        1          0      0   \n",
      "21              0        0        0       0        1          0      0   \n",
      "22              0        0        1       0        0          0      0   \n",
      "23              0        0        0       0        1          0      0   \n",
      "24              0        0        0       1        1          0      0   \n",
      "25              0        0        0       0        0          0      0   \n",
      "26              0        0        0       0        0          0      0   \n",
      "27              0        0        0       0        0          0      0   \n",
      "28              0        0        0       0        0          0      0   \n",
      "29              0        0        0       0        0          0      0   \n",
      "30              0        0        0       0        0          0      0   \n",
      "...           ...      ...      ...     ...      ...        ...    ...   \n",
      "5012            0        0        0       0        0          0      0   \n",
      "5013            0        0        0       1        0          0      0   \n",
      "5014            0        0        0       0        0          0      0   \n",
      "5015            0        0        0       0        0          0      0   \n",
      "5016            0        0        0       0        0          0      0   \n",
      "5017            0        0        0       0        0          0      0   \n",
      "5018            0        0        0       0        0          0      0   \n",
      "5019            0        0        0       0        0          0      0   \n",
      "5020            0        0        0       0        0          0      0   \n",
      "5021            0        0        0       0        0          0      0   \n",
      "5022            0        0        0       0        0          0      0   \n",
      "5023            0        0        0       0        0          0      0   \n",
      "5024            0        0        0       0        0          0      0   \n",
      "5025            0        0        0       0        0          0      0   \n",
      "5026            0        0        0       0        0          0      0   \n",
      "5027            0        0        0       0        0          0      0   \n",
      "5028            0        0        0       0        0          0      0   \n",
      "5029            0        0        0       0        0          0      0   \n",
      "5030            0        0        0       0        0          0      0   \n",
      "5031            0        0        0       0        0          0      0   \n",
      "5032            0        0        0       0        0          0      0   \n",
      "5033            0        0        0       0        0          0      0   \n",
      "5034            0        0        0       0        0          0      0   \n",
      "5035            0        0        0       0        0          0      0   \n",
      "5036            0        0        0       0        0          0      0   \n",
      "5037            0        0        0       0        0          0      0   \n",
      "5038            0        0        0       0        0          0      0   \n",
      "5040            0        0        0       0        0          0      0   \n",
      "5041            0        0        0       0        0          0      0   \n",
      "5042            1        0        0       0        0          0      0   \n",
      "\n",
      "      Biography  \n",
      "0             0  \n",
      "1             0  \n",
      "2             0  \n",
      "3             0  \n",
      "5             0  \n",
      "6             0  \n",
      "7             0  \n",
      "8             0  \n",
      "9             0  \n",
      "10            0  \n",
      "11            0  \n",
      "12            0  \n",
      "13            0  \n",
      "14            0  \n",
      "15            0  \n",
      "16            0  \n",
      "17            0  \n",
      "18            0  \n",
      "19            0  \n",
      "20            0  \n",
      "21            0  \n",
      "22            0  \n",
      "23            0  \n",
      "24            0  \n",
      "25            0  \n",
      "26            0  \n",
      "27            0  \n",
      "28            0  \n",
      "29            0  \n",
      "30            0  \n",
      "...         ...  \n",
      "5012          0  \n",
      "5013          0  \n",
      "5014          0  \n",
      "5015          0  \n",
      "5016          0  \n",
      "5017          0  \n",
      "5018          0  \n",
      "5019          0  \n",
      "5020          0  \n",
      "5021          0  \n",
      "5022          0  \n",
      "5023          0  \n",
      "5024          0  \n",
      "5025          0  \n",
      "5026          0  \n",
      "5027          0  \n",
      "5028          0  \n",
      "5029          0  \n",
      "5030          0  \n",
      "5031          0  \n",
      "5032          0  \n",
      "5033          0  \n",
      "5034          0  \n",
      "5035          0  \n",
      "5036          0  \n",
      "5037          0  \n",
      "5038          0  \n",
      "5040          0  \n",
      "5041          0  \n",
      "5042          0  \n",
      "\n",
      "[4927 rows x 42 columns]\n"
     ]
    }
   ],
   "source": [
    "def content_to_numerical(data):\n",
    "    data = data.replace(to_replace='G', value=0)\n",
    "    data = data.replace(to_replace='PG', value=12)\n",
    "    data = data.replace(to_replace='PG-13', value=13)\n",
    "    data = data.replace(to_replace='R', value=17)\n",
    "    data = data.replace(to_replace='NC-17', value=17)\n",
    "    \n",
    "    data = data.replace(to_replace='TV-PG', value=12)\n",
    "    data = data.replace(to_replace='TV-MA', value=17)\n",
    "    data = data.replace(to_replace='TV-G', value=0)\n",
    "    data = data.replace(to_replace='TV-Y', value=0)\n",
    "    data = data.replace(to_replace='TV-Y7', value=7)\n",
    "    data = data.replace(to_replace='TV-14', value=14)\n",
    "    \n",
    "    data = data.replace(to_replace='Not Rated', value=0)\n",
    "    data = data.replace(to_replace='Unrated', value=0)\n",
    "    data = data.replace(to_replace='Approved', value=0)\n",
    "    data = data.replace(to_replace='Passed', value=0)\n",
    "    \n",
    "    data = data.replace(to_replace='X', value=17)\n",
    "    data = data.replace(to_replace='M', value=17)\n",
    "    data = data.replace(to_replace='GP', value=12)\n",
    "    \n",
    "    return data\n",
    "\n",
    "movie_data = content_to_numerical(movie_data)\n",
    "print(movie_data)"
   ]
  },
  {
   "cell_type": "code",
   "execution_count": null,
   "metadata": {
    "collapsed": false,
    "scrolled": true
   },
   "outputs": [],
   "source": []
  },
  {
   "cell_type": "markdown",
   "metadata": {},
   "source": [
    "# Trainset en testset"
   ]
  },
  {
   "cell_type": "code",
   "execution_count": 10,
   "metadata": {
    "collapsed": false,
    "scrolled": true
   },
   "outputs": [],
   "source": [
    "ratings = movie_data['imdb_score'].values\n",
    "del movie_data['imdb_score']\n",
    "\n",
    "X = movie_data.values\n",
    "X_std = StandardScaler().fit_transform(X)\n",
    "\n",
    "number_of_samples = len(ratings)\n",
    "np.random.seed(0)\n",
    "random_indices = np.random.permutation(number_of_samples)\n",
    "num_training_samples = int(number_of_samples*0.75)\n",
    "x_train = X_std[random_indices[:num_training_samples]]\n",
    "y_train = ratings[random_indices[:num_training_samples]]\n",
    "\n",
    "\n",
    "x_test = X_std[random_indices[num_training_samples:]]\n",
    "y_test = ratings[random_indices[num_training_samples:]]\n",
    "y_train = list(y_train)\n"
   ]
  },
  {
   "cell_type": "markdown",
   "metadata": {},
   "source": [
    "# Analysis prediction function"
   ]
  },
  {
   "cell_type": "code",
   "execution_count": 11,
   "metadata": {
    "collapsed": false
   },
   "outputs": [],
   "source": [
    "def analyse_predictions(regr, x_test, y_test, doprint=False):\n",
    "    predres = list(regr.predict(x_test))\n",
    "    actual = list(y_test)\n",
    "\n",
    "    highest = lowest = avg = 0\n",
    "    for i in range(len(predres)):\n",
    "        diff = abs(predres[i] - actual[i])\n",
    "        avg += diff\n",
    "\n",
    "        if doprint:\n",
    "            print \"predicted:\", predres[i], \n",
    "            print \"\\tActual:\", actual[i],\n",
    "            print \"\\tDifference:\", abs(predres[i] - actual[i])\n",
    "\n",
    "        if diff > highest:\n",
    "            highest = diff\n",
    "        if diff < lowest:\n",
    "            lowest = diff\n",
    "\n",
    "    print\n",
    "    print \"Highest difference:\", highest\n",
    "    print \"Lowest difference:\", lowest\n",
    "    print \"average difference:\", avg / len(predres)"
   ]
  },
  {
   "cell_type": "markdown",
   "metadata": {
    "collapsed": true
   },
   "source": [
    "# Linear Regression"
   ]
  },
  {
   "cell_type": "code",
   "execution_count": 12,
   "metadata": {
    "collapsed": false
   },
   "outputs": [
    {
     "name": "stdout",
     "output_type": "stream",
     "text": [
      "('Coefficients: \\n', array([  8.22330619e-01,   2.70704535e-01,   7.27031670e-02,\n",
      "        -1.58790889e-02,  -4.15781211e-02,  -9.46689391e-01,\n",
      "        -2.98279713e-02,  -8.59713409e-02,   6.95311541e-02,\n",
      "         1.58074141e-01,  -5.94081224e-02,   2.04331554e-01,\n",
      "        -1.08128148e-01,   2.56613371e-01,  -2.86185735e-01,\n",
      "        -2.74147959e-02,   5.99095136e-02,  -2.52863942e-02,\n",
      "         1.44836221e-01,  -2.85213460e-02,  -5.40626026e-02,\n",
      "        -7.27571207e-03,  -1.03066696e-01,  -9.23323020e-03,\n",
      "        -3.33154229e-02,   2.08073427e-03,   1.00613962e-16,\n",
      "        -7.40660887e-02,  -2.33183163e-02,   2.44412442e-02,\n",
      "         2.87542092e-02,   2.34201612e-01,  -8.99457842e-02,\n",
      "         1.67765646e-01,  -3.67860173e-02,  -1.28065037e-02,\n",
      "        -6.22834473e-02,  -4.20552650e-02,   1.04083409e-17,\n",
      "         1.91744173e-04,   4.47557634e-02]))\n",
      "Mean squared error: 0.87\n",
      "Variance score: 0.31\n",
      "\n",
      "Highest difference: 6.31631416968\n",
      "Lowest difference: 0\n",
      "average difference: 0.688728841196\n"
     ]
    }
   ],
   "source": [
    "from sklearn import linear_model\n",
    "regr = linear_model.LinearRegression(copy_X=True, fit_intercept=True, n_jobs=1, normalize=False)\n",
    "\n",
    "regr.fit (x_train, y_train)\n",
    "#\n",
    "# The coefficients\n",
    "print('Coefficients: \\n', regr.coef_)\n",
    "# The mean squared error\n",
    "print(\"Mean squared error: %.2f\"\n",
    "      % np.mean((regr.predict(x_test) - y_test) ** 2))\n",
    "# Explained variance score: 1 is perfect prediction\n",
    "print('Variance score: %.2f' % regr.score(x_test, y_test))\n",
    "\n",
    "analyse_predictions(regr, x_test, y_test)\n"
   ]
  },
  {
   "cell_type": "markdown",
   "metadata": {},
   "source": [
    "# Ridge Regression"
   ]
  },
  {
   "cell_type": "code",
   "execution_count": 13,
   "metadata": {
    "collapsed": false
   },
   "outputs": [
    {
     "name": "stdout",
     "output_type": "stream",
     "text": [
      "('Coefficients: \\n', array([  7.08481783e-01,   2.38515318e-01,   5.30536847e-02,\n",
      "        -1.57916653e-02,  -4.17431743e-02,  -8.07695056e-01,\n",
      "        -2.98629903e-02,  -8.66312167e-02,   6.96390614e-02,\n",
      "         1.57657267e-01,  -5.94827050e-02,   2.02540679e-01,\n",
      "        -1.08449158e-01,   2.56625245e-01,  -2.86483283e-01,\n",
      "        -2.73642000e-02,   5.97459347e-02,  -2.50957378e-02,\n",
      "         1.44864941e-01,  -2.85760794e-02,  -5.45911173e-02,\n",
      "        -7.04177959e-03,  -1.03117579e-01,  -9.18787419e-03,\n",
      "        -3.27578086e-02,   2.07685273e-03,   0.00000000e+00,\n",
      "        -7.40924447e-02,  -2.33951359e-02,   2.46108576e-02,\n",
      "         2.88365704e-02,   2.34490123e-01,  -9.03353062e-02,\n",
      "         1.68226964e-01,  -3.66472241e-02,  -1.28341281e-02,\n",
      "        -6.22796991e-02,  -4.18769249e-02,   0.00000000e+00,\n",
      "         2.39248358e-04,   4.46595679e-02]))\n",
      "Mean squared error: 0.87\n",
      "Variance score: 0.31\n",
      "\n",
      "Highest difference: 6.3136604861\n",
      "Lowest difference: 0\n",
      "average difference: 0.688796063608\n"
     ]
    }
   ],
   "source": [
    "regr = linear_model.Ridge()\n",
    "\n",
    "regr.fit (x_train, y_train)\n",
    "\n",
    "# The coefficients\n",
    "print('Coefficients: \\n', regr.coef_)\n",
    "# The mean squared error\n",
    "print(\"Mean squared error: %.2f\"\n",
    "      % np.mean((regr.predict(x_test) - y_test) ** 2))\n",
    "# Explained variance score: 1 is perfect prediction\n",
    "print('Variance score: %.2f' % regr.score(x_test, y_test))\n",
    "\n",
    "analyse_predictions(regr, x_test, y_test)\n"
   ]
  },
  {
   "cell_type": "markdown",
   "metadata": {},
   "source": [
    "# Lasso"
   ]
  },
  {
   "cell_type": "code",
   "execution_count": 14,
   "metadata": {
    "collapsed": false
   },
   "outputs": [
    {
     "name": "stdout",
     "output_type": "stream",
     "text": [
      "('Coefficients: \\n', array([  0.00000000e+00,   0.00000000e+00,  -0.00000000e+00,\n",
      "        -0.00000000e+00,   0.00000000e+00,   0.00000000e+00,\n",
      "        -0.00000000e+00,  -8.65889302e-05,   2.01728581e-02,\n",
      "         1.35440908e-01,  -0.00000000e+00,   5.42200783e-02,\n",
      "        -4.92742094e-02,   1.69494542e-01,  -1.59573130e-01,\n",
      "        -0.00000000e+00,   0.00000000e+00,  -0.00000000e+00,\n",
      "         0.00000000e+00,  -0.00000000e+00,  -0.00000000e+00,\n",
      "         0.00000000e+00,  -3.46402261e-02,   0.00000000e+00,\n",
      "        -0.00000000e+00,   0.00000000e+00,   0.00000000e+00,\n",
      "        -0.00000000e+00,   0.00000000e+00,   0.00000000e+00,\n",
      "         0.00000000e+00,   1.95709349e-01,  -0.00000000e+00,\n",
      "         7.74590406e-02,  -0.00000000e+00,   0.00000000e+00,\n",
      "        -0.00000000e+00,  -0.00000000e+00,   0.00000000e+00,\n",
      "         0.00000000e+00,   3.31317105e-03]))\n",
      "Mean squared error: 0.95\n",
      "Variance score: 0.26\n",
      "\n",
      "Highest difference: 5.55481229422\n",
      "Lowest difference: 0\n",
      "average difference: 0.728641679958\n"
     ]
    }
   ],
   "source": [
    "regr = linear_model.Lasso(alpha=0.1, copy_X=True, fit_intercept=True, max_iter=1000,\n",
    "   normalize=False, positive=False, precompute=False, random_state=None,\n",
    "   selection='cyclic', tol=0.0001, warm_start=False)\n",
    "\n",
    "regr.fit (x_train, y_train)\n",
    "\n",
    "# The coefficients\n",
    "print('Coefficients: \\n', regr.coef_)\n",
    "# The mean squared error\n",
    "print(\"Mean squared error: %.2f\"\n",
    "      % np.mean((regr.predict(x_test) - y_test) ** 2))\n",
    "# Explained variance score: 1 is perfect prediction\n",
    "print('Variance score: %.2f' % regr.score(x_test, y_test))\n",
    "\n",
    "analyse_predictions(regr, x_test, y_test)"
   ]
  },
  {
   "cell_type": "markdown",
   "metadata": {},
   "source": [
    "# Bayesian Ridge"
   ]
  },
  {
   "cell_type": "code",
   "execution_count": 15,
   "metadata": {
    "collapsed": false
   },
   "outputs": [
    {
     "name": "stdout",
     "output_type": "stream",
     "text": [
      "('Coefficients: \\n', array([  8.73526649e-02,   6.08666982e-02,  -5.07100466e-02,\n",
      "        -1.56547004e-02,  -3.65857007e-02,  -5.00051417e-02,\n",
      "        -3.16301475e-02,  -8.84259132e-02,   7.05010335e-02,\n",
      "         1.54717559e-01,  -5.99621592e-02,   1.87944061e-01,\n",
      "        -1.08417802e-01,   2.51021710e-01,  -2.80047933e-01,\n",
      "        -2.67481869e-02,   5.80274298e-02,  -2.28595869e-02,\n",
      "         1.39854761e-01,  -2.82000502e-02,  -5.83970877e-02,\n",
      "        -4.32077712e-03,  -1.03197376e-01,  -7.75522162e-03,\n",
      "        -2.84826624e-02,   2.60054476e-03,   1.36333265e-16,\n",
      "        -7.30259136e-02,  -2.23763763e-02,   2.45793708e-02,\n",
      "         2.85559477e-02,   2.30796933e-01,  -9.19987611e-02,\n",
      "         1.66397400e-01,  -3.44052259e-02,  -1.20620081e-02,\n",
      "        -5.96664661e-02,  -4.04025585e-02,   1.99053091e-16,\n",
      "         7.04830660e-04,   4.44688042e-02]))\n",
      "Mean squared error: 0.87\n",
      "Variance score: 0.31\n",
      "\n",
      "Highest difference: 6.26524939558\n",
      "Lowest difference: 0\n",
      "average difference: 0.68899764208\n"
     ]
    }
   ],
   "source": [
    "regr = linear_model.BayesianRidge(alpha_1=1e-06, alpha_2=5e-06, compute_score=False, copy_X=True,\n",
    "       fit_intercept=True, lambda_1=1e-06, lambda_2=1e-06, n_iter=300,\n",
    "       normalize=False, tol=0.001, verbose=False)\n",
    "\n",
    "regr.fit (x_train, y_train)\n",
    "\n",
    "# The coefficients\n",
    "print('Coefficients: \\n', regr.coef_)\n",
    "# The mean squared error\n",
    "print(\"Mean squared error: %.2f\"\n",
    "      % np.mean((regr.predict(x_test) - y_test) ** 2))\n",
    "# Explained variance score: 1 is perfect prediction\n",
    "print('Variance score: %.2f' % regr.score(x_test, y_test))\n",
    "\n",
    "analyse_predictions(regr, x_test, y_test)"
   ]
  },
  {
   "cell_type": "code",
   "execution_count": null,
   "metadata": {
    "collapsed": true
   },
   "outputs": [],
   "source": []
  }
 ],
 "metadata": {
  "anaconda-cloud": {},
  "kernelspec": {
   "display_name": "Python [Root]",
   "language": "python",
   "name": "Python [Root]"
  },
  "language_info": {
   "codemirror_mode": {
    "name": "ipython",
    "version": 2
   },
   "file_extension": ".py",
   "mimetype": "text/x-python",
   "name": "python",
   "nbconvert_exporter": "python",
   "pygments_lexer": "ipython2",
   "version": "2.7.12"
  }
 },
 "nbformat": 4,
 "nbformat_minor": 0
}
