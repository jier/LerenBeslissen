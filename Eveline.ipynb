{
 "cells": [
  {
   "cell_type": "code",
   "execution_count": null,
   "metadata": {},
   "outputs": [],
   "source": [
    ""
   ]
  },
  {
   "cell_type": "code",
   "execution_count": 69,
   "metadata": {},
   "outputs": [
    {
     "name": "stdout",
     "output_type": "stream",
     "text": [
      "2.72843114021\n",
      "17.1037964487\n"
     ]
    }
   ],
   "source": [
    "import numpy as np\n",
    "import csv\n",
    "import pandas as pd\n",
    "from sklearn.preprocessing import StandardScaler\n",
    "from sklearn.neighbors import KNeighborsClassifier, KNeighborsRegressor\n",
    "\n",
    "def load_training_set(filename):\n",
    "    with open(filename, \"r\", encoding='utf-8') as f:\n",
    "        return [[x for x in row] for row in csv.reader(f, delimiter=',')]\n",
    "\n",
    "#data = load_training_set(\"movie_metadata.csv\")\n",
    "\n",
    "data = pd.read_csv('movie_metadata.csv')\n",
    "\n",
    "str_list = []\n",
    "\n",
    "for name, value in data.iteritems():\n",
    "    if type(value[1]) == str:\n",
    "         str_list.append(name)\n",
    "            \n",
    "num_list = data.columns.difference(str_list)\n",
    "movie_num = data[num_list]\n",
    "movie_num = movie_num.fillna(value=0, axis=1)\n",
    "#print(movie_num.head())\n",
    "\n",
    "ratings = movie_num['imdb_score'].values\n",
    "del movie_num['imdb_score']\n",
    "\n",
    "ratings_integers = [int(round(rating)) for rating in ratings]\n",
    "\n",
    "X = movie_num.values\n",
    "# Data Normalization\n",
    "X_std = StandardScaler().fit_transform(X)\n",
    "\n",
    "# trainingdata:\n",
    "number_for_training = round(0.75*len(ratings))\n",
    "\n",
    "movie_num_training = X_std[:number_for_training]\n",
    "ratings_int_training = ratings_integers[:number_for_training]\n",
    "ratings_cont_training = ratings[:number_for_training]\n",
    "\n",
    "#testdata:\n",
    "\n",
    "movie_num_test = X_std[number_for_training:]\n",
    "ratings_int_test = ratings_integers[number_for_training:]\n",
    "ratings_cont_test = ratings[number_for_training:]\n",
    "\n",
    "\n",
    "# k-nearest neighbor met integers voor ratings (is niet heel accuraat):\n",
    "\n",
    "neighbor = KNeighborsClassifier(n_neighbors = 1)\n",
    "neighbor.fit(movie_num_training, ratings_int_training)\n",
    "neighbor.score(movie_num_test, ratings_int_test)\n",
    "\n",
    "# k-nearest neighbor voor continue ratings:\n",
    "\n",
    "regressor = KNeighborsRegressor()\n",
    "regressor.fit(movie_num_training, ratings_cont_training)\n",
    "y_predict_train = regressor.predict(movie_num_training)\n",
    "y_predict_test = regressor.predict(movie_num_test)\n",
    "\n",
    "error = 0\n",
    "\n",
    "for i in range(len(ratings_cont_test)):\n",
    "    error += (abs(y_predict_train[i]-ratings_cont_training[i]))/ratings_cont_training[i]\n",
    "training_error = (error/len(ratings_cont_training))*100\n",
    "\n",
    "print(training_error)\n",
    "\n",
    "error = 0\n",
    "\n",
    "for i in range(len(ratings_cont_test)):\n",
    "    error += (abs(y_predict_test[i]-ratings_cont_test[i]))/ratings_cont_test[i]\n",
    "test_error = (error/len(ratings_cont_test))*100\n",
    "\n",
    "print(test_error)"
   ]
  },
  {
   "cell_type": "code",
   "execution_count": null,
   "metadata": {},
   "outputs": [],
   "source": [
    ""
   ]
  }
 ],
 "metadata": {
  "kernelspec": {
   "display_name": "Python [Root]",
   "language": "python",
   "name": "Python [Root]"
  },
  "language_info": {
   "codemirror_mode": {
    "name": "ipython",
    "version": 3.0
   },
   "file_extension": ".py",
   "mimetype": "text/x-python",
   "name": "python",
   "nbconvert_exporter": "python",
   "pygments_lexer": "ipython3",
   "version": "3.5.2"
  }
 },
 "nbformat": 4,
 "nbformat_minor": 0
}