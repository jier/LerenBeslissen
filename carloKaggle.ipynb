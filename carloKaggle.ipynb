{
 "cells": [
  {
   "cell_type": "code",
   "execution_count": 1,
   "metadata": {
    "collapsed": false
   },
   "outputs": [
    {
     "name": "stderr",
     "output_type": "stream",
     "text": [
      "/home/carlo/anaconda2/lib/python2.7/site-packages/matplotlib/font_manager.py:273: UserWarning: Matplotlib is building the font cache using fc-list. This may take a moment.\n",
      "  warnings.warn('Matplotlib is building the font cache using fc-list. This may take a moment.')\n"
     ]
    }
   ],
   "source": [
    "import numpy as np\n",
    "import pandas as pd\n",
    "import csv\n",
    "import matplotlib.pyplot as plt\n",
    "from sklearn import neighbors\n",
    "from sklearn import linear_model\n",
    "\n",
    "def load_training_set(filename):\n",
    "    with open(filename, \"rU\") as f:\n",
    "        return [[x for x in row]for row in csv.reader(f, delimiter=',')]\n",
    "\n",
    "\n",
    "data = load_training_set(\"movie_metadata.csv\")\n",
    "\n",
    "movie = pd.read_csv('movie_metadata.csv') # reads the csv and creates the dataframe called movie\n",
    "\n",
    "\n"
   ]
  },
  {
   "cell_type": "markdown",
   "metadata": {},
   "source": [
    "Separate the movie dataframe into a dataframe specifically for numerical values and a datafrome specifically for string values."
   ]
  },
  {
   "cell_type": "code",
   "execution_count": 2,
   "metadata": {
    "collapsed": true
   },
   "outputs": [],
   "source": [
    "\"\"\" get list of column names with string values \n",
    "    source: https://www.kaggle.com/arthurtok/d/deepmatrix/ imdb-5000-movie-dataset/principal-component-analysis-with-kmeans-visuals#\"\"\"\n",
    "str_list = [] # empty list to contain columns with strings (words)\n",
    "for colname, colvalue in movie.iteritems():\n",
    "    if type(colvalue[1]) == str:\n",
    "         str_list.append(colname)\n",
    "# Get to the numeric columns by inversion            \n",
    "num_list = movie.columns.difference(str_list)\n",
    "\n",
    "movie_num = movie[num_list]\n",
    "movie_str = movie[str_list]"
   ]
  },
  {
   "cell_type": "markdown",
   "metadata": {
    "collapsed": true
   },
   "source": [
    "Drop all rows containing NaN values for specific collumns"
   ]
  },
  {
   "cell_type": "code",
   "execution_count": 3,
   "metadata": {
    "collapsed": false
   },
   "outputs": [],
   "source": [
    "# filter out all entries with NaN values from specific columns\n",
    "# http://stackoverflow.com/questions/13413590/how-to-drop-rows-of-pandas-dataframe-whose-value-in-certain-columns-is-nan\n",
    "# movie_gross = movie_num[np.isfinite(movie_num['gross'])]\n",
    "# movie_budget = movie_num[np.isfinite(movie_num['budget'])]\n",
    "# movie_likes = movie_num[np.isfinite(movie_num['movie_facebook_likes'])]\n",
    "# movie_critics = movie_num[np.isfinite(movie_num['num_critic_for_reviews'])]"
   ]
  },
  {
   "cell_type": "code",
   "execution_count": 4,
   "metadata": {
    "collapsed": false
   },
   "outputs": [],
   "source": [
    "# X = movie_gross.values\n",
    "# # Data Normalization\n",
    "# from sklearn.preprocessing import StandardScaler\n",
    "# X_gross_std = StandardScaler().fit_transform(X)"
   ]
  },
  {
   "cell_type": "code",
   "execution_count": 5,
   "metadata": {
    "collapsed": false
   },
   "outputs": [
    {
     "name": "stdout",
     "output_type": "stream",
     "text": [
      "actor_1_facebook_likes\n",
      "actor_2_facebook_likes\n",
      "actor_3_facebook_likes\n",
      "aspect_ratio\n",
      "budget\n",
      "cast_total_facebook_likes\n",
      "director_facebook_likes\n",
      "duration\n",
      "facenumber_in_poster\n",
      "gross\n",
      "imdb_score\n",
      "movie_facebook_likes\n",
      "num_critic_for_reviews\n",
      "num_user_for_reviews\n",
      "num_voted_users\n",
      "title_year\n",
      "\n"
     ]
    }
   ],
   "source": [
    "for thing in movie_num:\n",
    "    print thing\n",
    "print\n",
    "\n",
    "\n",
    "# plot test\n",
    "toplot = False\n",
    "if toplot:\n",
    "    plt.title(\"gross\")\n",
    "    plt.plot(movie_gross[\"gross\"], movie_gross[\"imdb_score\"], 'bo')\n",
    "    plt.show()\n",
    "\n",
    "    plt.title(\"budget\")\n",
    "    plt.plot(movie_budget[\"budget\"], movie_budget[\"imdb_score\"], 'bo')\n",
    "    plt.show()\n",
    "\n",
    "    plt.title(\"movie facebook likes\")\n",
    "    plt.plot(movie_likes[\"movie_facebook_likes\"], movie_likes[\"imdb_score\"], 'bo')\n",
    "    plt.show()\n",
    "\n",
    "    plt.title(\"num of critics for reviews\")\n",
    "    plt.plot(movie_critics[\"num_critic_for_reviews\"], movie_critics[\"imdb_score\"], 'bo')\n",
    "    plt.show()\n"
   ]
  },
  {
   "cell_type": "markdown",
   "metadata": {},
   "source": [
    "Test something else"
   ]
  },
  {
   "cell_type": "code",
   "execution_count": 6,
   "metadata": {
    "collapsed": false
   },
   "outputs": [],
   "source": [
    "movie_score = movie_num[\"imdb_score\"]\n",
    "del movie_num[\"imdb_score\"]\n",
    "\n",
    "movie_num = movie_num.fillna(value=0, axis=1)\n",
    "\n",
    "X = movie_num.values\n",
    "# Data Normalization\n",
    "from sklearn.preprocessing import StandardScaler\n",
    "X_std = StandardScaler().fit_transform(X)\n"
   ]
  },
  {
   "cell_type": "code",
   "execution_count": 7,
   "metadata": {
    "collapsed": false
   },
   "outputs": [
    {
     "name": "stdout",
     "output_type": "stream",
     "text": [
      "Train error = 14.3845129626 percent in Ridge Regression\n",
      "Test error = 12.045727077 percent in Ridge Regression\n",
      "Train error = 11.1253168328 percent in Knn algorithm\n",
      "Test error = 6.93345192221 percent in knn algorithm\n"
     ]
    }
   ],
   "source": [
    "from sklearn.decomposition import PCA\n",
    "sklearn_pca=PCA(n_components=5)\n",
    "X_Train=sklearn_pca.fit_transform(X_std)\n",
    "\n",
    "y = movie_score\n",
    "number_of_samples = len(y)\n",
    "#np.random.seed()\n",
    "random_indices = np.random.permutation(number_of_samples)\n",
    "num_training_samples = int(number_of_samples*0.75)\n",
    "x_train = X_Train[random_indices[:num_training_samples]]\n",
    "y_train=y[random_indices[:num_training_samples]]\n",
    "x_test=X_Train[random_indices[num_training_samples:]]\n",
    "y_test=y[random_indices[num_training_samples:]]\n",
    "y_Train=list(y_train)\n",
    "\n",
    "\n",
    "\n",
    "\n",
    "model=linear_model.Ridge()\n",
    "model.fit(x_train,y_train)\n",
    "y_predict=model.predict(x_train)\n",
    "\n",
    "error=0\n",
    "for i in range(len(y_Train)):\n",
    "    error+=(abs(y_Train[i]-y_predict[i])/y_Train[i])\n",
    "train_error_ridge=error/len(y_Train)*100\n",
    "print(\"Train error = \"'{}'.format(train_error_ridge)+\" percent in Ridge Regression\")\n",
    "\n",
    "Y_test=model.predict(x_test)\n",
    "y_Predict=list(y_test)\n",
    "\n",
    "error=0\n",
    "for i in range(len(y_test)):\n",
    "    error+=(abs(y_Predict[i]-Y_test[i])/Y_test[i])\n",
    "test_error_ridge=error/len(Y_test)*100\n",
    "print(\"Test error = \"'{}'.format(test_error_ridge)+\" percent in Ridge Regression\")\n",
    "\n",
    "\n",
    "\n",
    "\n",
    "\n",
    "\n",
    "n_neighbors=5\n",
    "knn=neighbors.KNeighborsRegressor(n_neighbors,weights='uniform')\n",
    "knn.fit(x_train,y_train)\n",
    "y1_knn=knn.predict(x_train)\n",
    "y1_knn=list(y1_knn)\n",
    "\n",
    "error=0\n",
    "for i in range(len(y_train)):\n",
    "    error+=(abs(y1_knn[i]-y_Train[i])/y_Train[i])\n",
    "train_error_knn=error/len(y_Train)*100\n",
    "print(\"Train error = \"+'{}'.format(train_error_knn)+\" percent\"+\" in Knn algorithm\")\n",
    "\n",
    "y2_knn=knn.predict(x_test)\n",
    "y2_knn=list(y2_knn)\n",
    "error=0\n",
    "for i in range(len(y_test)):\n",
    "    error+=(abs(y2_knn[i]-Y_test[i])/Y_test[i])\n",
    "test_error_knn=error/len(Y_test)*100\n",
    "print(\"Test error = \"'{}'.format(test_error_knn)+\" percent\"+\" in knn algorithm\")"
   ]
  },
  {
   "cell_type": "code",
   "execution_count": null,
   "metadata": {
    "collapsed": true
   },
   "outputs": [],
   "source": []
  }
 ],
 "metadata": {
  "kernelspec": {
   "display_name": "Python [Root]",
   "language": "python",
   "name": "Python [Root]"
  },
  "language_info": {
   "codemirror_mode": {
    "name": "ipython",
    "version": 2
   },
   "file_extension": ".py",
   "mimetype": "text/x-python",
   "name": "python",
   "nbconvert_exporter": "python",
   "pygments_lexer": "ipython2",
   "version": "2.7.12"
  }
 },
 "nbformat": 4,
 "nbformat_minor": 0
}
