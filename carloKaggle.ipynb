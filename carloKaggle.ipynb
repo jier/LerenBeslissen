{
 "cells": [
  {
   "cell_type": "code",
   "execution_count": 1,
   "metadata": {
    "collapsed": false
   },
   "outputs": [
    {
     "name": "stdout",
     "output_type": "stream",
     "text": [
      "Done\n"
     ]
    }
   ],
   "source": [
    "import numpy as np\n",
    "import csv\n",
    "import pandas as pd\n",
    "from sklearn.preprocessing import StandardScaler\n",
    "from sklearn.neighbors import KNeighborsClassifier, KNeighborsRegressor\n",
    "from sklearn.preprocessing import LabelEncoder\n",
    "\n",
    "\n",
    "#reads in the data\n",
    "data = pd.read_csv('movie_metadata.csv')\n",
    "\n",
    "#removes the values that aren't numeric\n",
    "to_drop = ['director_name', 'num_critic_for_reviews', 'actor_2_name','actor_1_name', 'movie_title', 'num_voted_users'\n",
    "           , 'actor_3_name', 'plot_keywords', 'movie_imdb_link', 'num_user_for_reviews']\n",
    "\n",
    "#makes the new data set without the to_drop colums\n",
    "features_list = data.columns.difference(to_drop)\n",
    "movie_data = data[features_list]\n",
    "#print(np.sum(movie_num.isnull()))\n",
    "#print(movie_data.content_rating.unique())\n",
    "pd.options.mode.chained_assignment = None \n",
    "\n",
    "        \n",
    "print('Done')"
   ]
  },
  {
   "cell_type": "markdown",
   "metadata": {},
   "source": [
    "# Changing Genres into individual Columns"
   ]
  },
  {
   "cell_type": "code",
   "execution_count": 2,
   "metadata": {
    "collapsed": false
   },
   "outputs": [
    {
     "name": "stdout",
     "output_type": "stream",
     "text": [
      "set(['Sci-Fi', 'Crime', 'Romance', 'Animation', 'Music', 'Comedy', 'War', 'Horror', 'Film-Noir', 'Adventure', 'News', 'Reality-TV', 'Thriller', 'Western', 'Mystery', 'Short', 'Drama', 'Action', 'Documentary', 'Musical', 'History', 'Family', 'Fantasy', 'Game-Show', 'Sport', 'Biography'])\n"
     ]
    }
   ],
   "source": [
    "genres = []\n",
    "\n",
    "for string in movie_data['genres']:\n",
    "    genre = string.split('|')\n",
    "    genres = genres+genre\n",
    "    \n",
    "genres_set = set(genres)\n",
    "print(genres_set)"
   ]
  },
  {
   "cell_type": "code",
   "execution_count": 3,
   "metadata": {
    "collapsed": false
   },
   "outputs": [
    {
     "name": "stdout",
     "output_type": "stream",
     "text": [
      "Done\n"
     ]
    }
   ],
   "source": [
    "genres_dict = dict()\n",
    "for genre in genres_set:\n",
    "    genres_dict[genre] = []\n",
    "    \n",
    "for string in movie_data.genres:\n",
    "    genres = string.split('|')\n",
    "    for genre in genres_set:\n",
    "        if genre in genres:\n",
    "            genres_dict[genre] = genres_dict[genre]+[1]\n",
    "        else:\n",
    "            genres_dict[genre] = genres_dict[genre]+[0]\n",
    "\n",
    "del movie_data['genres']\n",
    "#print(genres_dict['Short'])\n",
    "\n",
    "for genre in genres_set:\n",
    "    series = pd.Series(genres_dict[genre])\n",
    "    movie_data[genre] = series\n",
    "\n",
    "#print(movie_data['Short'].values)    \n",
    "print('Done')"
   ]
  },
  {
   "cell_type": "markdown",
   "metadata": {},
   "source": [
    "# Deleting NaNs"
   ]
  },
  {
   "cell_type": "code",
   "execution_count": 4,
   "metadata": {
    "collapsed": false
   },
   "outputs": [
    {
     "name": "stdout",
     "output_type": "stream",
     "text": [
      "Length before deletion: 5043\n",
      "Length after deletion: 4900\n"
     ]
    }
   ],
   "source": [
    "NA_THRESH = 4\n",
    "\n",
    "#deletes the row when there are more or equal to the threshod number of NaN's\n",
    "def remove_too_many_NaN(data, threshold):\n",
    "    print(\"Length before deletion: {}\".format(len(data)))\n",
    "\n",
    "    remove_indices = []\n",
    "    for index, nNaN in data.isnull().sum(axis=1).iteritems():\n",
    "        if nNaN >= threshold:\n",
    "            remove_indices.append(index)\n",
    "    \n",
    "    # drop movies with too many NaNs\n",
    "    data = data.drop(data.index[remove_indices])\n",
    "    print(\"Length after deletion: {}\".format(len(data)))\n",
    "    \n",
    "    return data\n",
    "\n",
    "#returns length\n",
    "movie_data = remove_too_many_NaN(movie_data, NA_THRESH)"
   ]
  },
  {
   "cell_type": "markdown",
   "metadata": {},
   "source": [
    "# Changing Color to Numeric"
   ]
  },
  {
   "cell_type": "code",
   "execution_count": 5,
   "metadata": {
    "collapsed": false
   },
   "outputs": [
    {
     "name": "stdout",
     "output_type": "stream",
     "text": [
      "Done\n"
     ]
    }
   ],
   "source": [
    "#replaces the color value to 1\n",
    "movie_data.color = movie_data.color.replace(to_replace = 'Color', value = 1)\n",
    "movie_data.color = movie_data.color.replace(to_replace = 'NaN', value = 1)\n",
    "\n",
    "#replaces the NaN or black and white values to 0\n",
    "for item in movie_data.color:\n",
    "    if item != 1:\n",
    "        movie_data.color = movie_data.color.replace(to_replace = item, value = 0)\n",
    "        \n",
    "#movie_data.color = new_color_column \n",
    "#print(movie_data['color'])\n",
    "\n",
    "#makes sure that there is nog error where it shouldn't be\n",
    "pd.options.mode.chained_assignment= None\n",
    "print('Done')"
   ]
  },
  {
   "cell_type": "markdown",
   "metadata": {},
   "source": [
    "# Changing Country to Numeric"
   ]
  },
  {
   "cell_type": "code",
   "execution_count": 6,
   "metadata": {
    "collapsed": false
   },
   "outputs": [
    {
     "name": "stdout",
     "output_type": "stream",
     "text": [
      "Done\n"
     ]
    }
   ],
   "source": [
    "#replaces the USA values to 1\n",
    "movie_data.country = movie_data.country.replace(to_replace ='USA', value = 1)\n",
    "movie_data.country = movie_data.country.replace(to_replace ='NaN', value = 1)\n",
    "#replaces the NaN or non USA values to 0\n",
    "for item in movie_data.country:\n",
    "    if item != 1:\n",
    "        movie_data.country = movie_data.country.replace(to_replace = item, value = 0)\n",
    "       \n",
    "#print(movie_data['country'])\n",
    "\n",
    "#makes sure that there is nog error where it shouldn't be\n",
    "pd.options.mode.chained_assignment= None\n",
    "\n",
    "print('Done')"
   ]
  },
  {
   "cell_type": "markdown",
   "metadata": {},
   "source": [
    "# Changing Language to Numeric"
   ]
  },
  {
   "cell_type": "code",
   "execution_count": 7,
   "metadata": {
    "collapsed": false
   },
   "outputs": [
    {
     "name": "stdout",
     "output_type": "stream",
     "text": [
      "Done\n"
     ]
    }
   ],
   "source": [
    "#replaces the English values to 1\n",
    "movie_data.language = movie_data.language.replace(to_replace = 'English', value = 1)\n",
    "movie_data.language = movie_data.language.replace(to_replace = 'NaN', value = 1)\n",
    "\n",
    "#replaces the other values to 0\n",
    "for item in movie_data.language:\n",
    "    if item != 1:\n",
    "        movie_data.language = movie_data.language.replace(to_replace = item, value = 0)\n",
    "        \n",
    "#print(movie_data['language'])\n",
    "\n",
    "#makes sure that there is nog error where it shouldn't be\n",
    "pd.options.mode.chained_assignment= None\n",
    "print('Done')"
   ]
  },
  {
   "cell_type": "markdown",
   "metadata": {},
   "source": [
    "# Changing Content Rating to Numeric"
   ]
  },
  {
   "cell_type": "code",
   "execution_count": 8,
   "metadata": {
    "collapsed": false
   },
   "outputs": [
    {
     "name": "stdout",
     "output_type": "stream",
     "text": [
      "      actor_1_facebook_likes  actor_2_facebook_likes  actor_3_facebook_likes  \\\n",
      "0                     1000.0                   936.0                   855.0   \n",
      "1                    40000.0                  5000.0                  1000.0   \n",
      "2                    11000.0                   393.0                   161.0   \n",
      "3                    27000.0                 23000.0                 23000.0   \n",
      "5                      640.0                   632.0                   530.0   \n",
      "6                    24000.0                 11000.0                  4000.0   \n",
      "7                      799.0                   553.0                   284.0   \n",
      "8                    26000.0                 21000.0                 19000.0   \n",
      "9                    25000.0                 11000.0                 10000.0   \n",
      "10                   15000.0                  4000.0                  2000.0   \n",
      "11                   18000.0                 10000.0                   903.0   \n",
      "12                     451.0                   412.0                   393.0   \n",
      "13                   40000.0                  5000.0                  1000.0   \n",
      "14                   40000.0                  2000.0                  1000.0   \n",
      "15                   15000.0                  3000.0                   748.0   \n",
      "16                   22000.0                   216.0                   201.0   \n",
      "17                   26000.0                 21000.0                 19000.0   \n",
      "18                   40000.0                 11000.0                  1000.0   \n",
      "19                   10000.0                   816.0                   718.0   \n",
      "20                    5000.0                   972.0                   773.0   \n",
      "21                   15000.0                 10000.0                   963.0   \n",
      "22                     891.0                   882.0                   738.0   \n",
      "23                    5000.0                   972.0                   773.0   \n",
      "24                   16000.0                  6000.0                  1000.0   \n",
      "25                    6000.0                   919.0                    84.0   \n",
      "26                   29000.0                 14000.0                   794.0   \n",
      "27                   21000.0                 19000.0                 11000.0   \n",
      "28                   14000.0                 10000.0                   627.0   \n",
      "29                    3000.0                  2000.0                  1000.0   \n",
      "30                     883.0                   563.0                   393.0   \n",
      "...                      ...                     ...                     ...   \n",
      "5008                   898.0                   657.0                   216.0   \n",
      "5009                     0.0                     0.0                     NaN   \n",
      "5010                    26.0                     6.0                     3.0   \n",
      "5011                   136.0                   108.0                     7.0   \n",
      "5012                  1000.0                   206.0                   120.0   \n",
      "5013                    93.0                    46.0                    42.0   \n",
      "5014                   986.0                   918.0                   492.0   \n",
      "5015                     5.0                     0.0                     0.0   \n",
      "5016                   313.0                    25.0                     9.0   \n",
      "5017                   370.0                   184.0                   138.0   \n",
      "5018                    51.0                    49.0                     4.0   \n",
      "5019                   630.0                   512.0                   265.0   \n",
      "5021                   830.0                   224.0                    10.0   \n",
      "5022                   147.0                    19.0                     4.0   \n",
      "5023                   331.0                   212.0                   211.0   \n",
      "5024                   407.0                    91.0                    86.0   \n",
      "5025                   462.0                   143.0                   105.0   \n",
      "5026                   576.0                   133.0                    45.0   \n",
      "5027                     5.0                     0.0                     0.0   \n",
      "5028                    10.0                     5.0                     0.0   \n",
      "5029                    89.0                    13.0                     6.0   \n",
      "5031                   785.0                    98.0                    84.0   \n",
      "5033                   291.0                    45.0                     8.0   \n",
      "5034                     0.0                     0.0                     0.0   \n",
      "5035                   121.0                    20.0                     6.0   \n",
      "5036                    45.0                    44.0                     2.0   \n",
      "5037                   296.0                   205.0                   133.0   \n",
      "5040                     0.0                     0.0                     0.0   \n",
      "5041                   946.0                   719.0                   489.0   \n",
      "5042                    86.0                    23.0                    16.0   \n",
      "\n",
      "      aspect_ratio       budget  cast_total_facebook_likes  color  \\\n",
      "0             1.78  237000000.0                       4834    1.0   \n",
      "1             2.35  300000000.0                      48350    1.0   \n",
      "2             2.35  245000000.0                      11700    1.0   \n",
      "3             2.35  250000000.0                     106759    1.0   \n",
      "5             2.35  263700000.0                       1873    1.0   \n",
      "6             2.35  258000000.0                      46055    1.0   \n",
      "7             1.85  260000000.0                       2036    1.0   \n",
      "8             2.35  250000000.0                      92000    1.0   \n",
      "9             2.35  250000000.0                      58753    1.0   \n",
      "10            2.35  250000000.0                      24450    1.0   \n",
      "11            2.35  209000000.0                      29991    1.0   \n",
      "12            2.35  200000000.0                       2023    1.0   \n",
      "13            2.35  225000000.0                      48486    1.0   \n",
      "14            2.35  215000000.0                      45757    1.0   \n",
      "15            2.35  225000000.0                      20495    1.0   \n",
      "16            2.35  225000000.0                      22697    1.0   \n",
      "17            1.85  220000000.0                      87697    1.0   \n",
      "18            2.35  250000000.0                      54083    1.0   \n",
      "19            1.85  225000000.0                      12572    1.0   \n",
      "20            2.35  250000000.0                       9152    1.0   \n",
      "21            2.35  230000000.0                      28489    1.0   \n",
      "22            2.35  200000000.0                       3244    1.0   \n",
      "23            2.35  225000000.0                       9152    1.0   \n",
      "24            2.35  180000000.0                      24106    1.0   \n",
      "25            2.35  207000000.0                       7123    1.0   \n",
      "26            2.35  200000000.0                      45223    1.0   \n",
      "27            2.35  250000000.0                      64798    1.0   \n",
      "28            2.35  209000000.0                      26679    1.0   \n",
      "29            2.00  150000000.0                       8458    1.0   \n",
      "30            2.35  200000000.0                       2039    1.0   \n",
      "...            ...          ...                        ...    ...   \n",
      "5008          1.37     230000.0                       2103    0.0   \n",
      "5009          1.37      27000.0                          0    1.0   \n",
      "5010          1.37          NaN                         40    1.0   \n",
      "5011          1.85      25000.0                        254    1.0   \n",
      "5012          1.85   35000000.0                       1458    1.0   \n",
      "5013          1.78      24000.0                        243    1.0   \n",
      "5014          2.35          NaN                       3197    1.0   \n",
      "5015          1.37      23000.0                          5    0.0   \n",
      "5016           NaN      25000.0                        366    1.0   \n",
      "5017          1.78      22000.0                        841    1.0   \n",
      "5018          1.85      20000.0                        108    1.0   \n",
      "5019          1.85          NaN                       2679    1.0   \n",
      "5021           NaN      15000.0                       1064    1.0   \n",
      "5022           NaN      15000.0                        170    0.0   \n",
      "5023          2.35      15000.0                       1546    1.0   \n",
      "5024          2.35      20000.0                        674    1.0   \n",
      "5025          1.37      10000.0                        760    1.0   \n",
      "5026          2.35       4500.0                        776    1.0   \n",
      "5027          1.85      10000.0                          5    1.0   \n",
      "5028          1.33      10000.0                         15    0.0   \n",
      "5029          1.85    1000000.0                        115    1.0   \n",
      "5031         16.00     200000.0                       1111    1.0   \n",
      "5033          1.85       7000.0                        368    1.0   \n",
      "5034           NaN       7000.0                          0    1.0   \n",
      "5035          1.37       7000.0                        147    1.0   \n",
      "5036           NaN       3250.0                         93    1.0   \n",
      "5037           NaN       9000.0                        690    1.0   \n",
      "5040           NaN       1400.0                          0    1.0   \n",
      "5041          2.35          NaN                       2386    1.0   \n",
      "5042          1.85       1100.0                        163    1.0   \n",
      "\n",
      "      content_rating  country  director_facebook_likes    ...      Drama  \\\n",
      "0               13.0        1                      0.0    ...          0   \n",
      "1               13.0        1                    563.0    ...          0   \n",
      "2               13.0        0                      0.0    ...          0   \n",
      "3               13.0        1                  22000.0    ...          0   \n",
      "5               13.0        1                    475.0    ...          0   \n",
      "6               13.0        1                      0.0    ...          0   \n",
      "7               12.0        1                     15.0    ...          0   \n",
      "8               13.0        1                      0.0    ...          0   \n",
      "9               12.0        0                    282.0    ...          0   \n",
      "10              13.0        1                      0.0    ...          0   \n",
      "11              13.0        1                      0.0    ...          0   \n",
      "12              13.0        0                    395.0    ...          0   \n",
      "13              13.0        1                    563.0    ...          0   \n",
      "14              13.0        1                    563.0    ...          0   \n",
      "15              13.0        1                      0.0    ...          0   \n",
      "16              12.0        1                     80.0    ...          0   \n",
      "17              13.0        1                      0.0    ...          0   \n",
      "18              13.0        1                    252.0    ...          0   \n",
      "19              13.0        1                    188.0    ...          0   \n",
      "20              13.0        0                      0.0    ...          0   \n",
      "21              13.0        1                    464.0    ...          0   \n",
      "22              13.0        1                      0.0    ...          1   \n",
      "23              13.0        1                      0.0    ...          0   \n",
      "24              13.0        1                    129.0    ...          0   \n",
      "25              13.0        0                      0.0    ...          1   \n",
      "26              13.0        1                      0.0    ...          1   \n",
      "27              13.0        1                     94.0    ...          0   \n",
      "28              13.0        1                    532.0    ...          0   \n",
      "29              13.0        1                    365.0    ...          0   \n",
      "30              13.0        0                      0.0    ...          0   \n",
      "...              ...      ...                      ...    ...        ...   \n",
      "5008            17.0        1                      0.0    ...          0   \n",
      "5009             0.0        1                      0.0    ...          1   \n",
      "5010             NaN        1                     26.0    ...          1   \n",
      "5011            17.0        0                    119.0    ...          1   \n",
      "5012            17.0        1                    453.0    ...          1   \n",
      "5013             NaN        1                      3.0    ...          1   \n",
      "5014            17.0        0                    892.0    ...          0   \n",
      "5015            17.0        1                      0.0    ...          1   \n",
      "5016             NaN        1                      0.0    ...          1   \n",
      "5017             NaN        1                    138.0    ...          0   \n",
      "5018             NaN        1                    589.0    ...          1   \n",
      "5019            17.0        1                    158.0    ...          0   \n",
      "5021            17.0        1                    157.0    ...          1   \n",
      "5022             NaN        0                      0.0    ...          1   \n",
      "5023             NaN        1                     38.0    ...          0   \n",
      "5024             0.0        1                     91.0    ...          0   \n",
      "5025            17.0        1                      0.0    ...          0   \n",
      "5026            17.0        0                    107.0    ...          1   \n",
      "5027             0.0        0                    397.0    ...          1   \n",
      "5028             NaN        0                     18.0    ...          0   \n",
      "5029             NaN        0                     62.0    ...          0   \n",
      "5031             NaN        1                    120.0    ...          0   \n",
      "5033            13.0        1                    291.0    ...          1   \n",
      "5034             0.0        0                      0.0    ...          0   \n",
      "5035            17.0        1                      0.0    ...          1   \n",
      "5036            13.0        1                      2.0    ...          1   \n",
      "5037             0.0        1                      0.0    ...          1   \n",
      "5040             NaN        1                      0.0    ...          1   \n",
      "5041            13.0        1                      0.0    ...          1   \n",
      "5042            12.0        1                     16.0    ...          0   \n",
      "\n",
      "      Action  Documentary  Musical  History  Family  Fantasy  Game-Show  \\\n",
      "0          1            0        0        0       0        1          0   \n",
      "1          1            0        0        0       0        1          0   \n",
      "2          1            0        0        0       0        0          0   \n",
      "3          1            0        0        0       0        0          0   \n",
      "5          1            0        0        0       0        0          0   \n",
      "6          1            0        0        0       0        0          0   \n",
      "7          0            0        1        0       1        1          0   \n",
      "8          1            0        0        0       0        0          0   \n",
      "9          0            0        0        0       1        1          0   \n",
      "10         1            0        0        0       0        0          0   \n",
      "11         1            0        0        0       0        0          0   \n",
      "12         1            0        0        0       0        0          0   \n",
      "13         1            0        0        0       0        1          0   \n",
      "14         1            0        0        0       0        0          0   \n",
      "15         1            0        0        0       0        1          0   \n",
      "16         1            0        0        0       1        1          0   \n",
      "17         1            0        0        0       0        0          0   \n",
      "18         1            0        0        0       0        1          0   \n",
      "19         1            0        0        0       1        1          0   \n",
      "20         0            0        0        0       0        1          0   \n",
      "21         1            0        0        0       0        1          0   \n",
      "22         1            0        0        1       0        0          0   \n",
      "23         0            0        0        0       0        1          0   \n",
      "24         0            0        0        0       1        1          0   \n",
      "25         1            0        0        0       0        0          0   \n",
      "26         0            0        0        0       0        0          0   \n",
      "27         1            0        0        0       0        0          0   \n",
      "28         1            0        0        0       0        0          0   \n",
      "29         1            0        0        0       0        0          0   \n",
      "30         1            0        0        0       0        0          0   \n",
      "...      ...          ...      ...      ...     ...      ...        ...   \n",
      "5008       0            0        0        0       0        0          0   \n",
      "5009       0            0        0        0       0        1          0   \n",
      "5010       0            0        0        0       0        0          0   \n",
      "5011       0            0        0        0       0        0          0   \n",
      "5012       1            0        0        0       0        0          0   \n",
      "5013       0            0        0        0       1        0          0   \n",
      "5014       1            0        0        0       0        0          0   \n",
      "5015       0            0        0        0       0        0          0   \n",
      "5016       0            0        0        0       0        0          0   \n",
      "5017       0            0        0        0       0        0          0   \n",
      "5018       0            0        0        0       0        0          0   \n",
      "5019       0            0        0        0       0        0          0   \n",
      "5021       0            0        0        0       0        0          0   \n",
      "5022       0            0        0        0       0        0          0   \n",
      "5023       0            0        0        0       0        0          0   \n",
      "5024       0            0        0        0       0        0          0   \n",
      "5025       0            0        0        0       0        0          0   \n",
      "5026       0            0        0        0       0        0          0   \n",
      "5027       0            0        0        0       0        0          0   \n",
      "5028       0            0        0        0       0        0          0   \n",
      "5029       0            0        0        0       0        0          0   \n",
      "5031       0            0        0        0       0        0          0   \n",
      "5033       0            0        0        0       0        0          0   \n",
      "5034       0            0        0        0       0        0          0   \n",
      "5035       1            0        0        0       0        0          0   \n",
      "5036       0            0        0        0       0        0          0   \n",
      "5037       0            0        0        0       0        0          0   \n",
      "5040       0            0        0        0       0        0          0   \n",
      "5041       0            0        0        0       0        0          0   \n",
      "5042       0            1        0        0       0        0          0   \n",
      "\n",
      "      Sport  Biography  \n",
      "0         0          0  \n",
      "1         0          0  \n",
      "2         0          0  \n",
      "3         0          0  \n",
      "5         0          0  \n",
      "6         0          0  \n",
      "7         0          0  \n",
      "8         0          0  \n",
      "9         0          0  \n",
      "10        0          0  \n",
      "11        0          0  \n",
      "12        0          0  \n",
      "13        0          0  \n",
      "14        0          0  \n",
      "15        0          0  \n",
      "16        0          0  \n",
      "17        0          0  \n",
      "18        0          0  \n",
      "19        0          0  \n",
      "20        0          0  \n",
      "21        0          0  \n",
      "22        0          0  \n",
      "23        0          0  \n",
      "24        0          0  \n",
      "25        0          0  \n",
      "26        0          0  \n",
      "27        0          0  \n",
      "28        0          0  \n",
      "29        0          0  \n",
      "30        0          0  \n",
      "...     ...        ...  \n",
      "5008      0          0  \n",
      "5009      0          0  \n",
      "5010      0          0  \n",
      "5011      0          0  \n",
      "5012      0          0  \n",
      "5013      0          0  \n",
      "5014      0          0  \n",
      "5015      0          0  \n",
      "5016      0          0  \n",
      "5017      0          0  \n",
      "5018      0          0  \n",
      "5019      0          0  \n",
      "5021      0          0  \n",
      "5022      0          0  \n",
      "5023      0          0  \n",
      "5024      0          0  \n",
      "5025      0          0  \n",
      "5026      0          0  \n",
      "5027      0          0  \n",
      "5028      0          0  \n",
      "5029      0          0  \n",
      "5031      0          0  \n",
      "5033      0          0  \n",
      "5034      0          0  \n",
      "5035      0          0  \n",
      "5036      0          0  \n",
      "5037      0          0  \n",
      "5040      0          0  \n",
      "5041      0          0  \n",
      "5042      0          0  \n",
      "\n",
      "[4900 rows x 43 columns]\n"
     ]
    }
   ],
   "source": [
    "def content_to_numerical(data):\n",
    "    data = data.replace(to_replace='G', value=0)\n",
    "    data = data.replace(to_replace='PG', value=12)\n",
    "    data = data.replace(to_replace='PG-13', value=13)\n",
    "    data = data.replace(to_replace='R', value=17)\n",
    "    data = data.replace(to_replace='NC-17', value=17)\n",
    "    \n",
    "    data = data.replace(to_replace='TV-PG', value=12)\n",
    "    data = data.replace(to_replace='TV-MA', value=17)\n",
    "    data = data.replace(to_replace='TV-G', value=0)\n",
    "    data = data.replace(to_replace='TV-Y', value=0)\n",
    "    data = data.replace(to_replace='TV-Y7', value=7)\n",
    "    data = data.replace(to_replace='TV-14', value=14)\n",
    "    \n",
    "    data = data.replace(to_replace='Not Rated', value=0)\n",
    "    data = data.replace(to_replace='Unrated', value=0)\n",
    "    data = data.replace(to_replace='Approved', value=0)\n",
    "    data = data.replace(to_replace='Passed', value=0)\n",
    "    \n",
    "    data = data.replace(to_replace='X', value=17)\n",
    "    data = data.replace(to_replace='M', value=17)\n",
    "    data = data.replace(to_replace='GP', value=12)\n",
    "    \n",
    "    return data\n",
    "\n",
    "movie_data = content_to_numerical(movie_data)\n",
    "print(movie_data)"
   ]
  },
  {
   "cell_type": "markdown",
   "metadata": {},
   "source": [
    "# Replacing NaNs with averages"
   ]
  },
  {
   "cell_type": "code",
   "execution_count": 9,
   "metadata": {
    "collapsed": false
   },
   "outputs": [
    {
     "name": "stdout",
     "output_type": "stream",
     "text": [
      "actor_1_facebook_likes\n",
      "6648.62979592\n",
      "actor_2_facebook_likes\n",
      "1684.1759902\n",
      "actor_3_facebook_likes\n",
      "653.779595175\n",
      "aspect_ratio\n",
      "2.1284344634\n",
      "budget\n",
      "39892924.8304\n",
      "cast_total_facebook_likes\n",
      "9849\n",
      "director_facebook_likes\n",
      "692.662510221\n",
      "content_rating\n",
      "13.6882617062\n"
     ]
    }
   ],
   "source": [
    "def replace_NaNs(col):\n",
    "    # compute average\n",
    "    avg = np.sum(col) / (len(col) - np.sum(col.isnull()))\n",
    "    print(avg)\n",
    "    \n",
    "    # replace NaNs with average\n",
    "    col = col.fillna(value=avg)\n",
    "    return col\n",
    "\n",
    "pd.options.mode.chained_assignment= None\n",
    "\n",
    "replace_with_avgs = ['actor_1_facebook_likes', 'actor_2_facebook_likes', 'actor_3_facebook_likes', \n",
    "                   'aspect_ratio', 'budget', 'cast_total_facebook_likes', 'director_facebook_likes', \n",
    "                   'content_rating']\n",
    "for column in replace_with_avgs:\n",
    "    print(column)\n",
    "    movie_data[column] = replace_NaNs(movie_data[column])"
   ]
  },
  {
   "cell_type": "markdown",
   "metadata": {},
   "source": [
    "# Try testing"
   ]
  },
  {
   "cell_type": "code",
   "execution_count": 10,
   "metadata": {
    "collapsed": false
   },
   "outputs": [],
   "source": [
    "movie_num = movie_data.fillna(value=0, axis=1)\n",
    "#print(movie_num.head())\n",
    "\n",
    "#ratings_integers = [int(round(rating)) for rating in ratings]\n",
    "\n",
    "X = movie_num.values\n",
    "# Data Normalization\n",
    "X_std = StandardScaler().fit_transform(X)"
   ]
  },
  {
   "cell_type": "markdown",
   "metadata": {},
   "source": [
    "Split into training set and test set. First 70% of samples is taken as training set, the remaining 30% of samples is taken as the test set"
   ]
  },
  {
   "cell_type": "code",
   "execution_count": 11,
   "metadata": {
    "collapsed": false
   },
   "outputs": [
    {
     "name": "stdout",
     "output_type": "stream",
     "text": [
      "(4900, 43)\n"
     ]
    }
   ],
   "source": [
    "print X_std.shape\n",
    "\n",
    "# y actual values\n",
    "y = movie_score\n",
    "\n",
    "number_of_samples = len(y)\n",
    "\n",
    "# take the first 70% of the samples as the training set\n",
    "num_training_samples = int(number_of_samples*0.70)\n",
    "x_train = X_std[:num_training_samples]\n",
    "\n",
    "# take the same 70% for the y training set\n",
    "y_train=y[:num_training_samples]\n",
    "\n",
    "# take the rest as the test set\n",
    "x_test = X_std[num_training_samples:]\n",
    "y_test = y[num_training_samples:]\n",
    "\n",
    "y_Train=list(y_train)"
   ]
  },
  {
   "cell_type": "markdown",
   "metadata": {},
   "source": [
    "## Prediction analysis function ##"
   ]
  },
  {
   "cell_type": "code",
   "execution_count": 12,
   "metadata": {
    "collapsed": true
   },
   "outputs": [],
   "source": [
    "def analyse_predictions(regr, x_test, y_test, doprint=False):\n",
    "    predres = list(regr.predict(x_test))\n",
    "    actual = list(y_test)\n",
    "\n",
    "    highest = lowest = avg = 0\n",
    "    for i in range(len(predres)):\n",
    "        diff = abs(predres[i] - actual[i])\n",
    "        avg += diff\n",
    "\n",
    "        if doprint:\n",
    "            print \"predicted:\", predres[i], \n",
    "            print \"\\tActual:\", actual[i],\n",
    "            print \"\\tDifference:\", abs(predres[i] - actual[i])\n",
    "\n",
    "        if diff > highest:\n",
    "            highest = diff\n",
    "        if diff < lowest:\n",
    "            lowest = diff\n",
    "\n",
    "    print\n",
    "    print \"Highest difference:\", highest\n",
    "    print \"Lowest difference:\", lowest\n",
    "    print \"average difference:\", avg / len(predres)"
   ]
  },
  {
   "cell_type": "markdown",
   "metadata": {},
   "source": [
    "# Linear Regression #"
   ]
  },
  {
   "cell_type": "code",
   "execution_count": 13,
   "metadata": {
    "collapsed": false,
    "scrolled": true
   },
   "outputs": [
    {
     "name": "stdout",
     "output_type": "stream",
     "text": [
      "('Coefficients: \\n', array([  2.42452655e-01,   4.97907843e-02,   8.31790698e-02,\n",
      "         3.29436088e-02,   9.03604276e-03,  -3.04507422e-01,\n",
      "         2.14178534e-02,   1.21258877e-02,   1.22088359e-02,\n",
      "         4.06421806e-02,   2.12904029e-02,   2.50374929e-03,\n",
      "         4.79930019e-02,  -3.26559154e-02,  -6.19031601e-02,\n",
      "         1.72094071e-02,   1.98484899e-03,   1.37550312e-02,\n",
      "        -1.06798241e-03,  -1.72583015e-03,  -7.30615638e-03,\n",
      "        -4.50659618e-03,   2.91906272e-02,   2.72355858e-02,\n",
      "        -1.99745900e-02,  -1.60302147e+11,   1.32846170e-02,\n",
      "        -7.06392670e-02,  -8.29143626e+09,   7.26795628e-03,\n",
      "         9.12798433e-03,  -2.62521637e-03,   7.66338100e-04,\n",
      "        -2.36238678e-03,  -3.20423338e-02,   6.20772108e-02,\n",
      "        -3.07610091e-02,  -1.72588173e-02,  -2.39442072e-03,\n",
      "         1.32698477e-02,   0.00000000e+00,  -9.42030384e-03,\n",
      "         2.20246720e-02]))\n"
     ]
    },
    {
     "ename": "ValueError",
     "evalue": "operands could not be broadcast together with shapes (1370,) (1513,) ",
     "output_type": "error",
     "traceback": [
      "\u001b[1;31m---------------------------------------------------------------------------\u001b[0m",
      "\u001b[1;31mValueError\u001b[0m                                Traceback (most recent call last)",
      "\u001b[1;32m<ipython-input-13-f56024cd8af8>\u001b[0m in \u001b[0;36m<module>\u001b[1;34m()\u001b[0m\n\u001b[0;32m      8\u001b[0m \u001b[1;31m# The mean squared error\u001b[0m\u001b[1;33m\u001b[0m\u001b[1;33m\u001b[0m\u001b[0m\n\u001b[0;32m      9\u001b[0m print(\"Mean squared error: %.2f\"\n\u001b[1;32m---> 10\u001b[1;33m       % np.mean((regr.predict(x_test) - y_test) ** 2))\n\u001b[0m\u001b[0;32m     11\u001b[0m \u001b[1;31m# Explained variance score: 1 is perfect prediction\u001b[0m\u001b[1;33m\u001b[0m\u001b[1;33m\u001b[0m\u001b[0m\n\u001b[0;32m     12\u001b[0m \u001b[1;32mprint\u001b[0m\u001b[1;33m(\u001b[0m\u001b[1;34m'Variance score: %.2f'\u001b[0m \u001b[1;33m%\u001b[0m \u001b[0mregr\u001b[0m\u001b[1;33m.\u001b[0m\u001b[0mscore\u001b[0m\u001b[1;33m(\u001b[0m\u001b[0mx_test\u001b[0m\u001b[1;33m,\u001b[0m \u001b[0my_test\u001b[0m\u001b[1;33m)\u001b[0m\u001b[1;33m)\u001b[0m\u001b[1;33m\u001b[0m\u001b[0m\n",
      "\u001b[1;32m/home/carlo/anaconda2/lib/python2.7/site-packages/pandas/core/ops.pyc\u001b[0m in \u001b[0;36mwrapper\u001b[1;34m(left, right, name, na_op)\u001b[0m\n\u001b[0;32m    649\u001b[0m                 \u001b[0mlvalues\u001b[0m \u001b[1;33m=\u001b[0m \u001b[0mlvalues\u001b[0m\u001b[1;33m.\u001b[0m\u001b[0mvalues\u001b[0m\u001b[1;33m\u001b[0m\u001b[0m\n\u001b[0;32m    650\u001b[0m \u001b[1;33m\u001b[0m\u001b[0m\n\u001b[1;32m--> 651\u001b[1;33m             return left._constructor(wrap_results(na_op(lvalues, rvalues)),\n\u001b[0m\u001b[0;32m    652\u001b[0m                                      \u001b[0mindex\u001b[0m\u001b[1;33m=\u001b[0m\u001b[0mleft\u001b[0m\u001b[1;33m.\u001b[0m\u001b[0mindex\u001b[0m\u001b[1;33m,\u001b[0m \u001b[0mname\u001b[0m\u001b[1;33m=\u001b[0m\u001b[0mleft\u001b[0m\u001b[1;33m.\u001b[0m\u001b[0mname\u001b[0m\u001b[1;33m,\u001b[0m\u001b[1;33m\u001b[0m\u001b[0m\n\u001b[0;32m    653\u001b[0m                                      dtype=dtype)\n",
      "\u001b[1;32m/home/carlo/anaconda2/lib/python2.7/site-packages/pandas/core/ops.pyc\u001b[0m in \u001b[0;36mna_op\u001b[1;34m(x, y)\u001b[0m\n\u001b[0;32m    580\u001b[0m         \u001b[1;32mtry\u001b[0m\u001b[1;33m:\u001b[0m\u001b[1;33m\u001b[0m\u001b[0m\n\u001b[0;32m    581\u001b[0m             result = expressions.evaluate(op, str_rep, x, y,\n\u001b[1;32m--> 582\u001b[1;33m                                           raise_on_error=True, **eval_kwargs)\n\u001b[0m\u001b[0;32m    583\u001b[0m         \u001b[1;32mexcept\u001b[0m \u001b[0mTypeError\u001b[0m\u001b[1;33m:\u001b[0m\u001b[1;33m\u001b[0m\u001b[0m\n\u001b[0;32m    584\u001b[0m             \u001b[1;32mif\u001b[0m \u001b[0misinstance\u001b[0m\u001b[1;33m(\u001b[0m\u001b[0my\u001b[0m\u001b[1;33m,\u001b[0m \u001b[1;33m(\u001b[0m\u001b[0mnp\u001b[0m\u001b[1;33m.\u001b[0m\u001b[0mndarray\u001b[0m\u001b[1;33m,\u001b[0m \u001b[0mABCSeries\u001b[0m\u001b[1;33m,\u001b[0m \u001b[0mpd\u001b[0m\u001b[1;33m.\u001b[0m\u001b[0mIndex\u001b[0m\u001b[1;33m)\u001b[0m\u001b[1;33m)\u001b[0m\u001b[1;33m:\u001b[0m\u001b[1;33m\u001b[0m\u001b[0m\n",
      "\u001b[1;32m/home/carlo/anaconda2/lib/python2.7/site-packages/pandas/computation/expressions.pyc\u001b[0m in \u001b[0;36mevaluate\u001b[1;34m(op, op_str, a, b, raise_on_error, use_numexpr, **eval_kwargs)\u001b[0m\n\u001b[0;32m    207\u001b[0m     \u001b[1;32mif\u001b[0m \u001b[0muse_numexpr\u001b[0m\u001b[1;33m:\u001b[0m\u001b[1;33m\u001b[0m\u001b[0m\n\u001b[0;32m    208\u001b[0m         return _evaluate(op, op_str, a, b, raise_on_error=raise_on_error,\n\u001b[1;32m--> 209\u001b[1;33m                          **eval_kwargs)\n\u001b[0m\u001b[0;32m    210\u001b[0m     \u001b[1;32mreturn\u001b[0m \u001b[0m_evaluate_standard\u001b[0m\u001b[1;33m(\u001b[0m\u001b[0mop\u001b[0m\u001b[1;33m,\u001b[0m \u001b[0mop_str\u001b[0m\u001b[1;33m,\u001b[0m \u001b[0ma\u001b[0m\u001b[1;33m,\u001b[0m \u001b[0mb\u001b[0m\u001b[1;33m,\u001b[0m \u001b[0mraise_on_error\u001b[0m\u001b[1;33m=\u001b[0m\u001b[0mraise_on_error\u001b[0m\u001b[1;33m)\u001b[0m\u001b[1;33m\u001b[0m\u001b[0m\n\u001b[0;32m    211\u001b[0m \u001b[1;33m\u001b[0m\u001b[0m\n",
      "\u001b[1;32m/home/carlo/anaconda2/lib/python2.7/site-packages/pandas/computation/expressions.pyc\u001b[0m in \u001b[0;36m_evaluate_numexpr\u001b[1;34m(op, op_str, a, b, raise_on_error, truediv, reversed, **eval_kwargs)\u001b[0m\n\u001b[0;32m    118\u001b[0m \u001b[1;33m\u001b[0m\u001b[0m\n\u001b[0;32m    119\u001b[0m     \u001b[1;32mif\u001b[0m \u001b[0mresult\u001b[0m \u001b[1;32mis\u001b[0m \u001b[0mNone\u001b[0m\u001b[1;33m:\u001b[0m\u001b[1;33m\u001b[0m\u001b[0m\n\u001b[1;32m--> 120\u001b[1;33m         \u001b[0mresult\u001b[0m \u001b[1;33m=\u001b[0m \u001b[0m_evaluate_standard\u001b[0m\u001b[1;33m(\u001b[0m\u001b[0mop\u001b[0m\u001b[1;33m,\u001b[0m \u001b[0mop_str\u001b[0m\u001b[1;33m,\u001b[0m \u001b[0ma\u001b[0m\u001b[1;33m,\u001b[0m \u001b[0mb\u001b[0m\u001b[1;33m,\u001b[0m \u001b[0mraise_on_error\u001b[0m\u001b[1;33m)\u001b[0m\u001b[1;33m\u001b[0m\u001b[0m\n\u001b[0m\u001b[0;32m    121\u001b[0m \u001b[1;33m\u001b[0m\u001b[0m\n\u001b[0;32m    122\u001b[0m     \u001b[1;32mreturn\u001b[0m \u001b[0mresult\u001b[0m\u001b[1;33m\u001b[0m\u001b[0m\n",
      "\u001b[1;32m/home/carlo/anaconda2/lib/python2.7/site-packages/pandas/computation/expressions.pyc\u001b[0m in \u001b[0;36m_evaluate_standard\u001b[1;34m(op, op_str, a, b, raise_on_error, **eval_kwargs)\u001b[0m\n\u001b[0;32m     60\u001b[0m     \u001b[1;32mif\u001b[0m \u001b[0m_TEST_MODE\u001b[0m\u001b[1;33m:\u001b[0m\u001b[1;33m\u001b[0m\u001b[0m\n\u001b[0;32m     61\u001b[0m         \u001b[0m_store_test_result\u001b[0m\u001b[1;33m(\u001b[0m\u001b[0mFalse\u001b[0m\u001b[1;33m)\u001b[0m\u001b[1;33m\u001b[0m\u001b[0m\n\u001b[1;32m---> 62\u001b[1;33m     \u001b[1;32mreturn\u001b[0m \u001b[0mop\u001b[0m\u001b[1;33m(\u001b[0m\u001b[0ma\u001b[0m\u001b[1;33m,\u001b[0m \u001b[0mb\u001b[0m\u001b[1;33m)\u001b[0m\u001b[1;33m\u001b[0m\u001b[0m\n\u001b[0m\u001b[0;32m     63\u001b[0m \u001b[1;33m\u001b[0m\u001b[0m\n\u001b[0;32m     64\u001b[0m \u001b[1;33m\u001b[0m\u001b[0m\n",
      "\u001b[1;32m/home/carlo/anaconda2/lib/python2.7/site-packages/pandas/core/ops.pyc\u001b[0m in \u001b[0;36m<lambda>\u001b[1;34m(x, y)\u001b[0m\n\u001b[0;32m     83\u001b[0m         rmul=arith_method(operator.mul, names('rmul'), op('*'),\n\u001b[0;32m     84\u001b[0m                           default_axis=default_axis, reversed=True),\n\u001b[1;32m---> 85\u001b[1;33m         rsub=arith_method(lambda x, y: y - x, names('rsub'), op('-'),\n\u001b[0m\u001b[0;32m     86\u001b[0m                           default_axis=default_axis, reversed=True),\n\u001b[0;32m     87\u001b[0m         rtruediv=arith_method(lambda x, y: operator.truediv(y, x),\n",
      "\u001b[1;31mValueError\u001b[0m: operands could not be broadcast together with shapes (1370,) (1513,) "
     ]
    }
   ],
   "source": [
    "from sklearn import linear_model\n",
    "regr = linear_model.LinearRegression(copy_X=True, fit_intercept=True, n_jobs=1, normalize=False)\n",
    "\n",
    "regr.fit (x_train, y_train)\n",
    "#\n",
    "# The coefficients\n",
    "print('Coefficients: \\n', regr.coef_)\n",
    "# The mean squared error\n",
    "print(\"Mean squared error: %.2f\"\n",
    "      % np.mean((regr.predict(x_test) - y_test) ** 2))\n",
    "# Explained variance score: 1 is perfect prediction\n",
    "print('Variance score: %.2f' % regr.score(x_test, y_test))\n",
    "\n",
    "analyse_predictions(regr, x_test, y_test)\n"
   ]
  },
  {
   "cell_type": "markdown",
   "metadata": {},
   "source": [
    "# Ridge Regression #"
   ]
  },
  {
   "cell_type": "code",
   "execution_count": null,
   "metadata": {
    "collapsed": false
   },
   "outputs": [],
   "source": [
    "regr = linear_model.Ridge()\n",
    "\n",
    "regr.fit (x_train, y_train)\n",
    "\n",
    "# The coefficients\n",
    "print('Coefficients: \\n', regr.coef_)\n",
    "# The mean squared error\n",
    "print(\"Mean squared error: %.2f\"\n",
    "      % np.mean((regr.predict(x_test) - y_test) ** 2))\n",
    "# Explained variance score: 1 is perfect prediction\n",
    "print('Variance score: %.2f' % regr.score(x_test, y_test))\n",
    "\n",
    "analyse_predictions(regr, x_test, y_test)\n"
   ]
  },
  {
   "cell_type": "markdown",
   "metadata": {},
   "source": [
    "# Lasso #"
   ]
  },
  {
   "cell_type": "code",
   "execution_count": null,
   "metadata": {
    "collapsed": false
   },
   "outputs": [],
   "source": [
    "regr = linear_model.Lasso(alpha=0.1, copy_X=True, fit_intercept=True, max_iter=1000,\n",
    "   normalize=False, positive=False, precompute=False, random_state=None,\n",
    "   selection='cyclic', tol=0.0001, warm_start=False)\n",
    "\n",
    "regr.fit (x_train, y_train)\n",
    "\n",
    "# The coefficients\n",
    "print('Coefficients: \\n', regr.coef_)\n",
    "# The mean squared error\n",
    "print(\"Mean squared error: %.2f\"\n",
    "      % np.mean((regr.predict(x_test) - y_test) ** 2))\n",
    "# Explained variance score: 1 is perfect prediction\n",
    "print('Variance score: %.2f' % regr.score(x_test, y_test))\n",
    "\n",
    "analyse_predictions(regr, x_test, y_test)"
   ]
  },
  {
   "cell_type": "markdown",
   "metadata": {},
   "source": [
    "Print predicted values, actual values and the difference for every predicted sample"
   ]
  },
  {
   "cell_type": "code",
   "execution_count": null,
   "metadata": {
    "collapsed": false
   },
   "outputs": [],
   "source": [
    "regr = linear_model.BayesianRidge(alpha_1=1e-06, alpha_2=5e-06, compute_score=False, copy_X=True,\n",
    "       fit_intercept=True, lambda_1=1e-06, lambda_2=1e-06, n_iter=300,\n",
    "       normalize=False, tol=0.001, verbose=False)\n",
    "\n",
    "regr.fit (x_train, y_train)\n",
    "\n",
    "# The coefficients\n",
    "print('Coefficients: \\n', regr.coef_)\n",
    "# The mean squared error\n",
    "print(\"Mean squared error: %.2f\"\n",
    "      % np.mean((regr.predict(x_test) - y_test) ** 2))\n",
    "# Explained variance score: 1 is perfect prediction\n",
    "print('Variance score: %.2f' % regr.score(x_test, y_test))\n",
    "\n",
    "analyse_predictions(regr, x_test, y_test)"
   ]
  },
  {
   "cell_type": "code",
   "execution_count": null,
   "metadata": {
    "collapsed": true
   },
   "outputs": [],
   "source": []
  }
 ],
 "metadata": {
  "anaconda-cloud": {},
  "kernelspec": {
   "display_name": "Python [Root]",
   "language": "python",
   "name": "Python [Root]"
  },
  "language_info": {
   "codemirror_mode": {
    "name": "ipython",
    "version": 2
   },
   "file_extension": ".py",
   "mimetype": "text/x-python",
   "name": "python",
   "nbconvert_exporter": "python",
   "pygments_lexer": "ipython2",
   "version": "2.7.12"
  }
 },
 "nbformat": 4,
 "nbformat_minor": 0
}
