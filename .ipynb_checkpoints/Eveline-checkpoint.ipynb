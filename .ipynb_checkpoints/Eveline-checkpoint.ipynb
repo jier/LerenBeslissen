{
 "cells": [
  {
   "cell_type": "code",
   "execution_count": 45,
   "metadata": {
    "collapsed": false
   },
   "outputs": [
    {
     "name": "stdout",
     "output_type": "stream",
     "text": [
      "0                         Action|Adventure|Fantasy|Sci-Fi\n",
      "1                                Action|Adventure|Fantasy\n",
      "2                               Action|Adventure|Thriller\n",
      "3                                         Action|Thriller\n",
      "4                                             Documentary\n",
      "5                                 Action|Adventure|Sci-Fi\n",
      "6                                Action|Adventure|Romance\n",
      "7       Adventure|Animation|Comedy|Family|Fantasy|Musi...\n",
      "8                                 Action|Adventure|Sci-Fi\n",
      "9                        Adventure|Family|Fantasy|Mystery\n",
      "10                                Action|Adventure|Sci-Fi\n",
      "11                                Action|Adventure|Sci-Fi\n",
      "12                                       Action|Adventure\n",
      "13                               Action|Adventure|Fantasy\n",
      "14                               Action|Adventure|Western\n",
      "15                        Action|Adventure|Fantasy|Sci-Fi\n",
      "16                        Action|Adventure|Family|Fantasy\n",
      "17                                Action|Adventure|Sci-Fi\n",
      "18                               Action|Adventure|Fantasy\n",
      "19          Action|Adventure|Comedy|Family|Fantasy|Sci-Fi\n",
      "20                                      Adventure|Fantasy\n",
      "21                               Action|Adventure|Fantasy\n",
      "22                         Action|Adventure|Drama|History\n",
      "23                                      Adventure|Fantasy\n",
      "24                               Adventure|Family|Fantasy\n",
      "25                         Action|Adventure|Drama|Romance\n",
      "26                                          Drama|Romance\n",
      "27                                Action|Adventure|Sci-Fi\n",
      "28                       Action|Adventure|Sci-Fi|Thriller\n",
      "29                       Action|Adventure|Sci-Fi|Thriller\n",
      "                              ...                        \n",
      "5013                                         Drama|Family\n",
      "5014                                Action|Crime|Thriller\n",
      "5015                                         Comedy|Drama\n",
      "5016                                 Crime|Drama|Thriller\n",
      "5017                                       Comedy|Romance\n",
      "5018                                                Drama\n",
      "5019                              Horror|Mystery|Thriller\n",
      "5020                                Drama|Horror|Thriller\n",
      "5021                                 Comedy|Drama|Romance\n",
      "5022                                                Drama\n",
      "5023                                              Romance\n",
      "5024                                      Sci-Fi|Thriller\n",
      "5025                                  Comedy|Crime|Horror\n",
      "5026                                  Drama|Music|Romance\n",
      "5027                                                Drama\n",
      "5028                                               Horror\n",
      "5029                        Crime|Horror|Mystery|Thriller\n",
      "5030                                                Drama\n",
      "5031                               Comedy|Horror|Thriller\n",
      "5032                                          Crime|Drama\n",
      "5033                                Drama|Sci-Fi|Thriller\n",
      "5034                                             Thriller\n",
      "5035                  Action|Crime|Drama|Romance|Thriller\n",
      "5036                                          Crime|Drama\n",
      "5037                                         Comedy|Drama\n",
      "5038                                         Comedy|Drama\n",
      "5039                         Crime|Drama|Mystery|Thriller\n",
      "5040                                Drama|Horror|Thriller\n",
      "5041                                 Comedy|Drama|Romance\n",
      "5042                                          Documentary\n",
      "Name: genres, dtype: object\n"
     ]
    }
   ],
   "source": [
    "import numpy as np\n",
    "import csv\n",
    "import pandas as pd\n",
    "from sklearn.preprocessing import StandardScaler\n",
    "from sklearn.neighbors import KNeighborsClassifier, KNeighborsRegressor\n",
    "from sklearn.preprocessing import LabelEncoder\n",
    "\n",
    "data = pd.read_csv('movie_metadata.csv')\n",
    "\n",
    "to_drop = ['director_name', 'num_critic_for_reviews', 'actor_2_name','actor_1_name', 'movie_title', 'num_voted_users'\n",
    "           , 'actor_3_name', 'plot_keywords', 'movie_imdb_link', 'num_user_for_reviews']\n",
    "\n",
    "            \n",
    "features_list = data.columns.difference(to_drop)\n",
    "movie_data = data[features_list]\n",
    "#print(np.sum(movie_num.isnull()))\n",
    "#print(movie_data.content_rating.unique())\n",
    "\n",
    "movie_data.country = movie_data.country.replace(to_replace='USA', value = 1)\n",
    "\n",
    "for item in new_column:\n",
    "    if item != 1:\n",
    "        movie_data.country = new_column.replace(to_replace = item, value = 0)\n",
    "        \n",
    "#print(movie_data['country'])   \n",
    "\n",
    "pd.options.mode.chained_assignment = None \n",
    "\n",
    "#print(movie_data['genres'])\n",
    "#print(movie_data['country'])\n",
    "#number = LabelEncoder()\n",
    "\n",
    "#print(movie_data['country'])\n",
    "#movie_data['Color'] = number.fit_transform(movie_data['Color'].astype('str'))"
   ]
  },
  {
   "cell_type": "code",
   "execution_count": 2,
   "metadata": {
    "collapsed": false
   },
   "outputs": [
    {
     "ename": "NameError",
     "evalue": "name 'movie_num' is not defined",
     "output_type": "error",
     "traceback": [
      "\u001b[1;31m---------------------------------------------------------------------------\u001b[0m",
      "\u001b[1;31mNameError\u001b[0m                                 Traceback (most recent call last)",
      "\u001b[1;32m<ipython-input-2-cbd0a1da1899>\u001b[0m in \u001b[0;36m<module>\u001b[1;34m()\u001b[0m\n\u001b[1;32m----> 1\u001b[1;33m \u001b[0mmovie_num\u001b[0m \u001b[1;33m=\u001b[0m \u001b[0mmovie_num\u001b[0m\u001b[1;33m.\u001b[0m\u001b[0mfillna\u001b[0m\u001b[1;33m(\u001b[0m\u001b[0mvalue\u001b[0m\u001b[1;33m=\u001b[0m\u001b[1;36m0\u001b[0m\u001b[1;33m,\u001b[0m \u001b[0maxis\u001b[0m\u001b[1;33m=\u001b[0m\u001b[1;36m1\u001b[0m\u001b[1;33m)\u001b[0m\u001b[1;33m\u001b[0m\u001b[0m\n\u001b[0m\u001b[0;32m      2\u001b[0m \u001b[0mratings\u001b[0m \u001b[1;33m=\u001b[0m \u001b[0mmovie_num\u001b[0m\u001b[1;33m[\u001b[0m\u001b[1;34m'imdb_score'\u001b[0m\u001b[1;33m]\u001b[0m\u001b[1;33m.\u001b[0m\u001b[0mvalues\u001b[0m\u001b[1;33m\u001b[0m\u001b[0m\n\u001b[0;32m      3\u001b[0m \u001b[1;32mdel\u001b[0m \u001b[0mmovie_num\u001b[0m\u001b[1;33m[\u001b[0m\u001b[1;34m'imdb_score'\u001b[0m\u001b[1;33m]\u001b[0m\u001b[1;33m\u001b[0m\u001b[0m\n\u001b[0;32m      4\u001b[0m \u001b[1;31m#print(movie_num.head())\u001b[0m\u001b[1;33m\u001b[0m\u001b[1;33m\u001b[0m\u001b[0m\n\u001b[0;32m      5\u001b[0m \u001b[1;33m\u001b[0m\u001b[0m\n",
      "\u001b[1;31mNameError\u001b[0m: name 'movie_num' is not defined"
     ]
    }
   ],
   "source": [
    "movie_num = movie_num.fillna(value=0, axis=1)\n",
    "ratings = movie_num['imdb_score'].values\n",
    "del movie_num['imdb_score']\n",
    "#print(movie_num.head())\n",
    "\n",
    "#ratings_integers = [int(round(rating)) for rating in ratings]\n",
    "\n",
    "X = movie_num.values\n",
    "# Data Normalization\n",
    "X_std = StandardScaler().fit_transform(X)\n",
    "\n",
    "number_of_samples = len(ratings)\n",
    "np.random.seed(0)\n",
    "random_indices = np.random.permutation(number_of_samples)\n",
    "num_training_samples = int(number_of_samples*0.75)\n",
    "movie_num_training = X_std[random_indices[:num_training_samples]]\n",
    "ratings_cont_training = ratings[random_indices[:num_training_samples]]\n",
    "\n",
    "\n",
    "movie_num_test = X_std[random_indices[num_training_samples:]]\n",
    "ratings_cont_test = ratings[random_indices[num_training_samples:]]\n",
    "ratings_cont_training = list(ratings_cont_training)\n",
    "\n",
    "# trainingdata:\n",
    "\n",
    "# number_for_training = int(round(0.75*len(ratings)))\n",
    "\n",
    "# movie_num_training = X_std[:number_for_training]\n",
    "# #ratings_int_training = ratings_integers[:number_for_training]\n",
    "# ratings_cont_training = ratings[:number_for_training]\n",
    "\n",
    "# #testdata:\n",
    "\n",
    "# movie_num_test = X_std[number_for_training:]\n",
    "# #ratings_int_test = ratings_integers[number_for_training:]\n",
    "# ratings_cont_test = ratings[number_for_training:]"
   ]
  },
  {
   "cell_type": "code",
   "execution_count": 56,
   "metadata": {
    "collapsed": false
   },
   "outputs": [
    {
     "name": "stdout",
     "output_type": "stream",
     "text": [
      "{'Romance', 'Game-Show', 'History', 'Action', 'Comedy', 'Fantasy', 'Reality-TV', 'Short', 'Documentary', 'Film-Noir', 'Sport', 'Music', 'News', 'Thriller', 'Horror', 'Adventure', 'War', 'Western', 'Sci-Fi', 'Biography', 'Drama', 'Mystery', 'Animation', 'Musical', 'Crime', 'Family'}\n"
     ]
    }
   ],
   "source": [
    "genres = []\n",
    "\n",
    "for string in movie_data['genres']:\n",
    "    genre = string.split('|')\n",
    "    genres = genres+genre\n",
    "    \n",
    "print(set(genres))\n",
    "    \n"
   ]
  },
  {
   "cell_type": "code",
   "execution_count": 10,
   "metadata": {
    "collapsed": false
   },
   "outputs": [
    {
     "name": "stdout",
     "output_type": "stream",
     "text": [
      "Train error = 10.250387030487742 percent in knn algorithm\n",
      "Test error = 13.955057806844415 percent in knn algorithm\n"
     ]
    }
   ],
   "source": [
    "# k-nearest neighbor met integers voor ratings (is niet heel accuraat):\n",
    "\n",
    "# neighbor = KNeighborsClassifier(n_neighbors = 1)\n",
    "# neighbor.fit(movie_num_training, ratings_int_training)\n",
    "# neighbor.score(movie_num_test, ratings_int_test)\n",
    "\n",
    "\n",
    "# k-nearest neighbor voor continue ratings:\n",
    "\n",
    "regressor = KNeighborsRegressor()\n",
    "regressor.fit(movie_num_training, ratings_cont_training)\n",
    "y_predict_train = regressor.predict(movie_num_training)\n",
    "y_predict_train = list(y_predict_train)\n",
    "\n",
    "error = 0\n",
    "\n",
    "for i in range(len(ratings_cont_training)):\n",
    "    error += (abs(y_predict_train[i]-ratings_cont_training[i]))/ratings_cont_training[i]\n",
    "training_error = error/len(ratings_cont_training)*100\n",
    "\n",
    "print(\"Train error = \"+'{}'.format(training_error)+\" percent\"+\" in knn algorithm\")\n",
    "\n",
    "y_predict_test = regressor.predict(movie_num_test)\n",
    "y_predict_test = list(y_predict_test)\n",
    "\n",
    "error = 0\n",
    "\n",
    "for i in range(len(ratings_cont_test)):\n",
    "    error += (abs(y_predict_test[i]-ratings_cont_test[i]))/ratings_cont_test[i]\n",
    "test_error = error/len(ratings_cont_test)*100\n",
    "\n",
    "print(\"Test error = \"'{}'.format(test_error)+\" percent\"+\" in knn algorithm\")"
   ]
  },
  {
   "cell_type": "code",
   "execution_count": 15,
   "metadata": {
    "collapsed": false
   },
   "outputs": [
    {
     "name": "stdout",
     "output_type": "stream",
     "text": [
      "[ 4.8  7.2  5.9 ...,  7.   8.   5.6]\n",
      "[ 5.92287138  6.96745642  5.48463138 ...,  6.89893773  7.64806369\n",
      "  6.14086692]\n",
      "Train error = 10.72765358890923 percent in neural network algorithm\n",
      "Test error = 12.917495142456367 percent in neural network algorithm\n"
     ]
    }
   ],
   "source": [
    "# Neural networks:\n",
    "\n",
    "from sklearn.neural_network import MLPRegressor\n",
    "\n",
    "neural = MLPRegressor(alpha = 0.00001)#activation='logistic')\n",
    "\n",
    "neural.fit(movie_num_training, ratings_cont_training)\n",
    "y_neural_1 = neural.predict(movie_num_training)\n",
    "y_neural_2 = neural.predict(movie_num_test)\n",
    "print(ratings_cont_test)\n",
    "print(y_neural_2)\n",
    "error = 0\n",
    "\n",
    "for i in range(len(ratings_cont_training)):\n",
    "    error += (abs(y_neural_1[i]-ratings_cont_training[i]))/ratings_cont_training[i]\n",
    "training_error = error/len(ratings_cont_training)*100\n",
    "\n",
    "print(\"Train error = \"+'{}'.format(training_error)+\" percent\"+\" in neural network algorithm\")\n",
    "\n",
    "error = 0\n",
    "\n",
    "for i in range(len(ratings_cont_test)):\n",
    "    error += (abs(y_neural_2[i]-ratings_cont_test[i]))/ratings_cont_test[i]\n",
    "test_error = error/len(ratings_cont_test)*100\n",
    "\n",
    "print(\"Test error = \"'{}'.format(test_error)+\" percent\"+\" in neural network algorithm\")"
   ]
  },
  {
   "cell_type": "code",
   "execution_count": null,
   "metadata": {
    "collapsed": true
   },
   "outputs": [],
   "source": []
  }
 ],
 "metadata": {
  "anaconda-cloud": {},
  "kernelspec": {
   "display_name": "Python [Root]",
   "language": "python",
   "name": "Python [Root]"
  },
  "language_info": {
   "codemirror_mode": {
    "name": "ipython",
    "version": 3
   },
   "file_extension": ".py",
   "mimetype": "text/x-python",
   "name": "python",
   "nbconvert_exporter": "python",
   "pygments_lexer": "ipython3",
   "version": "3.5.2"
  }
 },
 "nbformat": 4,
 "nbformat_minor": 0
}
