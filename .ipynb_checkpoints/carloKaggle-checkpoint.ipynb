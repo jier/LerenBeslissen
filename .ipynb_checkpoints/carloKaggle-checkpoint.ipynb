{
 "cells": [
  {
   "cell_type": "code",
   "execution_count": 1,
   "metadata": {
    "collapsed": false
   },
   "outputs": [
    {
     "name": "stderr",
     "output_type": "stream",
     "text": [
      "/home/carlo/anaconda2/lib/python2.7/site-packages/matplotlib/font_manager.py:273: UserWarning: Matplotlib is building the font cache using fc-list. This may take a moment.\n",
      "  warnings.warn('Matplotlib is building the font cache using fc-list. This may take a moment.')\n"
     ]
    }
   ],
   "source": [
    "import numpy as np\n",
    "import pandas as pd\n",
    "import csv\n",
    "import matplotlib.pyplot as plt\n",
    "from sklearn import neighbors\n",
    "from sklearn import linear_model\n",
    "\n",
    "def load_training_set(filename):\n",
    "    with open(filename, \"rU\") as f:\n",
    "        return [[x for x in row]for row in csv.reader(f, delimiter=',')]\n",
    "\n",
    "\n",
    "data = load_training_set(\"movie_metadata.csv\")\n",
    "\n",
    "movie = pd.read_csv('movie_metadata.csv') # reads the csv and creates the dataframe called movie\n",
    "\n",
    "\n"
   ]
  },
  {
   "cell_type": "markdown",
   "metadata": {},
   "source": [
    "Separate the movie dataframe into a dataframe specifically for numerical values and a datafrome specifically for string values."
   ]
  },
  {
   "cell_type": "code",
   "execution_count": 2,
   "metadata": {
    "collapsed": true
   },
   "outputs": [],
   "source": [
    "\"\"\" get list of column names with string values \n",
    "    source: https://www.kaggle.com/arthurtok/d/deepmatrix/ imdb-5000-movie-dataset/principal-component-analysis-with-kmeans-visuals#\"\"\"\n",
    "str_list = [] # empty list to contain columns with strings (words)\n",
    "for colname, colvalue in movie.iteritems():\n",
    "    if type(colvalue[1]) == str:\n",
    "         str_list.append(colname)\n",
    "# Get to the numeric columns by inversion            \n",
    "num_list = movie.columns.difference(str_list)\n",
    "\n",
    "movie_num = movie[num_list]\n",
    "movie_str = movie[str_list]"
   ]
  },
  {
   "cell_type": "markdown",
   "metadata": {
    "collapsed": true
   },
   "source": [
    "Drop all rows containing NaN values for specific collumns"
   ]
  },
  {
   "cell_type": "code",
   "execution_count": 3,
   "metadata": {
    "collapsed": false
   },
   "outputs": [],
   "source": [
    "# filter out all entries with NaN values from specific columns\n",
    "# http://stackoverflow.com/questions/13413590/how-to-drop-rows-of-pandas-dataframe-whose-value-in-certain-columns-is-nan\n",
    "# movie_gross = movie_num[np.isfinite(movie_num['gross'])]\n",
    "# movie_budget = movie_num[np.isfinite(movie_num['budget'])]\n",
    "# movie_likes = movie_num[np.isfinite(movie_num['movie_facebook_likes'])]\n",
    "# movie_critics = movie_num[np.isfinite(movie_num['num_critic_for_reviews'])]"
   ]
  },
  {
   "cell_type": "code",
   "execution_count": 4,
   "metadata": {
    "collapsed": false
   },
   "outputs": [],
   "source": [
    "# X = movie_gross.values\n",
    "# # Data Normalization\n",
    "# from sklearn.preprocessing import StandardScaler\n",
    "# X_gross_std = StandardScaler().fit_transform(X)"
   ]
  },
  {
   "cell_type": "markdown",
   "metadata": {},
   "source": [
    "Standardize Data"
   ]
  },
  {
   "cell_type": "code",
   "execution_count": 5,
   "metadata": {
    "collapsed": false
   },
   "outputs": [],
   "source": [
    "movie_score = movie_num[\"imdb_score\"]\n",
    "del movie_num[\"imdb_score\"]\n",
    "\n",
    "movie_num = movie_num.fillna(value=0, axis=1)\n",
    "\n",
    "X = movie_num.values\n",
    "# Data Normalization\n",
    "from sklearn.preprocessing import StandardScaler\n",
    "X_std = StandardScaler().fit_transform(X)"
   ]
  },
  {
   "cell_type": "markdown",
   "metadata": {},
   "source": [
    "Split into training set and test set. First 70% of samples is taken as training set, the remaining 30% of samples is taken as the test set"
   ]
  },
  {
   "cell_type": "code",
   "execution_count": 6,
   "metadata": {
    "collapsed": false
   },
   "outputs": [
    {
     "name": "stdout",
     "output_type": "stream",
     "text": [
      "(5043, 15)\n"
     ]
    }
   ],
   "source": [
    "print X_std.shape\n",
    "\n",
    "# y actual values\n",
    "y = movie_score\n",
    "\n",
    "number_of_samples = len(y)\n",
    "\n",
    "# take the first 70% of the samples as the training set\n",
    "num_training_samples = int(number_of_samples*0.70)\n",
    "x_train = X_std[:num_training_samples]\n",
    "\n",
    "# take the same 70% for the y training set\n",
    "y_train=y[:num_training_samples]\n",
    "\n",
    "# take the rest as the test set\n",
    "x_test = X_std[num_training_samples:]\n",
    "y_test = y[num_training_samples:]\n",
    "\n",
    "y_Train=list(y_train)"
   ]
  },
  {
   "cell_type": "markdown",
   "metadata": {},
   "source": [
    "## Prediction analysis function ##"
   ]
  },
  {
   "cell_type": "code",
   "execution_count": 7,
   "metadata": {
    "collapsed": true
   },
   "outputs": [],
   "source": [
    "def analyse_predictions(regr, x_test, y_test, doprint=False):\n",
    "    predres = list(regr.predict(x_test))\n",
    "    actual = list(y_test)\n",
    "\n",
    "    highest = lowest = avg = 0\n",
    "    for i in range(len(predres)):\n",
    "        diff = abs(predres[i] - actual[i])\n",
    "        avg += diff\n",
    "\n",
    "        if doprint:\n",
    "            print \"predicted:\", predres[i], \n",
    "            print \"\\tActual:\", actual[i],\n",
    "            print \"\\tDifference:\", abs(predres[i] - actual[i])\n",
    "\n",
    "        if diff > highest:\n",
    "            highest = diff\n",
    "        if diff < lowest:\n",
    "            lowest = diff\n",
    "\n",
    "    print\n",
    "    print \"Highest difference:\", highest\n",
    "    print \"Lowest difference:\", lowest\n",
    "    print \"average difference:\", avg / len(predres)"
   ]
  },
  {
   "cell_type": "markdown",
   "metadata": {},
   "source": [
    "# Linear Regression #"
   ]
  },
  {
   "cell_type": "code",
   "execution_count": 8,
   "metadata": {
    "collapsed": false,
    "scrolled": true
   },
   "outputs": [
    {
     "name": "stdout",
     "output_type": "stream",
     "text": [
      "('Coefficients: \\n', array([ 0.9527353 ,  0.26719334,  0.08785869,  0.00930775, -0.00934628,\n",
      "       -1.11697813,  0.02616702,  0.28024477, -0.05825682, -0.08438713,\n",
      "       -0.05360271,  0.2200015 , -0.22598527,  0.54439089, -0.29374508]))\n",
      "Mean squared error: 1.38\n",
      "Variance score: 0.09\n",
      "\n",
      "Highest difference: 3.93872981801\n",
      "Lowest difference: 0\n",
      "average difference: 0.974461356328\n"
     ]
    }
   ],
   "source": [
    "from sklearn import linear_model\n",
    "regr = linear_model.LinearRegression(copy_X=True, fit_intercept=True, n_jobs=1, normalize=False)\n",
    "\n",
    "regr.fit (x_train, y_train)\n",
    "#\n",
    "# The coefficients\n",
    "print('Coefficients: \\n', regr.coef_)\n",
    "# The mean squared error\n",
    "print(\"Mean squared error: %.2f\"\n",
    "      % np.mean((regr.predict(x_test) - y_test) ** 2))\n",
    "# Explained variance score: 1 is perfect prediction\n",
    "print('Variance score: %.2f' % regr.score(x_test, y_test))\n",
    "\n",
    "analyse_predictions(regr, x_test, y_test)\n"
   ]
  },
  {
   "cell_type": "markdown",
   "metadata": {},
   "source": [
    "# Ridge Regression #"
   ]
  },
  {
   "cell_type": "code",
   "execution_count": 9,
   "metadata": {
    "collapsed": false
   },
   "outputs": [
    {
     "name": "stdout",
     "output_type": "stream",
     "text": [
      "('Coefficients: \\n', array([ 0.84458904,  0.23783047,  0.07001475,  0.00923334, -0.00930705,\n",
      "       -0.9864387 ,  0.02625081,  0.28015098, -0.05824424, -0.08653004,\n",
      "       -0.05374883,  0.22022602, -0.22548774,  0.54460539, -0.29354756]))\n",
      "Mean squared error: 1.39\n",
      "Variance score: 0.09\n",
      "\n",
      "Highest difference: 3.93586266303\n",
      "Lowest difference: 0\n",
      "average difference: 0.974953180109\n"
     ]
    }
   ],
   "source": [
    "regr = linear_model.Ridge()\n",
    "\n",
    "regr.fit (x_train, y_train)\n",
    "\n",
    "# The coefficients\n",
    "print('Coefficients: \\n', regr.coef_)\n",
    "# The mean squared error\n",
    "print(\"Mean squared error: %.2f\"\n",
    "      % np.mean((regr.predict(x_test) - y_test) ** 2))\n",
    "# Explained variance score: 1 is perfect prediction\n",
    "print('Variance score: %.2f' % regr.score(x_test, y_test))\n",
    "\n",
    "analyse_predictions(regr, x_test, y_test)\n"
   ]
  },
  {
   "cell_type": "markdown",
   "metadata": {},
   "source": [
    "# Lasso #"
   ]
  },
  {
   "cell_type": "code",
   "execution_count": 10,
   "metadata": {
    "collapsed": false
   },
   "outputs": [
    {
     "name": "stdout",
     "output_type": "stream",
     "text": [
      "('Coefficients: \\n', array([ 0.        ,  0.        , -0.        ,  0.        , -0.        ,\n",
      "        0.        ,  0.        ,  0.14981784, -0.        , -0.        ,\n",
      "        0.        ,  0.04013587,  0.        ,  0.3271572 , -0.14043612]))\n",
      "Mean squared error: 1.40\n",
      "Variance score: 0.07\n",
      "\n",
      "Highest difference: 4.12632003896\n",
      "Lowest difference: 0\n",
      "average difference: 0.981897671659\n"
     ]
    }
   ],
   "source": [
    "regr = linear_model.Lasso(alpha=0.1, copy_X=True, fit_intercept=True, max_iter=1000,\n",
    "   normalize=False, positive=False, precompute=False, random_state=None,\n",
    "   selection='cyclic', tol=0.0001, warm_start=False)\n",
    "\n",
    "regr.fit (x_train, y_train)\n",
    "\n",
    "# The coefficients\n",
    "print('Coefficients: \\n', regr.coef_)\n",
    "# The mean squared error\n",
    "print(\"Mean squared error: %.2f\"\n",
    "      % np.mean((regr.predict(x_test) - y_test) ** 2))\n",
    "# Explained variance score: 1 is perfect prediction\n",
    "print('Variance score: %.2f' % regr.score(x_test, y_test))\n",
    "\n",
    "analyse_predictions(regr, x_test, y_test)"
   ]
  },
  {
   "cell_type": "markdown",
   "metadata": {},
   "source": [
    "Print predicted values, actual values and the difference for every predicted sample"
   ]
  },
  {
   "cell_type": "code",
   "execution_count": 13,
   "metadata": {
    "collapsed": false
   },
   "outputs": [
    {
     "name": "stdout",
     "output_type": "stream",
     "text": [
      "('Coefficients: \\n', array([ 0.39684029,  0.11620804, -0.00379166,  0.00932035, -0.0091155 ,\n",
      "       -0.44582182,  0.02696484,  0.27896049, -0.05799634, -0.09448045,\n",
      "       -0.05295768,  0.21963918, -0.22041536,  0.54190863, -0.29176782]))\n",
      "Mean squared error: 1.39\n",
      "Variance score: 0.08\n",
      "\n",
      "Highest difference: 3.92500800384\n",
      "Lowest difference: 0\n",
      "average difference: 0.97707969659\n"
     ]
    }
   ],
   "source": [
    "regr = linear_model.BayesianRidge(alpha_1=1e-06, alpha_2=5e-06, compute_score=False, copy_X=True,\n",
    "       fit_intercept=True, lambda_1=1e-06, lambda_2=1e-06, n_iter=300,\n",
    "       normalize=False, tol=0.001, verbose=False)\n",
    "\n",
    "regr.fit (x_train, y_train)\n",
    "\n",
    "# The coefficients\n",
    "print('Coefficients: \\n', regr.coef_)\n",
    "# The mean squared error\n",
    "print(\"Mean squared error: %.2f\"\n",
    "      % np.mean((regr.predict(x_test) - y_test) ** 2))\n",
    "# Explained variance score: 1 is perfect prediction\n",
    "print('Variance score: %.2f' % regr.score(x_test, y_test))\n",
    "\n",
    "analyse_predictions(regr, x_test, y_test)"
   ]
  },
  {
   "cell_type": "code",
   "execution_count": null,
   "metadata": {
    "collapsed": true
   },
   "outputs": [],
   "source": []
  }
 ],
 "metadata": {
  "kernelspec": {
   "display_name": "Python [conda env:python3]",
   "language": "python",
   "name": "conda-env-python3-py"
  },
  "language_info": {
   "codemirror_mode": {
    "name": "ipython",
    "version": 3
   },
   "file_extension": ".py",
   "mimetype": "text/x-python",
   "name": "python",
   "nbconvert_exporter": "python",
   "pygments_lexer": "ipython3",
   "version": "3.4.5"
  }
 },
 "nbformat": 4,
 "nbformat_minor": 0
}
