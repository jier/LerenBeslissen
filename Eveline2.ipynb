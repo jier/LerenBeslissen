{
 "cells": [
  {
   "cell_type": "code",
   "execution_count": 61,
   "metadata": {
    "collapsed": false,
    "scrolled": true
   },
   "outputs": [
    {
     "name": "stdout",
     "output_type": "stream",
     "text": [
      "Done\n"
     ]
    }
   ],
   "source": [
    "import numpy as np\n",
    "import csv\n",
    "import pandas as pd\n",
    "from sklearn.preprocessing import StandardScaler\n",
    "from sklearn.neighbors import KNeighborsClassifier, KNeighborsRegressor\n",
    "from sklearn.preprocessing import LabelEncoder\n",
    "\n",
    "\n",
    "#reads in the data\n",
    "data = pd.read_csv('movie_metadata.csv')\n",
    "\n",
    "#removes the values that aren't numeric\n",
    "to_drop = ['director_name', 'num_critic_for_reviews', 'actor_2_name','actor_1_name', 'movie_title', 'num_voted_users'\n",
    "           , 'actor_3_name', 'plot_keywords', 'movie_imdb_link', 'num_user_for_reviews', 'content_rating']\n",
    "\n",
    "#makes the new data set without the to_drop colums\n",
    "features_list = data.columns.difference(to_drop)\n",
    "movie_data = data[features_list]\n",
    "#print(np.sum(movie_num.isnull()))\n",
    "#print(movie_data.content_rating.unique())\n",
    "pd.options.mode.chained_assignment = None \n",
    "   \n",
    "print('Done')"
   ]
  },
  {
   "cell_type": "markdown",
   "metadata": {},
   "source": [
    "# Changing Genres into individual Columns"
   ]
  },
  {
   "cell_type": "code",
   "execution_count": 62,
   "metadata": {
    "collapsed": false,
    "scrolled": true
   },
   "outputs": [
    {
     "name": "stdout",
     "output_type": "stream",
     "text": [
      "{'Game-Show', 'Family', 'History', 'Crime', 'Horror', 'Western', 'Fantasy', 'News', 'Mystery', 'Documentary', 'Sci-Fi', 'Comedy', 'Reality-TV', 'Short', 'War', 'Musical', 'Thriller', 'Biography', 'Action', 'Animation', 'Music', 'Film-Noir', 'Sport', 'Drama', 'Adventure', 'Romance'}\n"
     ]
    }
   ],
   "source": [
    "genres = []\n",
    "\n",
    "for string in movie_data['genres']:\n",
    "    genre = string.split('|')\n",
    "    genres = genres+genre\n",
    "    \n",
    "genres_set = set(genres)\n",
    "print(genres_set)"
   ]
  },
  {
   "cell_type": "code",
   "execution_count": 63,
   "metadata": {
    "collapsed": false,
    "scrolled": true
   },
   "outputs": [
    {
     "name": "stdout",
     "output_type": "stream",
     "text": [
      "Done\n"
     ]
    }
   ],
   "source": [
    "genres_dict = dict()\n",
    "for genre in genres_set:\n",
    "    genres_dict[genre] = []\n",
    "    \n",
    "for string in movie_data.genres:\n",
    "    genres = string.split('|')\n",
    "    for genre in genres_set:\n",
    "        if genre in genres:\n",
    "            genres_dict[genre] = genres_dict[genre]+[1]\n",
    "        else:\n",
    "            genres_dict[genre] = genres_dict[genre]+[0]\n",
    "\n",
    "del movie_data['genres']\n",
    "#print(genres_dict['Short'])\n",
    "\n",
    "for genre in genres_set:\n",
    "    series = pd.Series(genres_dict[genre])\n",
    "    movie_data[genre] = series\n",
    "\n",
    "#print(movie_data['Short'].values)    \n",
    "print('Done')"
   ]
  },
  {
   "cell_type": "markdown",
   "metadata": {},
   "source": [
    "# Deleting NaN's"
   ]
  },
  {
   "cell_type": "code",
   "execution_count": 64,
   "metadata": {
    "collapsed": false,
    "scrolled": true
   },
   "outputs": [
    {
     "name": "stdout",
     "output_type": "stream",
     "text": [
      "Length before deletion: 5043\n",
      "Length after deletion: 4927\n"
     ]
    }
   ],
   "source": [
    "NA_THRESH = 4\n",
    "\n",
    "#deletes the row when there are more or equal to the threshod number of NaN's\n",
    "def remove_too_many_NaN(data, threshold):\n",
    "    print(\"Length before deletion: {}\".format(len(data)))\n",
    "\n",
    "    remove_indices = []\n",
    "    for index, nNaN in data.isnull().sum(axis=1).iteritems():\n",
    "        if nNaN >= threshold:\n",
    "            remove_indices.append(index)\n",
    "    \n",
    "    # drop movies with too many NaNs\n",
    "    data = data.drop(data.index[remove_indices])\n",
    "    print(\"Length after deletion: {}\".format(len(data)))\n",
    "    \n",
    "    return data\n",
    "\n",
    "#returns length\n",
    "movie_data = remove_too_many_NaN(movie_data, NA_THRESH)"
   ]
  },
  {
   "cell_type": "markdown",
   "metadata": {},
   "source": [
    "# Replacing NaNs with averages"
   ]
  },
  {
   "cell_type": "code",
   "execution_count": 65,
   "metadata": {
    "collapsed": false
   },
   "outputs": [
    {
     "name": "stdout",
     "output_type": "stream",
     "text": [
      "6615.96954933\n",
      "1676.81555962\n",
      "651.352522376\n",
      "2.13102265372\n",
      "39838985.8163\n",
      "9802.01867262\n",
      "689.276128508\n",
      "48503328.2327\n",
      "2002.44376652\n",
      "108.152580252\n",
      "1.36561546287\n"
     ]
    }
   ],
   "source": [
    "def replace_NaNs(col):\n",
    "    # compute average\n",
    "    avg = np.sum(col) / (len(col) - np.sum(col.isnull()))\n",
    "    print(avg)\n",
    "    \n",
    "    # replace NaNs with average\n",
    "    col = col.fillna(value=avg)\n",
    "    return col\n",
    "\n",
    "pd.options.mode.chained_assignment= None\n",
    "\n",
    "to_replace_NaNs = ['actor_1_facebook_likes', 'actor_2_facebook_likes', 'actor_3_facebook_likes', \n",
    "               'aspect_ratio', 'budget', 'cast_total_facebook_likes', 'director_facebook_likes', 'gross', 'title_year'\n",
    "                   , 'duration', 'facenumber_in_poster']\n",
    "for column in to_replace_NaNs:\n",
    "    movie_data[column] = replace_NaNs(movie_data[column])\n"
   ]
  },
  {
   "cell_type": "markdown",
   "metadata": {},
   "source": [
    "# Changing Color to Numeric"
   ]
  },
  {
   "cell_type": "code",
   "execution_count": 66,
   "metadata": {
    "collapsed": false,
    "scrolled": true
   },
   "outputs": [
    {
     "name": "stdout",
     "output_type": "stream",
     "text": [
      "Done\n"
     ]
    }
   ],
   "source": [
    "#replaces the color value to 1\n",
    "movie_data.color = movie_data.color.replace(to_replace = 'Color', value = 1)\n",
    "movie_data.color = movie_data.color.replace(to_replace = 'NaN', value = 1)\n",
    "\n",
    "#replaces the NaN or black and white values to 0\n",
    "for item in movie_data.color:\n",
    "    if item != 1:\n",
    "        movie_data.color = movie_data.color.replace(to_replace = item, value = 0)\n",
    "        \n",
    "#movie_data.color = new_color_column \n",
    "#print(movie_data['color'])\n",
    "\n",
    "#makes sure that there is nog error where it shouldn't be\n",
    "pd.options.mode.chained_assignment= None\n",
    "print('Done')"
   ]
  },
  {
   "cell_type": "markdown",
   "metadata": {},
   "source": [
    "# Changing Country to Numeric"
   ]
  },
  {
   "cell_type": "code",
   "execution_count": 67,
   "metadata": {
    "collapsed": false,
    "scrolled": true
   },
   "outputs": [
    {
     "name": "stdout",
     "output_type": "stream",
     "text": [
      "Done\n"
     ]
    }
   ],
   "source": [
    "#replaces the USA values to 1\n",
    "movie_data.country = movie_data.country.replace(to_replace ='USA', value = 1)\n",
    "movie_data.country = movie_data.country.replace(to_replace ='NaN', value = 1)\n",
    "#replaces the NaN or non USA values to 0\n",
    "for item in movie_data.country:\n",
    "    if item != 1:\n",
    "        movie_data.country = movie_data.country.replace(to_replace = item, value = 0)\n",
    "       \n",
    "#print(movie_data['country'])\n",
    "\n",
    "#makes sure that there is nog error where it shouldn't be\n",
    "pd.options.mode.chained_assignment= None\n",
    "\n",
    "print('Done')"
   ]
  },
  {
   "cell_type": "markdown",
   "metadata": {},
   "source": [
    "# Changing Languange to Numeric"
   ]
  },
  {
   "cell_type": "code",
   "execution_count": 68,
   "metadata": {
    "collapsed": false,
    "scrolled": true
   },
   "outputs": [
    {
     "name": "stdout",
     "output_type": "stream",
     "text": [
      "Done\n"
     ]
    }
   ],
   "source": [
    "#replaces the English values to 1\n",
    "movie_data.language = movie_data.language.replace(to_replace = 'English', value = 1)\n",
    "movie_data.language = movie_data.language.replace(to_replace = 'NaN', value = 1)\n",
    "\n",
    "#replaces the other values to 0\n",
    "for item in movie_data.language:\n",
    "    if item != 1:\n",
    "        movie_data.language = movie_data.language.replace(to_replace = item, value = 0)\n",
    "        \n",
    "#print(movie_data['language'])\n",
    "\n",
    "#makes sure that there is nog error where it shouldn't be\n",
    "pd.options.mode.chained_assignment= None\n",
    "print('Done')"
   ]
  },
  {
   "cell_type": "markdown",
   "metadata": {},
   "source": [
    "# Chaning Content_Rating to Numeric"
   ]
  },
  {
   "cell_type": "code",
   "execution_count": 69,
   "metadata": {
    "collapsed": false,
    "scrolled": true
   },
   "outputs": [
    {
     "name": "stdout",
     "output_type": "stream",
     "text": [
      "      actor_1_facebook_likes  actor_2_facebook_likes  actor_3_facebook_likes  \\\n",
      "0                     1000.0                   936.0                   855.0   \n",
      "1                    40000.0                  5000.0                  1000.0   \n",
      "2                    11000.0                   393.0                   161.0   \n",
      "3                    27000.0                 23000.0                 23000.0   \n",
      "5                      640.0                   632.0                   530.0   \n",
      "6                    24000.0                 11000.0                  4000.0   \n",
      "7                      799.0                   553.0                   284.0   \n",
      "8                    26000.0                 21000.0                 19000.0   \n",
      "9                    25000.0                 11000.0                 10000.0   \n",
      "10                   15000.0                  4000.0                  2000.0   \n",
      "11                   18000.0                 10000.0                   903.0   \n",
      "12                     451.0                   412.0                   393.0   \n",
      "13                   40000.0                  5000.0                  1000.0   \n",
      "14                   40000.0                  2000.0                  1000.0   \n",
      "15                   15000.0                  3000.0                   748.0   \n",
      "16                   22000.0                   216.0                   201.0   \n",
      "17                   26000.0                 21000.0                 19000.0   \n",
      "18                   40000.0                 11000.0                  1000.0   \n",
      "19                   10000.0                   816.0                   718.0   \n",
      "20                    5000.0                   972.0                   773.0   \n",
      "21                   15000.0                 10000.0                   963.0   \n",
      "22                     891.0                   882.0                   738.0   \n",
      "23                    5000.0                   972.0                   773.0   \n",
      "24                   16000.0                  6000.0                  1000.0   \n",
      "25                    6000.0                   919.0                    84.0   \n",
      "26                   29000.0                 14000.0                   794.0   \n",
      "27                   21000.0                 19000.0                 11000.0   \n",
      "28                   14000.0                 10000.0                   627.0   \n",
      "29                    3000.0                  2000.0                  1000.0   \n",
      "30                     883.0                   563.0                   393.0   \n",
      "...                      ...                     ...                     ...   \n",
      "5012                  1000.0                   206.0                   120.0   \n",
      "5013                    93.0                    46.0                    42.0   \n",
      "5014                   986.0                   918.0                   492.0   \n",
      "5015                     5.0                     0.0                     0.0   \n",
      "5016                   313.0                    25.0                     9.0   \n",
      "5017                   370.0                   184.0                   138.0   \n",
      "5018                    51.0                    49.0                     4.0   \n",
      "5019                   630.0                   512.0                   265.0   \n",
      "5020                   720.0                    19.0                     8.0   \n",
      "5021                   830.0                   224.0                    10.0   \n",
      "5022                   147.0                    19.0                     4.0   \n",
      "5023                   331.0                   212.0                   211.0   \n",
      "5024                   407.0                    91.0                    86.0   \n",
      "5025                   462.0                   143.0                   105.0   \n",
      "5026                   576.0                   133.0                    45.0   \n",
      "5027                     5.0                     0.0                     0.0   \n",
      "5028                    10.0                     5.0                     0.0   \n",
      "5029                    89.0                    13.0                     6.0   \n",
      "5030                    21.0                    20.0                    12.0   \n",
      "5031                   785.0                    98.0                    84.0   \n",
      "5032                   789.0                   194.0                   152.0   \n",
      "5033                   291.0                    45.0                     8.0   \n",
      "5034                     0.0                     0.0                     0.0   \n",
      "5035                   121.0                    20.0                     6.0   \n",
      "5036                    45.0                    44.0                     2.0   \n",
      "5037                   296.0                   205.0                   133.0   \n",
      "5038                   637.0                   470.0                   318.0   \n",
      "5040                     0.0                     0.0                     0.0   \n",
      "5041                   946.0                   719.0                   489.0   \n",
      "5042                    86.0                    23.0                    16.0   \n",
      "\n",
      "      aspect_ratio        budget  cast_total_facebook_likes  color  country  \\\n",
      "0         1.780000  2.370000e+08                       4834    1.0        1   \n",
      "1         2.350000  3.000000e+08                      48350    1.0        1   \n",
      "2         2.350000  2.450000e+08                      11700    1.0        0   \n",
      "3         2.350000  2.500000e+08                     106759    1.0        1   \n",
      "5         2.350000  2.637000e+08                       1873    1.0        1   \n",
      "6         2.350000  2.580000e+08                      46055    1.0        1   \n",
      "7         1.850000  2.600000e+08                       2036    1.0        1   \n",
      "8         2.350000  2.500000e+08                      92000    1.0        1   \n",
      "9         2.350000  2.500000e+08                      58753    1.0        0   \n",
      "10        2.350000  2.500000e+08                      24450    1.0        1   \n",
      "11        2.350000  2.090000e+08                      29991    1.0        1   \n",
      "12        2.350000  2.000000e+08                       2023    1.0        0   \n",
      "13        2.350000  2.250000e+08                      48486    1.0        1   \n",
      "14        2.350000  2.150000e+08                      45757    1.0        1   \n",
      "15        2.350000  2.250000e+08                      20495    1.0        1   \n",
      "16        2.350000  2.250000e+08                      22697    1.0        1   \n",
      "17        1.850000  2.200000e+08                      87697    1.0        1   \n",
      "18        2.350000  2.500000e+08                      54083    1.0        1   \n",
      "19        1.850000  2.250000e+08                      12572    1.0        1   \n",
      "20        2.350000  2.500000e+08                       9152    1.0        0   \n",
      "21        2.350000  2.300000e+08                      28489    1.0        1   \n",
      "22        2.350000  2.000000e+08                       3244    1.0        1   \n",
      "23        2.350000  2.250000e+08                       9152    1.0        1   \n",
      "24        2.350000  1.800000e+08                      24106    1.0        1   \n",
      "25        2.350000  2.070000e+08                       7123    1.0        0   \n",
      "26        2.350000  2.000000e+08                      45223    1.0        1   \n",
      "27        2.350000  2.500000e+08                      64798    1.0        1   \n",
      "28        2.350000  2.090000e+08                      26679    1.0        1   \n",
      "29        2.000000  1.500000e+08                       8458    1.0        1   \n",
      "30        2.350000  2.000000e+08                       2039    1.0        0   \n",
      "...            ...           ...                        ...    ...      ...   \n",
      "5012      1.850000  3.500000e+07                       1458    1.0        1   \n",
      "5013      1.780000  2.400000e+04                        243    1.0        1   \n",
      "5014      2.350000  3.983899e+07                       3197    1.0        0   \n",
      "5015      1.370000  2.300000e+04                          5    0.0        1   \n",
      "5016      2.131023  2.500000e+04                        366    1.0        1   \n",
      "5017      1.780000  2.200000e+04                        841    1.0        1   \n",
      "5018      1.850000  2.000000e+04                        108    1.0        1   \n",
      "5019      1.850000  3.983899e+07                       2679    1.0        1   \n",
      "5020      2.131023  1.735000e+04                        770    0.0        1   \n",
      "5021      2.131023  1.500000e+04                       1064    1.0        1   \n",
      "5022      2.131023  1.500000e+04                        170    0.0        0   \n",
      "5023      2.350000  1.500000e+04                       1546    1.0        1   \n",
      "5024      2.350000  2.000000e+04                        674    1.0        1   \n",
      "5025      1.370000  1.000000e+04                        760    1.0        1   \n",
      "5026      2.350000  4.500000e+03                        776    1.0        0   \n",
      "5027      1.850000  1.000000e+04                          5    1.0        0   \n",
      "5028      1.330000  1.000000e+04                         15    0.0        0   \n",
      "5029      1.850000  1.000000e+06                        115    1.0        0   \n",
      "5030      2.131023  3.983899e+07                         62    1.0        1   \n",
      "5031     16.000000  2.000000e+05                       1111    1.0        1   \n",
      "5032      2.131023  3.983899e+07                       1186    1.0        1   \n",
      "5033      1.850000  7.000000e+03                        368    1.0        1   \n",
      "5034      2.131023  7.000000e+03                          0    1.0        0   \n",
      "5035      1.370000  7.000000e+03                        147    1.0        1   \n",
      "5036      2.131023  3.250000e+03                         93    1.0        1   \n",
      "5037      2.131023  9.000000e+03                        690    1.0        1   \n",
      "5038      2.131023  3.983899e+07                       2283    1.0        0   \n",
      "5040      2.131023  1.400000e+03                          0    1.0        1   \n",
      "5041      2.350000  3.983899e+07                       2386    1.0        1   \n",
      "5042      1.850000  1.100000e+03                        163    1.0        1   \n",
      "\n",
      "      director_facebook_likes  duration   ...     Thriller  Biography  Action  \\\n",
      "0                         0.0     178.0   ...            0          0       1   \n",
      "1                       563.0     169.0   ...            0          0       1   \n",
      "2                         0.0     148.0   ...            1          0       1   \n",
      "3                     22000.0     164.0   ...            1          0       1   \n",
      "5                       475.0     132.0   ...            0          0       1   \n",
      "6                         0.0     156.0   ...            0          0       1   \n",
      "7                        15.0     100.0   ...            0          0       0   \n",
      "8                         0.0     141.0   ...            0          0       1   \n",
      "9                       282.0     153.0   ...            0          0       0   \n",
      "10                        0.0     183.0   ...            0          0       1   \n",
      "11                        0.0     169.0   ...            0          0       1   \n",
      "12                      395.0     106.0   ...            0          0       1   \n",
      "13                      563.0     151.0   ...            0          0       1   \n",
      "14                      563.0     150.0   ...            0          0       1   \n",
      "15                        0.0     143.0   ...            0          0       1   \n",
      "16                       80.0     150.0   ...            0          0       1   \n",
      "17                        0.0     173.0   ...            0          0       1   \n",
      "18                      252.0     136.0   ...            0          0       1   \n",
      "19                      188.0     106.0   ...            0          0       1   \n",
      "20                        0.0     164.0   ...            0          0       0   \n",
      "21                      464.0     153.0   ...            0          0       1   \n",
      "22                        0.0     156.0   ...            0          0       1   \n",
      "23                        0.0     186.0   ...            0          0       0   \n",
      "24                      129.0     113.0   ...            0          0       0   \n",
      "25                        0.0     201.0   ...            0          0       1   \n",
      "26                        0.0     194.0   ...            0          0       0   \n",
      "27                       94.0     147.0   ...            0          0       1   \n",
      "28                      532.0     131.0   ...            1          0       1   \n",
      "29                      365.0     124.0   ...            1          0       1   \n",
      "30                        0.0     143.0   ...            1          0       1   \n",
      "...                       ...       ...   ...          ...        ...     ...   \n",
      "5012                    453.0     109.0   ...            1          0       1   \n",
      "5013                      3.0      79.0   ...            0          0       0   \n",
      "5014                    892.0      80.0   ...            1          0       1   \n",
      "5015                      0.0     100.0   ...            0          0       0   \n",
      "5016                      0.0      90.0   ...            1          0       0   \n",
      "5017                    138.0      90.0   ...            0          0       0   \n",
      "5018                    589.0     120.0   ...            0          0       0   \n",
      "5019                    158.0      91.0   ...            1          0       0   \n",
      "5020                      8.0     143.0   ...            1          0       0   \n",
      "5021                    157.0      85.0   ...            0          0       0   \n",
      "5022                      0.0      60.0   ...            0          0       0   \n",
      "5023                     38.0      88.0   ...            0          0       0   \n",
      "5024                     91.0      78.0   ...            1          0       0   \n",
      "5025                      0.0     108.0   ...            0          0       0   \n",
      "5026                    107.0     110.0   ...            0          0       0   \n",
      "5027                    397.0      90.0   ...            0          0       0   \n",
      "5028                     18.0      83.0   ...            0          0       0   \n",
      "5029                     62.0     111.0   ...            1          0       0   \n",
      "5030                      5.0      84.0   ...            0          0       0   \n",
      "5031                    120.0      82.0   ...            1          0       0   \n",
      "5032                      3.0      98.0   ...            0          0       0   \n",
      "5033                    291.0      77.0   ...            1          0       0   \n",
      "5034                      0.0      80.0   ...            1          0       0   \n",
      "5035                      0.0      81.0   ...            1          0       1   \n",
      "5036                      2.0      84.0   ...            0          0       0   \n",
      "5037                      0.0      95.0   ...            0          0       0   \n",
      "5038                      2.0      87.0   ...            0          0       0   \n",
      "5040                      0.0      76.0   ...            1          0       0   \n",
      "5041                      0.0     100.0   ...            0          0       0   \n",
      "5042                     16.0      90.0   ...            0          0       0   \n",
      "\n",
      "      Animation  Music  Film-Noir  Sport  Drama  Adventure  Romance  \n",
      "0             0      0          0      0      0          1        0  \n",
      "1             0      0          0      0      0          1        0  \n",
      "2             0      0          0      0      0          1        0  \n",
      "3             0      0          0      0      0          0        0  \n",
      "5             0      0          0      0      0          1        0  \n",
      "6             0      0          0      0      0          1        1  \n",
      "7             1      0          0      0      0          1        1  \n",
      "8             0      0          0      0      0          1        0  \n",
      "9             0      0          0      0      0          1        0  \n",
      "10            0      0          0      0      0          1        0  \n",
      "11            0      0          0      0      0          1        0  \n",
      "12            0      0          0      0      0          1        0  \n",
      "13            0      0          0      0      0          1        0  \n",
      "14            0      0          0      0      0          1        0  \n",
      "15            0      0          0      0      0          1        0  \n",
      "16            0      0          0      0      0          1        0  \n",
      "17            0      0          0      0      0          1        0  \n",
      "18            0      0          0      0      0          1        0  \n",
      "19            0      0          0      0      0          1        0  \n",
      "20            0      0          0      0      0          1        0  \n",
      "21            0      0          0      0      0          1        0  \n",
      "22            0      0          0      0      1          1        0  \n",
      "23            0      0          0      0      0          1        0  \n",
      "24            0      0          0      0      0          1        0  \n",
      "25            0      0          0      0      1          1        1  \n",
      "26            0      0          0      0      1          0        1  \n",
      "27            0      0          0      0      0          1        0  \n",
      "28            0      0          0      0      0          1        0  \n",
      "29            0      0          0      0      0          1        0  \n",
      "30            0      0          0      0      0          1        0  \n",
      "...         ...    ...        ...    ...    ...        ...      ...  \n",
      "5012          0      0          0      0      1          0        0  \n",
      "5013          0      0          0      0      1          0        0  \n",
      "5014          0      0          0      0      0          0        0  \n",
      "5015          0      0          0      0      1          0        0  \n",
      "5016          0      0          0      0      1          0        0  \n",
      "5017          0      0          0      0      0          0        1  \n",
      "5018          0      0          0      0      1          0        0  \n",
      "5019          0      0          0      0      0          0        0  \n",
      "5020          0      0          0      0      1          0        0  \n",
      "5021          0      0          0      0      1          0        1  \n",
      "5022          0      0          0      0      1          0        0  \n",
      "5023          0      0          0      0      0          0        1  \n",
      "5024          0      0          0      0      0          0        0  \n",
      "5025          0      0          0      0      0          0        0  \n",
      "5026          0      1          0      0      1          0        1  \n",
      "5027          0      0          0      0      1          0        0  \n",
      "5028          0      0          0      0      0          0        0  \n",
      "5029          0      0          0      0      0          0        0  \n",
      "5030          0      0          0      0      1          0        0  \n",
      "5031          0      0          0      0      0          0        0  \n",
      "5032          0      0          0      0      1          0        0  \n",
      "5033          0      0          0      0      1          0        0  \n",
      "5034          0      0          0      0      0          0        0  \n",
      "5035          0      0          0      0      1          0        1  \n",
      "5036          0      0          0      0      1          0        0  \n",
      "5037          0      0          0      0      1          0        0  \n",
      "5038          0      0          0      0      1          0        0  \n",
      "5040          0      0          0      0      1          0        0  \n",
      "5041          0      0          0      0      1          0        1  \n",
      "5042          0      0          0      0      0          0        0  \n",
      "\n",
      "[4927 rows x 42 columns]\n"
     ]
    }
   ],
   "source": [
    "def content_to_numerical(data):\n",
    "    data = data.replace(to_replace='G', value=0)\n",
    "    data = data.replace(to_replace='PG', value=12)\n",
    "    data = data.replace(to_replace='PG-13', value=13)\n",
    "    data = data.replace(to_replace='R', value=17)\n",
    "    data = data.replace(to_replace='NC-17', value=17)\n",
    "    \n",
    "    data = data.replace(to_replace='TV-PG', value=12)\n",
    "    data = data.replace(to_replace='TV-MA', value=17)\n",
    "    data = data.replace(to_replace='TV-G', value=0)\n",
    "    data = data.replace(to_replace='TV-Y', value=0)\n",
    "    data = data.replace(to_replace='TV-Y7', value=7)\n",
    "    data = data.replace(to_replace='TV-14', value=14)\n",
    "    \n",
    "    data = data.replace(to_replace='Not Rated', value=0)\n",
    "    data = data.replace(to_replace='Unrated', value=0)\n",
    "    data = data.replace(to_replace='Approved', value=0)\n",
    "    data = data.replace(to_replace='Passed', value=0)\n",
    "    \n",
    "    data = data.replace(to_replace='X', value=17)\n",
    "    data = data.replace(to_replace='M', value=17)\n",
    "    data = data.replace(to_replace='GP', value=12)\n",
    "    \n",
    "    return data\n",
    "\n",
    "movie_data = content_to_numerical(movie_data)\n",
    "print(movie_data)"
   ]
  },
  {
   "cell_type": "markdown",
   "metadata": {
    "collapsed": false,
    "scrolled": true
   },
   "source": [
    "# Delete columns with too little 1's"
   ]
  },
  {
   "cell_type": "code",
   "execution_count": 70,
   "metadata": {
    "collapsed": false
   },
   "outputs": [
    {
     "name": "stdout",
     "output_type": "stream",
     "text": [
      "Game-Show :\n",
      "0\n",
      "Family :\n",
      "534\n",
      "History :\n",
      "204\n",
      "Crime :\n",
      "860\n",
      "Horror :\n",
      "557\n",
      "Western :\n",
      "97\n",
      "Fantasy :\n",
      "593\n",
      "News :\n",
      "3\n",
      "Mystery :\n",
      "476\n",
      "Documentary :\n",
      "113\n",
      "Sci-Fi :\n",
      "600\n",
      "Comedy :\n",
      "1834\n",
      "Reality-TV :\n",
      "0\n",
      "Short :\n",
      "5\n",
      "War :\n",
      "208\n",
      "Musical :\n",
      "132\n",
      "Thriller :\n",
      "1383\n",
      "Biography :\n",
      "292\n",
      "Action :\n",
      "1132\n",
      "Animation :\n",
      "234\n",
      "Music :\n",
      "213\n",
      "Film-Noir :\n",
      "6\n",
      "Sport :\n",
      "181\n",
      "Drama :\n",
      "2522\n",
      "Adventure :\n",
      "911\n",
      "Romance :\n",
      "1088\n"
     ]
    }
   ],
   "source": [
    "for genre in genres_set:\n",
    "    print(genre, ':')\n",
    "    counter = 0\n",
    "    for value in movie_data[genre]:\n",
    "        if value == 1.0:\n",
    "            counter+=1\n",
    "    print(counter)\n",
    "    \n",
    "weghalen = ['Game-Show', 'News', 'Reality-TV', 'Short', 'Film-Noir']\n",
    "\n",
    "for name in weghalen:\n",
    "    del movie_data[name]\n",
    "    \n",
    "#print(movie_data)"
   ]
  },
  {
   "cell_type": "markdown",
   "metadata": {},
   "source": [
    "# Trainset en testset"
   ]
  },
  {
   "cell_type": "code",
   "execution_count": 71,
   "metadata": {
    "collapsed": false,
    "scrolled": true
   },
   "outputs": [],
   "source": [
    "ratings = movie_data['imdb_score'].values\n",
    "del movie_data['imdb_score']\n",
    "\n",
    "X = movie_data.values\n",
    "X_std = StandardScaler().fit_transform(X)\n",
    "\n",
    "number_of_samples = len(ratings)\n",
    "np.random.seed(0)\n",
    "random_indices = np.random.permutation(number_of_samples)\n",
    "num_training_samples = int(number_of_samples*0.75)\n",
    "movie_training = X_std[random_indices[:num_training_samples]]\n",
    "ratings_training = ratings[random_indices[:num_training_samples]]\n",
    "\n",
    "\n",
    "movie_test = X_std[random_indices[num_training_samples:]]\n",
    "ratings_test = ratings[random_indices[num_training_samples:]]\n",
    "ratings_training = list(ratings_cont_training)\n"
   ]
  },
  {
   "cell_type": "markdown",
   "metadata": {},
   "source": [
    "# Leren"
   ]
  },
  {
   "cell_type": "markdown",
   "metadata": {},
   "source": [
    "### neural networks"
   ]
  },
  {
   "cell_type": "code",
   "execution_count": 73,
   "metadata": {
    "collapsed": false
   },
   "outputs": [
    {
     "name": "stdout",
     "output_type": "stream",
     "text": [
      "[ 7.   8.1  6.5 ...,  6.3  6.7  4.5]\n",
      "[ 6.96645246  7.80039012  6.80945349 ...,  5.99125765  6.75287037\n",
      "  5.73962391]\n",
      "Train error = 8.69755067890222 percent in neural network algorithm\n",
      "Test error = 12.785660757311728 percent in neural network algorithm\n"
     ]
    }
   ],
   "source": [
    "from sklearn.neural_network import MLPRegressor\n",
    "\n",
    "neural = MLPRegressor(alpha = 0.00001)#activation='logistic')\n",
    "\n",
    "neural.fit(movie_training, ratings_training)\n",
    "y_neural_1 = neural.predict(movie_training)\n",
    "y_neural_2 = neural.predict(movie_test)\n",
    "print(ratings_test)\n",
    "print(y_neural_2)\n",
    "error = 0\n",
    "\n",
    "for i in range(len(ratings_training)):\n",
    "    error += (abs(y_neural_1[i]-ratings_training[i]))/ratings_training[i]\n",
    "training_error = error/len(ratings_training)*100\n",
    "\n",
    "print(\"Train error = \"+'{}'.format(training_error)+\" percent\"+\" in neural network algorithm\")\n",
    "\n",
    "error = 0\n",
    "\n",
    "for i in range(len(ratings_test)):\n",
    "    error += (abs(y_neural_2[i]-ratings_test[i]))/ratings_test[i]\n",
    "test_error = error/len(ratings_test)*100\n",
    "\n",
    "print(\"Test error = \"'{}'.format(test_error)+\" percent\"+\" in neural network algorithm\")"
   ]
  },
  {
   "cell_type": "markdown",
   "metadata": {
    "collapsed": true
   },
   "source": [
    "### k-nearest neighbors"
   ]
  },
  {
   "cell_type": "code",
   "execution_count": 74,
   "metadata": {
    "collapsed": false
   },
   "outputs": [
    {
     "name": "stdout",
     "output_type": "stream",
     "text": [
      "Train error = 10.276569481664392 percent in knn algorithm\n",
      "Test error = 13.105962187581573 percent in knn algorithm\n"
     ]
    }
   ],
   "source": [
    "regressor = KNeighborsRegressor()\n",
    "regressor.fit(movie_training, ratings_training)\n",
    "y_predict_train = regressor.predict(movie_training)\n",
    "y_predict_train = list(y_predict_train)\n",
    "\n",
    "error = 0\n",
    "\n",
    "for i in range(len(ratings_cont_training)):\n",
    "    error += (abs(y_predict_train[i]-ratings_training[i]))/ratings_training[i]\n",
    "training_error = error/len(ratings_training)*100\n",
    "\n",
    "print(\"Train error = \"+'{}'.format(training_error)+\" percent\"+\" in knn algorithm\")\n",
    "\n",
    "y_predict_test = regressor.predict(movie_test)\n",
    "y_predict_test = list(y_predict_test)\n",
    "\n",
    "error = 0\n",
    "\n",
    "for i in range(len(ratings_test)):\n",
    "    error += (abs(y_predict_test[i]-ratings_test[i]))/ratings_test[i]\n",
    "test_error = error/len(ratings_test)*100\n",
    "\n",
    "print(\"Test error = \"'{}'.format(test_error)+\" percent\"+\" in knn algorithm\")"
   ]
  },
  {
   "cell_type": "code",
   "execution_count": 77,
   "metadata": {
    "collapsed": false
   },
   "outputs": [
    {
     "ename": "SyntaxError",
     "evalue": "invalid syntax (<ipython-input-77-16a5e2e9db6a>, line 10)",
     "output_type": "error",
     "traceback": [
      "\u001b[1;36m  File \u001b[1;32m\"<ipython-input-77-16a5e2e9db6a>\"\u001b[1;36m, line \u001b[1;32m10\u001b[0m\n\u001b[1;33m    error +=(abs(y_rbf[i]-ratings_training[i])/ratings_training])\u001b[0m\n\u001b[1;37m                                                               ^\u001b[0m\n\u001b[1;31mSyntaxError\u001b[0m\u001b[1;31m:\u001b[0m invalid syntax\n"
     ]
    }
   ],
   "source": [
    "from sklearn.svm import SVR\n",
    "svr_rbf = SVR(kernel='rbf', C=1e3, gamma=0.1)\n",
    "svr_lin = SVR(kernel='linear', C=1e3)\n",
    "svr_poly = SVR(kernel='poly', C=1e3, degree=2)\n",
    "y_rbf = svr_rbf.fit(movie_training, ratings_training).predict(movie_training)\n",
    "y_rbf = list(y_rbf)\n",
    "error =0\n",
    "\n",
    "for i in range(len(ratings_training)):\n",
    "    error +=(abs(y_rbf[i]-ratings_training[i])/ratings_training[i])\n",
    "    \n",
    "train_error= error/len(ratings_training)*100\n",
    "print (\"Train error = \"+'{}'.format(train_error))+\"%\"\n",
    "\n",
    "y2_rbf = svr_rbf.predict(movie_test)\n",
    "y2_rbf = list(y2_rbf)\n",
    "error =0\n",
    "for i in range(len(ratings_test)):\n",
    "    error +=(abs(y2_rbf[i]-ratings_test[i])/ratings_test[i])\n",
    "test_error= error/len(ratings_test)*100\n",
    "print (\"Test error = \"+'{}'.format(test_error))+\"%\""
   ]
  },
  {
   "cell_type": "code",
   "execution_count": null,
   "metadata": {
    "collapsed": true
   },
   "outputs": [],
   "source": []
  }
 ],
 "metadata": {
  "anaconda-cloud": {},
  "kernelspec": {
   "display_name": "Python [Root]",
   "language": "python",
   "name": "Python [Root]"
  },
  "language_info": {
   "codemirror_mode": {
    "name": "ipython",
    "version": 3
   },
   "file_extension": ".py",
   "mimetype": "text/x-python",
   "name": "python",
   "nbconvert_exporter": "python",
   "pygments_lexer": "ipython3",
   "version": "3.5.2"
  }
 },
 "nbformat": 4,
 "nbformat_minor": 0
}
