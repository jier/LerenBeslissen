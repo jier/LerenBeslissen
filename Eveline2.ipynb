{
 "cells": [
  {
   "cell_type": "code",
   "execution_count": 205,
   "metadata": {
    "collapsed": false,
    "scrolled": false
   },
   "outputs": [
    {
     "name": "stdout",
     "output_type": "stream",
     "text": [
      "Done\n"
     ]
    }
   ],
   "source": [
    "import numpy as np\n",
    "import csv\n",
    "import pandas as pd\n",
    "from sklearn.preprocessing import StandardScaler\n",
    "from sklearn.neighbors import KNeighborsClassifier, KNeighborsRegressor\n",
    "from sklearn.preprocessing import LabelEncoder\n",
    "\n",
    "\n",
    "#reads in the data\n",
    "data = pd.read_csv('movie_metadata.csv')\n",
    "\n",
    "#removes the values that aren't numeric\n",
    "to_drop = ['director_name', 'num_critic_for_reviews', 'actor_2_name','actor_1_name', 'movie_title', 'num_voted_users'\n",
    "           , 'actor_3_name', 'plot_keywords', 'movie_imdb_link', 'num_user_for_reviews']\n",
    "\n",
    "#makes the new data set without the to_drop colums\n",
    "features_list = data.columns.difference(to_drop)\n",
    "movie_data = data[features_list]\n",
    "#print(np.sum(movie_num.isnull()))\n",
    "#print(movie_data.content_rating.unique())\n",
    "pd.options.mode.chained_assignment = None \n",
    "   \n",
    "print('Done')"
   ]
  },
  {
   "cell_type": "markdown",
   "metadata": {},
   "source": [
    "# Changing Genres into individual Columns"
   ]
  },
  {
   "cell_type": "code",
   "execution_count": 206,
   "metadata": {
    "collapsed": false,
    "scrolled": true
   },
   "outputs": [
    {
     "name": "stdout",
     "output_type": "stream",
     "text": [
      "{'History', 'Film-Noir', 'Comedy', 'Horror', 'Drama', 'Thriller', 'Fantasy', 'Sport', 'Adventure', 'Documentary', 'Action', 'Western', 'Music', 'Reality-TV', 'Sci-Fi', 'News', 'Game-Show', 'Mystery', 'Romance', 'Biography', 'Animation', 'War', 'Musical', 'Crime', 'Family', 'Short'}\n"
     ]
    }
   ],
   "source": [
    "genres = []\n",
    "\n",
    "for string in movie_data['genres']:\n",
    "    genre = string.split('|')\n",
    "    genres = genres+genre\n",
    "    \n",
    "genres_set = set(genres)\n",
    "print(genres_set)"
   ]
  },
  {
   "cell_type": "code",
   "execution_count": 207,
   "metadata": {
    "collapsed": false,
    "scrolled": true
   },
   "outputs": [
    {
     "name": "stdout",
     "output_type": "stream",
     "text": [
      "Done\n"
     ]
    }
   ],
   "source": [
    "genres_dict = dict()\n",
    "for genre in genres_set:\n",
    "    genres_dict[genre] = []\n",
    "    \n",
    "for string in movie_data.genres:\n",
    "    genres = string.split('|')\n",
    "    for genre in genres_set:\n",
    "        if genre in genres:\n",
    "            genres_dict[genre] = genres_dict[genre]+[1]\n",
    "        else:\n",
    "            genres_dict[genre] = genres_dict[genre]+[0]\n",
    "\n",
    "del movie_data['genres']\n",
    "#print(genres_dict['Short'])\n",
    "\n",
    "for genre in genres_set:\n",
    "    series = pd.Series(genres_dict[genre])\n",
    "    movie_data[genre] = series\n",
    "\n",
    "#print(movie_data['Short'].values)    \n",
    "print('Done')"
   ]
  },
  {
   "cell_type": "markdown",
   "metadata": {},
   "source": [
    "# Deleting NaN's"
   ]
  },
  {
   "cell_type": "code",
   "execution_count": 208,
   "metadata": {
    "collapsed": false,
    "scrolled": true
   },
   "outputs": [
    {
     "name": "stdout",
     "output_type": "stream",
     "text": [
      "Length before deletion: 5043\n",
      "Length after deletion: 4900\n"
     ]
    }
   ],
   "source": [
    "NA_THRESH = 4\n",
    "\n",
    "#deletes the row when there are more or equal to the threshod number of NaN's\n",
    "def remove_too_many_NaN(data, threshold):\n",
    "    print(\"Length before deletion: {}\".format(len(data)))\n",
    "\n",
    "    remove_indices = []\n",
    "    for index, nNaN in data.isnull().sum(axis=1).iteritems():\n",
    "        if nNaN >= threshold:\n",
    "            remove_indices.append(index)\n",
    "    \n",
    "    # drop movies with too many NaNs\n",
    "    data = data.drop(data.index[remove_indices])\n",
    "    print(\"Length after deletion: {}\".format(len(data)))\n",
    "    \n",
    "    return data\n",
    "\n",
    "#returns length\n",
    "movie_data = remove_too_many_NaN(movie_data, NA_THRESH)"
   ]
  },
  {
   "cell_type": "markdown",
   "metadata": {},
   "source": [
    "# Changing Color to Numeric"
   ]
  },
  {
   "cell_type": "code",
   "execution_count": 209,
   "metadata": {
    "collapsed": false,
    "scrolled": true
   },
   "outputs": [
    {
     "name": "stdout",
     "output_type": "stream",
     "text": [
      "Done\n"
     ]
    }
   ],
   "source": [
    "#replaces the color value to 1\n",
    "movie_data.color = movie_data.color.replace(to_replace = 'Color', value = 1)\n",
    "movie_data.color = movie_data.color.replace(to_replace = 'NaN', value = 1)\n",
    "\n",
    "#replaces the NaN or black and white values to 0\n",
    "for item in movie_data.color:\n",
    "    if item != 1:\n",
    "        movie_data.color = movie_data.color.replace(to_replace = item, value = 0)\n",
    "        \n",
    "#movie_data.color = new_color_column \n",
    "#print(movie_data['color'])\n",
    "\n",
    "#makes sure that there is nog error where it shouldn't be\n",
    "pd.options.mode.chained_assignment= None\n",
    "print('Done')"
   ]
  },
  {
   "cell_type": "markdown",
   "metadata": {},
   "source": [
    "# Changing Country to Numeric"
   ]
  },
  {
   "cell_type": "code",
   "execution_count": 210,
   "metadata": {
    "collapsed": false,
    "scrolled": true
   },
   "outputs": [
    {
     "name": "stdout",
     "output_type": "stream",
     "text": [
      "Done\n"
     ]
    }
   ],
   "source": [
    "#replaces the USA values to 1\n",
    "movie_data.country = movie_data.country.replace(to_replace ='USA', value = 1)\n",
    "movie_data.country = movie_data.country.replace(to_replace ='NaN', value = 1)\n",
    "#replaces the NaN or non USA values to 0\n",
    "for item in movie_data.country:\n",
    "    if item != 1:\n",
    "        movie_data.country = movie_data.country.replace(to_replace = item, value = 0)\n",
    "       \n",
    "#print(movie_data['country'])\n",
    "\n",
    "#makes sure that there is nog error where it shouldn't be\n",
    "pd.options.mode.chained_assignment= None\n",
    "\n",
    "print('Done')"
   ]
  },
  {
   "cell_type": "markdown",
   "metadata": {},
   "source": [
    "# Changing Languange to Numeric"
   ]
  },
  {
   "cell_type": "code",
   "execution_count": 211,
   "metadata": {
    "collapsed": false,
    "scrolled": true
   },
   "outputs": [
    {
     "name": "stdout",
     "output_type": "stream",
     "text": [
      "Done\n"
     ]
    }
   ],
   "source": [
    "#replaces the English values to 1\n",
    "movie_data.language = movie_data.language.replace(to_replace = 'English', value = 1)\n",
    "movie_data.language = movie_data.language.replace(to_replace = 'NaN', value = 1)\n",
    "\n",
    "#replaces the other values to 0\n",
    "for item in movie_data.language:\n",
    "    if item != 1:\n",
    "        movie_data.language = movie_data.language.replace(to_replace = item, value = 0)\n",
    "        \n",
    "#print(movie_data['language'])\n",
    "\n",
    "#makes sure that there is nog error where it shouldn't be\n",
    "pd.options.mode.chained_assignment= None\n",
    "print('Done')"
   ]
  },
  {
   "cell_type": "markdown",
   "metadata": {},
   "source": [
    "# Chaning Content_Rating to Numeric"
   ]
  },
  {
   "cell_type": "code",
   "execution_count": 212,
   "metadata": {
    "collapsed": false,
    "scrolled": true
   },
   "outputs": [
    {
     "name": "stdout",
     "output_type": "stream",
     "text": [
      "      actor_1_facebook_likes  actor_2_facebook_likes  actor_3_facebook_likes  \\\n",
      "0                     1000.0                   936.0                   855.0   \n",
      "1                    40000.0                  5000.0                  1000.0   \n",
      "2                    11000.0                   393.0                   161.0   \n",
      "3                    27000.0                 23000.0                 23000.0   \n",
      "5                      640.0                   632.0                   530.0   \n",
      "6                    24000.0                 11000.0                  4000.0   \n",
      "7                      799.0                   553.0                   284.0   \n",
      "8                    26000.0                 21000.0                 19000.0   \n",
      "9                    25000.0                 11000.0                 10000.0   \n",
      "10                   15000.0                  4000.0                  2000.0   \n",
      "11                   18000.0                 10000.0                   903.0   \n",
      "12                     451.0                   412.0                   393.0   \n",
      "13                   40000.0                  5000.0                  1000.0   \n",
      "14                   40000.0                  2000.0                  1000.0   \n",
      "15                   15000.0                  3000.0                   748.0   \n",
      "16                   22000.0                   216.0                   201.0   \n",
      "17                   26000.0                 21000.0                 19000.0   \n",
      "18                   40000.0                 11000.0                  1000.0   \n",
      "19                   10000.0                   816.0                   718.0   \n",
      "20                    5000.0                   972.0                   773.0   \n",
      "21                   15000.0                 10000.0                   963.0   \n",
      "22                     891.0                   882.0                   738.0   \n",
      "23                    5000.0                   972.0                   773.0   \n",
      "24                   16000.0                  6000.0                  1000.0   \n",
      "25                    6000.0                   919.0                    84.0   \n",
      "26                   29000.0                 14000.0                   794.0   \n",
      "27                   21000.0                 19000.0                 11000.0   \n",
      "28                   14000.0                 10000.0                   627.0   \n",
      "29                    3000.0                  2000.0                  1000.0   \n",
      "30                     883.0                   563.0                   393.0   \n",
      "...                      ...                     ...                     ...   \n",
      "5008                   898.0                   657.0                   216.0   \n",
      "5009                     0.0                     0.0                     NaN   \n",
      "5010                    26.0                     6.0                     3.0   \n",
      "5011                   136.0                   108.0                     7.0   \n",
      "5012                  1000.0                   206.0                   120.0   \n",
      "5013                    93.0                    46.0                    42.0   \n",
      "5014                   986.0                   918.0                   492.0   \n",
      "5015                     5.0                     0.0                     0.0   \n",
      "5016                   313.0                    25.0                     9.0   \n",
      "5017                   370.0                   184.0                   138.0   \n",
      "5018                    51.0                    49.0                     4.0   \n",
      "5019                   630.0                   512.0                   265.0   \n",
      "5021                   830.0                   224.0                    10.0   \n",
      "5022                   147.0                    19.0                     4.0   \n",
      "5023                   331.0                   212.0                   211.0   \n",
      "5024                   407.0                    91.0                    86.0   \n",
      "5025                   462.0                   143.0                   105.0   \n",
      "5026                   576.0                   133.0                    45.0   \n",
      "5027                     5.0                     0.0                     0.0   \n",
      "5028                    10.0                     5.0                     0.0   \n",
      "5029                    89.0                    13.0                     6.0   \n",
      "5031                   785.0                    98.0                    84.0   \n",
      "5033                   291.0                    45.0                     8.0   \n",
      "5034                     0.0                     0.0                     0.0   \n",
      "5035                   121.0                    20.0                     6.0   \n",
      "5036                    45.0                    44.0                     2.0   \n",
      "5037                   296.0                   205.0                   133.0   \n",
      "5040                     0.0                     0.0                     0.0   \n",
      "5041                   946.0                   719.0                   489.0   \n",
      "5042                    86.0                    23.0                    16.0   \n",
      "\n",
      "      aspect_ratio       budget  cast_total_facebook_likes  color  \\\n",
      "0             1.78  237000000.0                       4834    1.0   \n",
      "1             2.35  300000000.0                      48350    1.0   \n",
      "2             2.35  245000000.0                      11700    1.0   \n",
      "3             2.35  250000000.0                     106759    1.0   \n",
      "5             2.35  263700000.0                       1873    1.0   \n",
      "6             2.35  258000000.0                      46055    1.0   \n",
      "7             1.85  260000000.0                       2036    1.0   \n",
      "8             2.35  250000000.0                      92000    1.0   \n",
      "9             2.35  250000000.0                      58753    1.0   \n",
      "10            2.35  250000000.0                      24450    1.0   \n",
      "11            2.35  209000000.0                      29991    1.0   \n",
      "12            2.35  200000000.0                       2023    1.0   \n",
      "13            2.35  225000000.0                      48486    1.0   \n",
      "14            2.35  215000000.0                      45757    1.0   \n",
      "15            2.35  225000000.0                      20495    1.0   \n",
      "16            2.35  225000000.0                      22697    1.0   \n",
      "17            1.85  220000000.0                      87697    1.0   \n",
      "18            2.35  250000000.0                      54083    1.0   \n",
      "19            1.85  225000000.0                      12572    1.0   \n",
      "20            2.35  250000000.0                       9152    1.0   \n",
      "21            2.35  230000000.0                      28489    1.0   \n",
      "22            2.35  200000000.0                       3244    1.0   \n",
      "23            2.35  225000000.0                       9152    1.0   \n",
      "24            2.35  180000000.0                      24106    1.0   \n",
      "25            2.35  207000000.0                       7123    1.0   \n",
      "26            2.35  200000000.0                      45223    1.0   \n",
      "27            2.35  250000000.0                      64798    1.0   \n",
      "28            2.35  209000000.0                      26679    1.0   \n",
      "29            2.00  150000000.0                       8458    1.0   \n",
      "30            2.35  200000000.0                       2039    1.0   \n",
      "...            ...          ...                        ...    ...   \n",
      "5008          1.37     230000.0                       2103    0.0   \n",
      "5009          1.37      27000.0                          0    1.0   \n",
      "5010          1.37          NaN                         40    1.0   \n",
      "5011          1.85      25000.0                        254    1.0   \n",
      "5012          1.85   35000000.0                       1458    1.0   \n",
      "5013          1.78      24000.0                        243    1.0   \n",
      "5014          2.35          NaN                       3197    1.0   \n",
      "5015          1.37      23000.0                          5    0.0   \n",
      "5016           NaN      25000.0                        366    1.0   \n",
      "5017          1.78      22000.0                        841    1.0   \n",
      "5018          1.85      20000.0                        108    1.0   \n",
      "5019          1.85          NaN                       2679    1.0   \n",
      "5021           NaN      15000.0                       1064    1.0   \n",
      "5022           NaN      15000.0                        170    0.0   \n",
      "5023          2.35      15000.0                       1546    1.0   \n",
      "5024          2.35      20000.0                        674    1.0   \n",
      "5025          1.37      10000.0                        760    1.0   \n",
      "5026          2.35       4500.0                        776    1.0   \n",
      "5027          1.85      10000.0                          5    1.0   \n",
      "5028          1.33      10000.0                         15    0.0   \n",
      "5029          1.85    1000000.0                        115    1.0   \n",
      "5031         16.00     200000.0                       1111    1.0   \n",
      "5033          1.85       7000.0                        368    1.0   \n",
      "5034           NaN       7000.0                          0    1.0   \n",
      "5035          1.37       7000.0                        147    1.0   \n",
      "5036           NaN       3250.0                         93    1.0   \n",
      "5037           NaN       9000.0                        690    1.0   \n",
      "5040           NaN       1400.0                          0    1.0   \n",
      "5041          2.35          NaN                       2386    1.0   \n",
      "5042          1.85       1100.0                        163    1.0   \n",
      "\n",
      "      content_rating  country  director_facebook_likes  ...    Game-Show  \\\n",
      "0               13.0        1                      0.0  ...            0   \n",
      "1               13.0        1                    563.0  ...            0   \n",
      "2               13.0        0                      0.0  ...            0   \n",
      "3               13.0        1                  22000.0  ...            0   \n",
      "5               13.0        1                    475.0  ...            0   \n",
      "6               13.0        1                      0.0  ...            0   \n",
      "7               12.0        1                     15.0  ...            0   \n",
      "8               13.0        1                      0.0  ...            0   \n",
      "9               12.0        0                    282.0  ...            0   \n",
      "10              13.0        1                      0.0  ...            0   \n",
      "11              13.0        1                      0.0  ...            0   \n",
      "12              13.0        0                    395.0  ...            0   \n",
      "13              13.0        1                    563.0  ...            0   \n",
      "14              13.0        1                    563.0  ...            0   \n",
      "15              13.0        1                      0.0  ...            0   \n",
      "16              12.0        1                     80.0  ...            0   \n",
      "17              13.0        1                      0.0  ...            0   \n",
      "18              13.0        1                    252.0  ...            0   \n",
      "19              13.0        1                    188.0  ...            0   \n",
      "20              13.0        0                      0.0  ...            0   \n",
      "21              13.0        1                    464.0  ...            0   \n",
      "22              13.0        1                      0.0  ...            0   \n",
      "23              13.0        1                      0.0  ...            0   \n",
      "24              13.0        1                    129.0  ...            0   \n",
      "25              13.0        0                      0.0  ...            0   \n",
      "26              13.0        1                      0.0  ...            0   \n",
      "27              13.0        1                     94.0  ...            0   \n",
      "28              13.0        1                    532.0  ...            0   \n",
      "29              13.0        1                    365.0  ...            0   \n",
      "30              13.0        0                      0.0  ...            0   \n",
      "...              ...      ...                      ...  ...          ...   \n",
      "5008            17.0        1                      0.0  ...            0   \n",
      "5009             0.0        1                      0.0  ...            0   \n",
      "5010             NaN        1                     26.0  ...            0   \n",
      "5011            17.0        0                    119.0  ...            0   \n",
      "5012            17.0        1                    453.0  ...            0   \n",
      "5013             NaN        1                      3.0  ...            0   \n",
      "5014            17.0        0                    892.0  ...            0   \n",
      "5015            17.0        1                      0.0  ...            0   \n",
      "5016             NaN        1                      0.0  ...            0   \n",
      "5017             NaN        1                    138.0  ...            0   \n",
      "5018             NaN        1                    589.0  ...            0   \n",
      "5019            17.0        1                    158.0  ...            0   \n",
      "5021            17.0        1                    157.0  ...            0   \n",
      "5022             NaN        0                      0.0  ...            0   \n",
      "5023             NaN        1                     38.0  ...            0   \n",
      "5024             0.0        1                     91.0  ...            0   \n",
      "5025            17.0        1                      0.0  ...            0   \n",
      "5026            17.0        0                    107.0  ...            0   \n",
      "5027             0.0        0                    397.0  ...            0   \n",
      "5028             NaN        0                     18.0  ...            0   \n",
      "5029             NaN        0                     62.0  ...            0   \n",
      "5031             NaN        1                    120.0  ...            0   \n",
      "5033            13.0        1                    291.0  ...            0   \n",
      "5034             0.0        0                      0.0  ...            0   \n",
      "5035            17.0        1                      0.0  ...            0   \n",
      "5036            13.0        1                      2.0  ...            0   \n",
      "5037             0.0        1                      0.0  ...            0   \n",
      "5040             NaN        1                      0.0  ...            0   \n",
      "5041            13.0        1                      0.0  ...            0   \n",
      "5042            12.0        1                     16.0  ...            0   \n",
      "\n",
      "      Mystery  Romance  Biography  Animation  War  Musical  Crime  Family  \\\n",
      "0           0        0          0          0    0        0      0       0   \n",
      "1           0        0          0          0    0        0      0       0   \n",
      "2           0        0          0          0    0        0      0       0   \n",
      "3           0        0          0          0    0        0      0       0   \n",
      "5           0        0          0          0    0        0      0       0   \n",
      "6           0        1          0          0    0        0      0       0   \n",
      "7           0        1          0          1    0        1      0       1   \n",
      "8           0        0          0          0    0        0      0       0   \n",
      "9           1        0          0          0    0        0      0       1   \n",
      "10          0        0          0          0    0        0      0       0   \n",
      "11          0        0          0          0    0        0      0       0   \n",
      "12          0        0          0          0    0        0      0       0   \n",
      "13          0        0          0          0    0        0      0       0   \n",
      "14          0        0          0          0    0        0      0       0   \n",
      "15          0        0          0          0    0        0      0       0   \n",
      "16          0        0          0          0    0        0      0       1   \n",
      "17          0        0          0          0    0        0      0       0   \n",
      "18          0        0          0          0    0        0      0       0   \n",
      "19          0        0          0          0    0        0      0       1   \n",
      "20          0        0          0          0    0        0      0       0   \n",
      "21          0        0          0          0    0        0      0       0   \n",
      "22          0        0          0          0    0        0      0       0   \n",
      "23          0        0          0          0    0        0      0       0   \n",
      "24          0        0          0          0    0        0      0       1   \n",
      "25          0        1          0          0    0        0      0       0   \n",
      "26          0        1          0          0    0        0      0       0   \n",
      "27          0        0          0          0    0        0      0       0   \n",
      "28          0        0          0          0    0        0      0       0   \n",
      "29          0        0          0          0    0        0      0       0   \n",
      "30          0        0          0          0    0        0      0       0   \n",
      "...       ...      ...        ...        ...  ...      ...    ...     ...   \n",
      "5008        0        0          0          0    0        0      0       0   \n",
      "5009        0        0          0          0    0        0      0       0   \n",
      "5010        0        0          0          0    0        0      0       0   \n",
      "5011        0        0          0          0    0        0      0       0   \n",
      "5012        0        0          0          0    0        0      1       0   \n",
      "5013        0        0          0          0    0        0      0       1   \n",
      "5014        0        0          0          0    0        0      1       0   \n",
      "5015        0        0          0          0    0        0      0       0   \n",
      "5016        0        0          0          0    0        0      1       0   \n",
      "5017        0        1          0          0    0        0      0       0   \n",
      "5018        0        0          0          0    0        0      0       0   \n",
      "5019        1        0          0          0    0        0      0       0   \n",
      "5021        0        1          0          0    0        0      0       0   \n",
      "5022        0        0          0          0    0        0      0       0   \n",
      "5023        0        1          0          0    0        0      0       0   \n",
      "5024        0        0          0          0    0        0      0       0   \n",
      "5025        0        0          0          0    0        0      1       0   \n",
      "5026        0        1          0          0    0        0      0       0   \n",
      "5027        0        0          0          0    0        0      0       0   \n",
      "5028        0        0          0          0    0        0      0       0   \n",
      "5029        1        0          0          0    0        0      1       0   \n",
      "5031        0        0          0          0    0        0      0       0   \n",
      "5033        0        0          0          0    0        0      0       0   \n",
      "5034        0        0          0          0    0        0      0       0   \n",
      "5035        0        1          0          0    0        0      1       0   \n",
      "5036        0        0          0          0    0        0      1       0   \n",
      "5037        0        0          0          0    0        0      0       0   \n",
      "5040        0        0          0          0    0        0      0       0   \n",
      "5041        0        1          0          0    0        0      0       0   \n",
      "5042        0        0          0          0    0        0      0       0   \n",
      "\n",
      "      Short  \n",
      "0         0  \n",
      "1         0  \n",
      "2         0  \n",
      "3         0  \n",
      "5         0  \n",
      "6         0  \n",
      "7         0  \n",
      "8         0  \n",
      "9         0  \n",
      "10        0  \n",
      "11        0  \n",
      "12        0  \n",
      "13        0  \n",
      "14        0  \n",
      "15        0  \n",
      "16        0  \n",
      "17        0  \n",
      "18        0  \n",
      "19        0  \n",
      "20        0  \n",
      "21        0  \n",
      "22        0  \n",
      "23        0  \n",
      "24        0  \n",
      "25        0  \n",
      "26        0  \n",
      "27        0  \n",
      "28        0  \n",
      "29        0  \n",
      "30        0  \n",
      "...     ...  \n",
      "5008      0  \n",
      "5009      0  \n",
      "5010      0  \n",
      "5011      0  \n",
      "5012      0  \n",
      "5013      0  \n",
      "5014      0  \n",
      "5015      0  \n",
      "5016      0  \n",
      "5017      0  \n",
      "5018      0  \n",
      "5019      0  \n",
      "5021      0  \n",
      "5022      0  \n",
      "5023      0  \n",
      "5024      0  \n",
      "5025      0  \n",
      "5026      0  \n",
      "5027      0  \n",
      "5028      0  \n",
      "5029      0  \n",
      "5031      0  \n",
      "5033      0  \n",
      "5034      0  \n",
      "5035      0  \n",
      "5036      0  \n",
      "5037      0  \n",
      "5040      0  \n",
      "5041      0  \n",
      "5042      0  \n",
      "\n",
      "[4900 rows x 43 columns]\n"
     ]
    }
   ],
   "source": [
    "def content_to_numerical(data):\n",
    "    data = data.replace(to_replace='G', value=0)\n",
    "    data = data.replace(to_replace='PG', value=12)\n",
    "    data = data.replace(to_replace='PG-13', value=13)\n",
    "    data = data.replace(to_replace='R', value=17)\n",
    "    data = data.replace(to_replace='NC-17', value=17)\n",
    "    \n",
    "    data = data.replace(to_replace='TV-PG', value=12)\n",
    "    data = data.replace(to_replace='TV-MA', value=17)\n",
    "    data = data.replace(to_replace='TV-G', value=0)\n",
    "    data = data.replace(to_replace='TV-Y', value=0)\n",
    "    data = data.replace(to_replace='TV-Y7', value=7)\n",
    "    data = data.replace(to_replace='TV-14', value=14)\n",
    "    \n",
    "    data = data.replace(to_replace='Not Rated', value=0)\n",
    "    data = data.replace(to_replace='Unrated', value=0)\n",
    "    data = data.replace(to_replace='Approved', value=0)\n",
    "    data = data.replace(to_replace='Passed', value=0)\n",
    "    \n",
    "    data = data.replace(to_replace='X', value=17)\n",
    "    data = data.replace(to_replace='M', value=17)\n",
    "    data = data.replace(to_replace='GP', value=12)\n",
    "    \n",
    "    return data\n",
    "\n",
    "movie_data = content_to_numerical(movie_data)\n",
    "print(movie_data)"
   ]
  },
  {
   "cell_type": "markdown",
   "metadata": {},
   "source": [
    "# Replacing NaNs with averages"
   ]
  },
  {
   "cell_type": "code",
   "execution_count": 213,
   "metadata": {
    "collapsed": false
   },
   "outputs": [
    {
     "name": "stdout",
     "output_type": "stream",
     "text": [
      "6648.62979592\n",
      "1684.1759902\n",
      "653.779595175\n",
      "2.1284344634\n",
      "39892924.8304\n",
      "9849.74408163\n",
      "692.662510221\n",
      "48514997.6517\n",
      "2002.39901881\n",
      "108.243568804\n",
      "1.36272504092\n",
      "13.6882617062\n"
     ]
    }
   ],
   "source": [
    "def replace_NaNs(col):\n",
    "    # compute average\n",
    "    avg = np.sum(col) / (len(col) - np.sum(col.isnull()))\n",
    "    print(avg)\n",
    "    \n",
    "    # replace NaNs with average\n",
    "    col = col.fillna(value=avg)\n",
    "    return col\n",
    "\n",
    "pd.options.mode.chained_assignment= None\n",
    "\n",
    "to_replace_NaNs = ['actor_1_facebook_likes', 'actor_2_facebook_likes', 'actor_3_facebook_likes', \n",
    "               'aspect_ratio', 'budget', 'cast_total_facebook_likes', 'director_facebook_likes', 'gross', 'title_year'\n",
    "                   , 'duration', 'facenumber_in_poster', 'content_rating']\n",
    "for column in to_replace_NaNs:\n",
    "    movie_data[column] = replace_NaNs(movie_data[column])\n"
   ]
  },
  {
   "cell_type": "markdown",
   "metadata": {
    "collapsed": false,
    "scrolled": true
   },
   "source": [
    "# Delete columns with too little 1's"
   ]
  },
  {
   "cell_type": "code",
   "execution_count": 214,
   "metadata": {
    "collapsed": false,
    "scrolled": true
   },
   "outputs": [
    {
     "name": "stdout",
     "output_type": "stream",
     "text": [
      "History :\n",
      "203\n",
      "Film-Noir :\n",
      "6\n",
      "Comedy :\n",
      "1824\n",
      "Horror :\n",
      "550\n",
      "Drama :\n",
      "2509\n",
      "Thriller :\n",
      "1375\n",
      "Fantasy :\n",
      "593\n",
      "Sport :\n",
      "181\n",
      "Adventure :\n",
      "910\n",
      "Documentary :\n",
      "111\n",
      "Action :\n",
      "1131\n",
      "Western :\n",
      "97\n",
      "Music :\n",
      "213\n",
      "Reality-TV :\n",
      "0\n",
      "Sci-Fi :\n",
      "596\n",
      "News :\n",
      "3\n",
      "Game-Show :\n",
      "0\n",
      "Mystery :\n",
      "475\n",
      "Romance :\n",
      "1088\n",
      "Biography :\n",
      "292\n",
      "Animation :\n",
      "233\n",
      "War :\n",
      "208\n",
      "Musical :\n",
      "132\n",
      "Crime :\n",
      "858\n",
      "Family :\n",
      "532\n",
      "Short :\n",
      "3\n"
     ]
    }
   ],
   "source": [
    "for genre in genres_set:\n",
    "    print(genre, ':')\n",
    "    counter = 0\n",
    "    for value in movie_data[genre]:\n",
    "        if value == 1.0:\n",
    "            counter+=1\n",
    "    print(counter)\n",
    "    \n",
    "weghalen = ['Game-Show', 'News', 'Reality-TV', 'Short', 'Film-Noir']\n",
    "\n",
    "for name in weghalen:\n",
    "    del movie_data[name]\n",
    "    \n",
    "#print(movie_data)"
   ]
  },
  {
   "cell_type": "markdown",
   "metadata": {},
   "source": [
    "# Trainset en testset"
   ]
  },
  {
   "cell_type": "code",
   "execution_count": 215,
   "metadata": {
    "collapsed": false,
    "scrolled": true
   },
   "outputs": [
    {
     "name": "stdout",
     "output_type": "stream",
     "text": [
      "2940\n",
      "980\n",
      "980\n"
     ]
    }
   ],
   "source": [
    "ratings = movie_data['imdb_score'].values\n",
    "del movie_data['imdb_score']\n",
    "\n",
    "X = movie_data.values\n",
    "X_std = StandardScaler().fit_transform(X)\n",
    "\n",
    "number_of_samples = len(ratings)\n",
    "np.random.seed(0)\n",
    "random_indices = np.random.permutation(number_of_samples)\n",
    "num_training_samples = int(number_of_samples*0.6)\n",
    "num_validation_samples = int(number_of_samples*0.2)+num_training_samples\n",
    "\n",
    "movie_training = X_std[random_indices[:num_training_samples]]\n",
    "ratings_training = ratings[random_indices[:num_training_samples]]\n",
    "\n",
    "movie_validation = X_std[random_indices[num_training_samples:num_validation_samples]]\n",
    "ratings_validation = ratings[random_indices[num_training_samples:num_validation_samples]]\n",
    "\n",
    "movie_test = X_std[random_indices[num_validation_samples:]]\n",
    "ratings_test = ratings[random_indices[num_validation_samples:]]\n",
    "\n",
    "ratings_training = list(ratings_training)\n",
    "\n",
    "print(len(ratings_training))\n",
    "print(len(ratings_validation))\n",
    "print(len(ratings_test))"
   ]
  },
  {
   "cell_type": "markdown",
   "metadata": {},
   "source": [
    "# Leren"
   ]
  },
  {
   "cell_type": "code",
   "execution_count": 216,
   "metadata": {
    "collapsed": true
   },
   "outputs": [],
   "source": [
    "def relative_error(y_predict, y):\n",
    "    \n",
    "    error = 0\n",
    "\n",
    "    for i in range(len(y)):\n",
    "        error += (abs(y_predict[i]-y[i]))/y[i]\n",
    "    training_error = error/len(y)*100\n",
    "    \n",
    "    return training_error"
   ]
  },
  {
   "cell_type": "markdown",
   "metadata": {},
   "source": [
    "### neural networks"
   ]
  },
  {
   "cell_type": "code",
   "execution_count": 217,
   "metadata": {
    "collapsed": false
   },
   "outputs": [
    {
     "name": "stdout",
     "output_type": "stream",
     "text": [
      "Train error = 10.481533827623254 percent in neural network algorithm\n",
      "Test error = 10.977370064632183 percent in neural network algorithm\n"
     ]
    }
   ],
   "source": [
    "from sklearn.neural_network import MLPRegressor\n",
    "\n",
    "neural = MLPRegressor(activation='logistic', max_iter = 500)\n",
    "\n",
    "neural.fit(movie_training, ratings_training)\n",
    "y_neural_1 = neural.predict(movie_training)\n",
    "y_neural_2 = neural.predict(movie_test)\n",
    "\n",
    "training_error = relative_error(y_neural_1, ratings_training)\n",
    "\n",
    "print(\"Train error = \"+'{}'.format(training_error)+\" percent\"+\" in neural network algorithm\")\n",
    "\n",
    "test_error = relative_error(y_neural_2,ratings_test)\n",
    "\n",
    "print(\"Test error = \"'{}'.format(test_error)+\" percent\"+\" in neural network algorithm\")"
   ]
  },
  {
   "cell_type": "markdown",
   "metadata": {
    "collapsed": true
   },
   "source": [
    "### k-nearest neighbors"
   ]
  },
  {
   "cell_type": "code",
   "execution_count": 218,
   "metadata": {
    "collapsed": false
   },
   "outputs": [
    {
     "name": "stdout",
     "output_type": "stream",
     "text": [
      "Train error = 10.481533827623254 percent in knn algorithm\n",
      "Test error = 12.673746424295157 percent in knn algorithm\n"
     ]
    }
   ],
   "source": [
    "regressor = KNeighborsRegressor()\n",
    "regressor.fit(movie_training, ratings_training)\n",
    "y_predict_train = regressor.predict(movie_training)\n",
    "y_predict_train = list(y_predict_train)\n",
    "\n",
    "train_error = relative_error(y_predict_train,ratings_training)\n",
    "\n",
    "print(\"Train error = \"+'{}'.format(training_error)+\" percent\"+\" in knn algorithm\")\n",
    "\n",
    "y_predict_test = regressor.predict(movie_test)\n",
    "y_predict_test = list(y_predict_test)\n",
    "\n",
    "test_error = relative_error(y_predict_test, ratings_test)\n",
    "\n",
    "print(\"Test error = \"'{}'.format(test_error)+\" percent\"+\" in knn algorithm\")"
   ]
  },
  {
   "cell_type": "markdown",
   "metadata": {},
   "source": [
    "### Support vector machine"
   ]
  },
  {
   "cell_type": "code",
   "execution_count": 219,
   "metadata": {
    "collapsed": false
   },
   "outputs": [
    {
     "name": "stdout",
     "output_type": "stream",
     "text": [
      "Train error = 9.150128853631944\n",
      "Test error = 10.858612788391119\n"
     ]
    }
   ],
   "source": [
    "from sklearn.svm import SVR, NuSVR, LinearSVR\n",
    "svr = SVR()\n",
    "svr.fit(movie_training, ratings_training)\n",
    "y_train = svr.predict(movie_training)\n",
    "y_train = list(y_train)\n",
    "\n",
    "train_error = relative_error(y_train, ratings_training)\n",
    "\n",
    "print (\"Train error = \"+'{}'.format(train_error))\n",
    "\n",
    "y_test = svr.predict(movie_test)\n",
    "y_test = list(y_test)\n",
    "\n",
    "test_error = relative_error(y_test, ratings_test)\n",
    "\n",
    "print (\"Test error = \"+'{}'.format(test_error))"
   ]
  },
  {
   "cell_type": "markdown",
   "metadata": {
    "collapsed": true
   },
   "source": [
    "### Random Forest"
   ]
  },
  {
   "cell_type": "code",
   "execution_count": 220,
   "metadata": {
    "collapsed": false
   },
   "outputs": [
    {
     "name": "stdout",
     "output_type": "stream",
     "text": [
      "Train error = 10.481533827623254 percent in random forest\n",
      "Test error = 12.673746424295157 percent in random forest\n"
     ]
    }
   ],
   "source": [
    "from sklearn.ensemble import RandomForestRegressor, BaggingRegressor\n",
    "\n",
    "random_forest = RandomForestRegressor()\n",
    "random_forest.fit(movie_training, ratings_training)\n",
    "y_predict_train = regressor.predict(movie_training)\n",
    "y_predict_train = list(y_predict_train)\n",
    "\n",
    "test_error = relative_error(y_predict_train, ratings_training)\n",
    "\n",
    "print(\"Train error = \"+'{}'.format(training_error)+\" percent\"+\" in random forest\")\n",
    "\n",
    "y_predict_test = regressor.predict(movie_test)\n",
    "y_predict_test = list(y_predict_test)\n",
    "\n",
    "test_error = relative_error(y_predict_test, ratings_test)\n",
    "\n",
    "print(\"Test error = \"'{}'.format(test_error)+\" percent\"+\" in random forest\")"
   ]
  },
  {
   "cell_type": "markdown",
   "metadata": {},
   "source": [
    "### Bagging regressor"
   ]
  },
  {
   "cell_type": "code",
   "execution_count": 221,
   "metadata": {
    "collapsed": false
   },
   "outputs": [
    {
     "name": "stdout",
     "output_type": "stream",
     "text": [
      "Train error = 10.481533827623254 percent in random forest\n",
      "Test error = 10.843104428460116 percent in random forest\n"
     ]
    }
   ],
   "source": [
    "#regressor  = BaggingRegressor(MLPRegressor(max_iter = 300))\n",
    "regressor  = BaggingRegressor(SVR())\n",
    "regressor.fit(movie_training, ratings_training)\n",
    "y_predict_train = regressor.predict(movie_training)\n",
    "y_predict_train = list(y_predict_train)\n",
    "\n",
    "test_error = relative_error(y_predict_train ,ratings_training)\n",
    "\n",
    "print(\"Train error = \"+'{}'.format(training_error)+\" percent\"+\" in random forest\")\n",
    "\n",
    "y_predict_test = regressor.predict(movie_test)\n",
    "y_predict_test = list(y_predict_test)\n",
    "\n",
    "test_error = relative_error(y_predict_test, ratings_test)\n",
    "\n",
    "print(\"Test error = \"'{}'.format(test_error)+\" percent\"+\" in random forest\")"
   ]
  },
  {
   "cell_type": "markdown",
   "metadata": {},
   "source": [
    "# Validation"
   ]
  },
  {
   "cell_type": "markdown",
   "metadata": {},
   "source": [
    "### neural networks"
   ]
  },
  {
   "cell_type": "code",
   "execution_count": 223,
   "metadata": {
    "collapsed": false
   },
   "outputs": [],
   "source": [
    "neural_1 = MLPRegressor(hidden_layer_sizes = 5, max_iter = 1000)\n",
    "neural_2 = MLPRegressor(hidden_layer_sizes = 20, max_iter = 1000)\n",
    "neural_3 = MLPRegressor(hidden_layer_sizes = 100, max_iter = 1000)"
   ]
  },
  {
   "cell_type": "code",
   "execution_count": null,
   "metadata": {
    "collapsed": true
   },
   "outputs": [],
   "source": []
  }
 ],
 "metadata": {
  "anaconda-cloud": {},
  "kernelspec": {
   "display_name": "Python [Root]",
   "language": "python",
   "name": "Python [Root]"
  },
  "language_info": {
   "codemirror_mode": {
    "name": "ipython",
    "version": 3
   },
   "file_extension": ".py",
   "mimetype": "text/x-python",
   "name": "python",
   "nbconvert_exporter": "python",
   "pygments_lexer": "ipython3",
   "version": "3.5.2"
  }
 },
 "nbformat": 4,
 "nbformat_minor": 0
}
